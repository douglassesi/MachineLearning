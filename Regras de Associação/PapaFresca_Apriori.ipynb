{
  "nbformat": 4,
  "nbformat_minor": 0,
  "metadata": {
    "colab": {
      "name": "PapaFresca - Apriori.ipynb",
      "provenance": [],
      "collapsed_sections": [],
      "toc_visible": true,
      "include_colab_link": true
    },
    "kernelspec": {
      "name": "python3",
      "display_name": "Python 3"
    }
  },
  "cells": [
    {
      "cell_type": "markdown",
      "metadata": {
        "id": "view-in-github",
        "colab_type": "text"
      },
      "source": [
        "<a href=\"https://colab.research.google.com/github/douglassesi/MachineLearning/blob/main/Regras%20de%20Associa%C3%A7%C3%A3o/PapaFresca_Apriori.ipynb\" target=\"_parent\"><img src=\"https://colab.research.google.com/assets/colab-badge.svg\" alt=\"Open In Colab\"/></a>"
      ]
    },
    {
      "cell_type": "markdown",
      "metadata": {
        "id": "5Dw4ZSdLsk_X"
      },
      "source": [
        "#Regras de Associação - PapaFresca\n",
        "\n",
        "Utilizando o arquivo papafrescaSimNao.csv que é um recorte de teste deste projeto, queremos descobrir as regras de associação relacionadas ao consumo de batata. A relação de regras relacionadas ao questionamento da batata engordar ou não.\n"
      ]
    },
    {
      "cell_type": "markdown",
      "metadata": {
        "id": "-iAya0RsE2Ix"
      },
      "source": [
        "##Importar Bibliotecas"
      ]
    },
    {
      "cell_type": "code",
      "metadata": {
        "id": "oCQGFHmLuUVJ"
      },
      "source": [
        "import os\n",
        "import pandas as pd\n",
        "import seaborn as sns\n",
        "from matplotlib import pyplot as plt\n",
        "from mlxtend.preprocessing import TransactionEncoder\n",
        "from mlxtend.frequent_patterns import apriori\n",
        "from mlxtend.frequent_patterns import association_rules"
      ],
      "execution_count": 1,
      "outputs": []
    },
    {
      "cell_type": "markdown",
      "metadata": {
        "id": "pQ5hCPhcFCMo"
      },
      "source": [
        "##Download do repositório"
      ]
    },
    {
      "cell_type": "code",
      "metadata": {
        "colab": {
          "base_uri": "https://localhost:8080/"
        },
        "id": "77jbPyRk_MDv",
        "outputId": "2dd2c560-f186-4fd0-eebd-1f6e4091f473"
      },
      "source": [
        "!git clone https://github.com/douglassesi/MachineLearning"
      ],
      "execution_count": 2,
      "outputs": [
        {
          "output_type": "stream",
          "text": [
            "fatal: destination path 'MachineLearning' already exists and is not an empty directory.\n"
          ],
          "name": "stdout"
        }
      ]
    },
    {
      "cell_type": "markdown",
      "metadata": {
        "id": "bwoJeOqqFSup"
      },
      "source": [
        "##Carregar o arquivo PapaFresca"
      ]
    },
    {
      "cell_type": "code",
      "metadata": {
        "id": "yAvflmG9uPKS",
        "colab": {
          "base_uri": "https://localhost:8080/",
          "height": 204
        },
        "outputId": "52466e82-b4f0-47ff-c9b9-cff16dfb1d7c"
      },
      "source": [
        "os.chdir(\"/content/MachineLearning/Regras de Associação/src\")\n",
        "\n",
        "papa = pd.read_csv(\"papafrescaSimNao.csv\",\n",
        "                   sep=\";\")\n",
        "papa.head()"
      ],
      "execution_count": 3,
      "outputs": [
        {
          "output_type": "execute_result",
          "data": {
            "text/html": [
              "<div>\n",
              "<style scoped>\n",
              "    .dataframe tbody tr th:only-of-type {\n",
              "        vertical-align: middle;\n",
              "    }\n",
              "\n",
              "    .dataframe tbody tr th {\n",
              "        vertical-align: top;\n",
              "    }\n",
              "\n",
              "    .dataframe thead th {\n",
              "        text-align: right;\n",
              "    }\n",
              "</style>\n",
              "<table border=\"1\" class=\"dataframe\">\n",
              "  <thead>\n",
              "    <tr style=\"text-align: right;\">\n",
              "      <th></th>\n",
              "      <th>TV</th>\n",
              "      <th>RADIO</th>\n",
              "      <th>PRENSA</th>\n",
              "      <th>INTERNET</th>\n",
              "      <th>Lapapaessaludable</th>\n",
              "      <th>Lapapadaenergia</th>\n",
              "      <th>Lapapaengorda</th>\n",
              "      <th>Lapapaeseconomica</th>\n",
              "      <th>Vapor</th>\n",
              "      <th>Sopa</th>\n",
              "      <th>Pure</th>\n",
              "      <th>Fritas</th>\n",
              "      <th>Sudada</th>\n",
              "      <th>Salada</th>\n",
              "      <th>OtrasFormas</th>\n",
              "      <th>SOPAS</th>\n",
              "      <th>GRANOS</th>\n",
              "      <th>CARNE</th>\n",
              "      <th>HUEVOS</th>\n",
              "      <th>ARROZ</th>\n",
              "      <th>ENSALADA</th>\n",
              "      <th>NADAONINGUNO</th>\n",
              "      <th>OTROS</th>\n",
              "    </tr>\n",
              "  </thead>\n",
              "  <tbody>\n",
              "    <tr>\n",
              "      <th>0</th>\n",
              "      <td>Nao</td>\n",
              "      <td>Nao</td>\n",
              "      <td>Nao</td>\n",
              "      <td>Nao</td>\n",
              "      <td>Nao</td>\n",
              "      <td>Nao</td>\n",
              "      <td>Sim</td>\n",
              "      <td>Sim</td>\n",
              "      <td>Nao</td>\n",
              "      <td>Nao</td>\n",
              "      <td>Nao</td>\n",
              "      <td>Nao</td>\n",
              "      <td>Sim</td>\n",
              "      <td>Nao</td>\n",
              "      <td>Nao</td>\n",
              "      <td>Nao</td>\n",
              "      <td>Nao</td>\n",
              "      <td>Sim</td>\n",
              "      <td>Nao</td>\n",
              "      <td>Sim</td>\n",
              "      <td>Nao</td>\n",
              "      <td>Nao</td>\n",
              "      <td>Nao</td>\n",
              "    </tr>\n",
              "    <tr>\n",
              "      <th>1</th>\n",
              "      <td>Nao</td>\n",
              "      <td>Nao</td>\n",
              "      <td>Nao</td>\n",
              "      <td>Nao</td>\n",
              "      <td>Nao</td>\n",
              "      <td>Nao</td>\n",
              "      <td>Sim</td>\n",
              "      <td>Sim</td>\n",
              "      <td>Nao</td>\n",
              "      <td>Nao</td>\n",
              "      <td>Nao</td>\n",
              "      <td>Sim</td>\n",
              "      <td>Nao</td>\n",
              "      <td>Nao</td>\n",
              "      <td>Nao</td>\n",
              "      <td>Nao</td>\n",
              "      <td>Nao</td>\n",
              "      <td>Nao</td>\n",
              "      <td>Nao</td>\n",
              "      <td>Sim</td>\n",
              "      <td>Nao</td>\n",
              "      <td>Nao</td>\n",
              "      <td>Sim</td>\n",
              "    </tr>\n",
              "    <tr>\n",
              "      <th>2</th>\n",
              "      <td>Nao</td>\n",
              "      <td>Nao</td>\n",
              "      <td>Nao</td>\n",
              "      <td>Nao</td>\n",
              "      <td>Nao</td>\n",
              "      <td>Nao</td>\n",
              "      <td>Sim</td>\n",
              "      <td>Sim</td>\n",
              "      <td>Nao</td>\n",
              "      <td>Nao</td>\n",
              "      <td>Nao</td>\n",
              "      <td>Nao</td>\n",
              "      <td>Nao</td>\n",
              "      <td>Nao</td>\n",
              "      <td>Sim</td>\n",
              "      <td>Nao</td>\n",
              "      <td>Nao</td>\n",
              "      <td>Nao</td>\n",
              "      <td>Nao</td>\n",
              "      <td>Nao</td>\n",
              "      <td>Nao</td>\n",
              "      <td>Sim</td>\n",
              "      <td>Nao</td>\n",
              "    </tr>\n",
              "    <tr>\n",
              "      <th>3</th>\n",
              "      <td>Nao</td>\n",
              "      <td>Nao</td>\n",
              "      <td>Nao</td>\n",
              "      <td>Nao</td>\n",
              "      <td>Nao</td>\n",
              "      <td>Nao</td>\n",
              "      <td>Sim</td>\n",
              "      <td>Sim</td>\n",
              "      <td>Nao</td>\n",
              "      <td>Nao</td>\n",
              "      <td>Nao</td>\n",
              "      <td>Nao</td>\n",
              "      <td>Sim</td>\n",
              "      <td>Nao</td>\n",
              "      <td>Nao</td>\n",
              "      <td>Nao</td>\n",
              "      <td>Nao</td>\n",
              "      <td>Nao</td>\n",
              "      <td>Nao</td>\n",
              "      <td>Sim</td>\n",
              "      <td>Nao</td>\n",
              "      <td>Nao</td>\n",
              "      <td>Sim</td>\n",
              "    </tr>\n",
              "    <tr>\n",
              "      <th>4</th>\n",
              "      <td>Nao</td>\n",
              "      <td>Nao</td>\n",
              "      <td>Nao</td>\n",
              "      <td>Nao</td>\n",
              "      <td>Nao</td>\n",
              "      <td>Nao</td>\n",
              "      <td>Sim</td>\n",
              "      <td>Sim</td>\n",
              "      <td>Nao</td>\n",
              "      <td>Nao</td>\n",
              "      <td>Nao</td>\n",
              "      <td>Nao</td>\n",
              "      <td>Nao</td>\n",
              "      <td>Sim</td>\n",
              "      <td>Nao</td>\n",
              "      <td>Nao</td>\n",
              "      <td>Nao</td>\n",
              "      <td>Sim</td>\n",
              "      <td>Nao</td>\n",
              "      <td>Sim</td>\n",
              "      <td>Nao</td>\n",
              "      <td>Nao</td>\n",
              "      <td>Nao</td>\n",
              "    </tr>\n",
              "  </tbody>\n",
              "</table>\n",
              "</div>"
            ],
            "text/plain": [
              "    TV RADIO PRENSA INTERNET  ... ARROZ ENSALADA NADAONINGUNO OTROS\n",
              "0  Nao   Nao    Nao      Nao  ...   Sim      Nao          Nao   Nao\n",
              "1  Nao   Nao    Nao      Nao  ...   Sim      Nao          Nao   Sim\n",
              "2  Nao   Nao    Nao      Nao  ...   Nao      Nao          Sim   Nao\n",
              "3  Nao   Nao    Nao      Nao  ...   Sim      Nao          Nao   Sim\n",
              "4  Nao   Nao    Nao      Nao  ...   Sim      Nao          Nao   Nao\n",
              "\n",
              "[5 rows x 23 columns]"
            ]
          },
          "metadata": {
            "tags": []
          },
          "execution_count": 3
        }
      ]
    },
    {
      "cell_type": "markdown",
      "metadata": {
        "id": "64R7ERjSItgB"
      },
      "source": [
        "##Tratamento dos dados"
      ]
    },
    {
      "cell_type": "markdown",
      "metadata": {
        "id": "EvO4ebD4JEKv"
      },
      "source": [
        "###Verificação de valores únicos no DataFrame"
      ]
    },
    {
      "cell_type": "code",
      "metadata": {
        "id": "e_cY-KdKnmGj",
        "colab": {
          "base_uri": "https://localhost:8080/"
        },
        "outputId": "1ec0942e-a6f5-41da-e932-534403ce35ac"
      },
      "source": [
        "pd.unique(papa.values.ravel())"
      ],
      "execution_count": 4,
      "outputs": [
        {
          "output_type": "execute_result",
          "data": {
            "text/plain": [
              "array(['Nao', 'Sim'], dtype=object)"
            ]
          },
          "metadata": {
            "tags": []
          },
          "execution_count": 4
        }
      ]
    },
    {
      "cell_type": "markdown",
      "metadata": {
        "id": "d6N1Wq7OJXAv"
      },
      "source": [
        "###Substituindo os valores \"Sim\" e \"Nao\" por True e False"
      ]
    },
    {
      "cell_type": "code",
      "metadata": {
        "id": "ChfntYABoeY0"
      },
      "source": [
        "papa.replace({'Nao': False, 'Sim': True}, inplace=True)"
      ],
      "execution_count": 5,
      "outputs": []
    },
    {
      "cell_type": "markdown",
      "metadata": {
        "id": "YEG6n18TJ4Kv"
      },
      "source": [
        "###Shape do Dataset"
      ]
    },
    {
      "cell_type": "code",
      "metadata": {
        "id": "2hOlR8PZulqx",
        "colab": {
          "base_uri": "https://localhost:8080/"
        },
        "outputId": "aca30665-7abd-4454-8060-787cc791a0db"
      },
      "source": [
        "papa.shape"
      ],
      "execution_count": 6,
      "outputs": [
        {
          "output_type": "execute_result",
          "data": {
            "text/plain": [
              "(20869, 23)"
            ]
          },
          "metadata": {
            "tags": []
          },
          "execution_count": 6
        }
      ]
    },
    {
      "cell_type": "markdown",
      "metadata": {
        "id": "kLKX15hTKCZj"
      },
      "source": [
        "###Tipos de dados contidos no DataFrame"
      ]
    },
    {
      "cell_type": "code",
      "metadata": {
        "id": "lqbyCbynwKMd",
        "colab": {
          "base_uri": "https://localhost:8080/"
        },
        "outputId": "43bba0dd-b86c-4c72-ccf9-8b083de6bd18"
      },
      "source": [
        "papa.info()"
      ],
      "execution_count": 7,
      "outputs": [
        {
          "output_type": "stream",
          "text": [
            "<class 'pandas.core.frame.DataFrame'>\n",
            "RangeIndex: 20869 entries, 0 to 20868\n",
            "Data columns (total 23 columns):\n",
            " #   Column             Non-Null Count  Dtype\n",
            "---  ------             --------------  -----\n",
            " 0   TV                 20869 non-null  bool \n",
            " 1   RADIO              20869 non-null  bool \n",
            " 2   PRENSA             20869 non-null  bool \n",
            " 3   INTERNET           20869 non-null  bool \n",
            " 4   Lapapaessaludable  20869 non-null  bool \n",
            " 5   Lapapadaenergia    20869 non-null  bool \n",
            " 6   Lapapaengorda      20869 non-null  bool \n",
            " 7   Lapapaeseconomica  20869 non-null  bool \n",
            " 8   Vapor              20869 non-null  bool \n",
            " 9   Sopa               20869 non-null  bool \n",
            " 10  Pure               20869 non-null  bool \n",
            " 11  Fritas             20869 non-null  bool \n",
            " 12  Sudada             20869 non-null  bool \n",
            " 13  Salada             20869 non-null  bool \n",
            " 14  OtrasFormas        20869 non-null  bool \n",
            " 15  SOPAS              20869 non-null  bool \n",
            " 16  GRANOS             20869 non-null  bool \n",
            " 17  CARNE              20869 non-null  bool \n",
            " 18  HUEVOS             20869 non-null  bool \n",
            " 19  ARROZ              20869 non-null  bool \n",
            " 20  ENSALADA           20869 non-null  bool \n",
            " 21  NADAONINGUNO       20869 non-null  bool \n",
            " 22  OTROS              20869 non-null  bool \n",
            "dtypes: bool(23)\n",
            "memory usage: 468.9 KB\n"
          ],
          "name": "stdout"
        }
      ]
    },
    {
      "cell_type": "markdown",
      "metadata": {
        "id": "ylKLTWkUKHwn"
      },
      "source": [
        "###Validação de valores nulos"
      ]
    },
    {
      "cell_type": "code",
      "metadata": {
        "id": "nYhkUoCawNr1",
        "colab": {
          "base_uri": "https://localhost:8080/"
        },
        "outputId": "0533873c-fb93-407d-da09-d9fe681e5792"
      },
      "source": [
        "papa.isnull().sum()"
      ],
      "execution_count": 8,
      "outputs": [
        {
          "output_type": "execute_result",
          "data": {
            "text/plain": [
              "TV                   0\n",
              "RADIO                0\n",
              "PRENSA               0\n",
              "INTERNET             0\n",
              "Lapapaessaludable    0\n",
              "Lapapadaenergia      0\n",
              "Lapapaengorda        0\n",
              "Lapapaeseconomica    0\n",
              "Vapor                0\n",
              "Sopa                 0\n",
              "Pure                 0\n",
              "Fritas               0\n",
              "Sudada               0\n",
              "Salada               0\n",
              "OtrasFormas          0\n",
              "SOPAS                0\n",
              "GRANOS               0\n",
              "CARNE                0\n",
              "HUEVOS               0\n",
              "ARROZ                0\n",
              "ENSALADA             0\n",
              "NADAONINGUNO         0\n",
              "OTROS                0\n",
              "dtype: int64"
            ]
          },
          "metadata": {
            "tags": []
          },
          "execution_count": 8
        }
      ]
    },
    {
      "cell_type": "markdown",
      "metadata": {
        "id": "kMGPl5WmKrJi"
      },
      "source": [
        "###Verificação da distribuição das variáveis do DataFrame"
      ]
    },
    {
      "cell_type": "code",
      "metadata": {
        "id": "GLBBwiC-wPiV",
        "colab": {
          "base_uri": "https://localhost:8080/",
          "height": 173
        },
        "outputId": "a68ed015-19f4-4907-80ab-bbc5de096047"
      },
      "source": [
        "papa.describe()"
      ],
      "execution_count": 9,
      "outputs": [
        {
          "output_type": "execute_result",
          "data": {
            "text/html": [
              "<div>\n",
              "<style scoped>\n",
              "    .dataframe tbody tr th:only-of-type {\n",
              "        vertical-align: middle;\n",
              "    }\n",
              "\n",
              "    .dataframe tbody tr th {\n",
              "        vertical-align: top;\n",
              "    }\n",
              "\n",
              "    .dataframe thead th {\n",
              "        text-align: right;\n",
              "    }\n",
              "</style>\n",
              "<table border=\"1\" class=\"dataframe\">\n",
              "  <thead>\n",
              "    <tr style=\"text-align: right;\">\n",
              "      <th></th>\n",
              "      <th>TV</th>\n",
              "      <th>RADIO</th>\n",
              "      <th>PRENSA</th>\n",
              "      <th>INTERNET</th>\n",
              "      <th>Lapapaessaludable</th>\n",
              "      <th>Lapapadaenergia</th>\n",
              "      <th>Lapapaengorda</th>\n",
              "      <th>Lapapaeseconomica</th>\n",
              "      <th>Vapor</th>\n",
              "      <th>Sopa</th>\n",
              "      <th>Pure</th>\n",
              "      <th>Fritas</th>\n",
              "      <th>Sudada</th>\n",
              "      <th>Salada</th>\n",
              "      <th>OtrasFormas</th>\n",
              "      <th>SOPAS</th>\n",
              "      <th>GRANOS</th>\n",
              "      <th>CARNE</th>\n",
              "      <th>HUEVOS</th>\n",
              "      <th>ARROZ</th>\n",
              "      <th>ENSALADA</th>\n",
              "      <th>NADAONINGUNO</th>\n",
              "      <th>OTROS</th>\n",
              "    </tr>\n",
              "  </thead>\n",
              "  <tbody>\n",
              "    <tr>\n",
              "      <th>count</th>\n",
              "      <td>20869</td>\n",
              "      <td>20869</td>\n",
              "      <td>20869</td>\n",
              "      <td>20869</td>\n",
              "      <td>20869</td>\n",
              "      <td>20869</td>\n",
              "      <td>20869</td>\n",
              "      <td>20869</td>\n",
              "      <td>20869</td>\n",
              "      <td>20869</td>\n",
              "      <td>20869</td>\n",
              "      <td>20869</td>\n",
              "      <td>20869</td>\n",
              "      <td>20869</td>\n",
              "      <td>20869</td>\n",
              "      <td>20869</td>\n",
              "      <td>20869</td>\n",
              "      <td>20869</td>\n",
              "      <td>20869</td>\n",
              "      <td>20869</td>\n",
              "      <td>20869</td>\n",
              "      <td>20869</td>\n",
              "      <td>20869</td>\n",
              "    </tr>\n",
              "    <tr>\n",
              "      <th>unique</th>\n",
              "      <td>2</td>\n",
              "      <td>2</td>\n",
              "      <td>2</td>\n",
              "      <td>2</td>\n",
              "      <td>2</td>\n",
              "      <td>2</td>\n",
              "      <td>2</td>\n",
              "      <td>2</td>\n",
              "      <td>2</td>\n",
              "      <td>2</td>\n",
              "      <td>2</td>\n",
              "      <td>2</td>\n",
              "      <td>2</td>\n",
              "      <td>2</td>\n",
              "      <td>2</td>\n",
              "      <td>2</td>\n",
              "      <td>2</td>\n",
              "      <td>2</td>\n",
              "      <td>2</td>\n",
              "      <td>2</td>\n",
              "      <td>2</td>\n",
              "      <td>2</td>\n",
              "      <td>2</td>\n",
              "    </tr>\n",
              "    <tr>\n",
              "      <th>top</th>\n",
              "      <td>False</td>\n",
              "      <td>False</td>\n",
              "      <td>False</td>\n",
              "      <td>False</td>\n",
              "      <td>False</td>\n",
              "      <td>False</td>\n",
              "      <td>False</td>\n",
              "      <td>True</td>\n",
              "      <td>False</td>\n",
              "      <td>False</td>\n",
              "      <td>False</td>\n",
              "      <td>False</td>\n",
              "      <td>False</td>\n",
              "      <td>False</td>\n",
              "      <td>False</td>\n",
              "      <td>False</td>\n",
              "      <td>False</td>\n",
              "      <td>True</td>\n",
              "      <td>False</td>\n",
              "      <td>True</td>\n",
              "      <td>False</td>\n",
              "      <td>False</td>\n",
              "      <td>False</td>\n",
              "    </tr>\n",
              "    <tr>\n",
              "      <th>freq</th>\n",
              "      <td>12786</td>\n",
              "      <td>20526</td>\n",
              "      <td>20794</td>\n",
              "      <td>20373</td>\n",
              "      <td>15041</td>\n",
              "      <td>18285</td>\n",
              "      <td>11925</td>\n",
              "      <td>15272</td>\n",
              "      <td>18888</td>\n",
              "      <td>12468</td>\n",
              "      <td>19454</td>\n",
              "      <td>16903</td>\n",
              "      <td>17482</td>\n",
              "      <td>19517</td>\n",
              "      <td>19753</td>\n",
              "      <td>19122</td>\n",
              "      <td>18926</td>\n",
              "      <td>11587</td>\n",
              "      <td>18925</td>\n",
              "      <td>12722</td>\n",
              "      <td>15752</td>\n",
              "      <td>20458</td>\n",
              "      <td>16243</td>\n",
              "    </tr>\n",
              "  </tbody>\n",
              "</table>\n",
              "</div>"
            ],
            "text/plain": [
              "           TV  RADIO PRENSA INTERNET  ...  ARROZ ENSALADA NADAONINGUNO  OTROS\n",
              "count   20869  20869  20869    20869  ...  20869    20869        20869  20869\n",
              "unique      2      2      2        2  ...      2        2            2      2\n",
              "top     False  False  False    False  ...   True    False        False  False\n",
              "freq    12786  20526  20794    20373  ...  12722    15752        20458  16243\n",
              "\n",
              "[4 rows x 23 columns]"
            ]
          },
          "metadata": {
            "tags": []
          },
          "execution_count": 9
        }
      ]
    },
    {
      "cell_type": "markdown",
      "metadata": {
        "id": "J7kPzthXK0Oc"
      },
      "source": [
        "##Aplicação de Regras de Associação: Apriori"
      ]
    },
    {
      "cell_type": "code",
      "metadata": {
        "id": "mxgRG6nf0JOA",
        "colab": {
          "base_uri": "https://localhost:8080/",
          "height": 419
        },
        "outputId": "e344dc81-d500-40b0-b39d-79fb7fb1daeb"
      },
      "source": [
        "itens_freq = apriori(papa,\n",
        "                     min_support=0.05,\n",
        "                     use_colnames=True)\n",
        "\n",
        "itens_freq.sort_values(by='support', ascending=False)"
      ],
      "execution_count": 10,
      "outputs": [
        {
          "output_type": "execute_result",
          "data": {
            "text/html": [
              "<div>\n",
              "<style scoped>\n",
              "    .dataframe tbody tr th:only-of-type {\n",
              "        vertical-align: middle;\n",
              "    }\n",
              "\n",
              "    .dataframe tbody tr th {\n",
              "        vertical-align: top;\n",
              "    }\n",
              "\n",
              "    .dataframe thead th {\n",
              "        text-align: right;\n",
              "    }\n",
              "</style>\n",
              "<table border=\"1\" class=\"dataframe\">\n",
              "  <thead>\n",
              "    <tr style=\"text-align: right;\">\n",
              "      <th></th>\n",
              "      <th>support</th>\n",
              "      <th>itemsets</th>\n",
              "    </tr>\n",
              "  </thead>\n",
              "  <tbody>\n",
              "    <tr>\n",
              "      <th>4</th>\n",
              "      <td>0.731803</td>\n",
              "      <td>(Lapapaeseconomica)</td>\n",
              "    </tr>\n",
              "    <tr>\n",
              "      <th>16</th>\n",
              "      <td>0.609612</td>\n",
              "      <td>(ARROZ)</td>\n",
              "    </tr>\n",
              "    <tr>\n",
              "      <th>14</th>\n",
              "      <td>0.555225</td>\n",
              "      <td>(CARNE)</td>\n",
              "    </tr>\n",
              "    <tr>\n",
              "      <th>58</th>\n",
              "      <td>0.440174</td>\n",
              "      <td>(ARROZ, Lapapaeseconomica)</td>\n",
              "    </tr>\n",
              "    <tr>\n",
              "      <th>3</th>\n",
              "      <td>0.428578</td>\n",
              "      <td>(Lapapaengorda)</td>\n",
              "    </tr>\n",
              "    <tr>\n",
              "      <th>...</th>\n",
              "      <td>...</td>\n",
              "      <td>...</td>\n",
              "    </tr>\n",
              "    <tr>\n",
              "      <th>165</th>\n",
              "      <td>0.050889</td>\n",
              "      <td>(TV, CARNE, ARROZ, Lapapadaenergia)</td>\n",
              "    </tr>\n",
              "    <tr>\n",
              "      <th>94</th>\n",
              "      <td>0.050601</td>\n",
              "      <td>(TV, Fritas, Lapapaeseconomica)</td>\n",
              "    </tr>\n",
              "    <tr>\n",
              "      <th>82</th>\n",
              "      <td>0.050553</td>\n",
              "      <td>(TV, Fritas, Lapapaessaludable)</td>\n",
              "    </tr>\n",
              "    <tr>\n",
              "      <th>114</th>\n",
              "      <td>0.050266</td>\n",
              "      <td>(Lapapaessaludable, CARNE, ENSALADA)</td>\n",
              "    </tr>\n",
              "    <tr>\n",
              "      <th>69</th>\n",
              "      <td>0.050122</td>\n",
              "      <td>(Fritas, OTROS)</td>\n",
              "    </tr>\n",
              "  </tbody>\n",
              "</table>\n",
              "<p>194 rows × 2 columns</p>\n",
              "</div>"
            ],
            "text/plain": [
              "      support                              itemsets\n",
              "4    0.731803                   (Lapapaeseconomica)\n",
              "16   0.609612                               (ARROZ)\n",
              "14   0.555225                               (CARNE)\n",
              "58   0.440174            (ARROZ, Lapapaeseconomica)\n",
              "3    0.428578                       (Lapapaengorda)\n",
              "..        ...                                   ...\n",
              "165  0.050889   (TV, CARNE, ARROZ, Lapapadaenergia)\n",
              "94   0.050601       (TV, Fritas, Lapapaeseconomica)\n",
              "82   0.050553       (TV, Fritas, Lapapaessaludable)\n",
              "114  0.050266  (Lapapaessaludable, CARNE, ENSALADA)\n",
              "69   0.050122                       (Fritas, OTROS)\n",
              "\n",
              "[194 rows x 2 columns]"
            ]
          },
          "metadata": {
            "tags": []
          },
          "execution_count": 10
        }
      ]
    },
    {
      "cell_type": "code",
      "metadata": {
        "id": "Cs1ViPjp0L1i"
      },
      "source": [
        "regras_assoc = association_rules(itens_freq, \n",
        "                                 metric='confidence',\n",
        "                                 min_threshold=0.1)"
      ],
      "execution_count": 11,
      "outputs": []
    },
    {
      "cell_type": "code",
      "metadata": {
        "id": "sv5oCilR0MP8",
        "colab": {
          "base_uri": "https://localhost:8080/",
          "height": 359
        },
        "outputId": "7d1ed3da-da35-42e8-9e54-344a3fb007f8"
      },
      "source": [
        "cols = ['antecedents', 'consequents', 'support', 'confidence']\n",
        "assoc = regras_assoc[cols].sort_values(by='confidence', ascending=False)\n",
        "assoc.head(10)"
      ],
      "execution_count": 12,
      "outputs": [
        {
          "output_type": "execute_result",
          "data": {
            "text/html": [
              "<div>\n",
              "<style scoped>\n",
              "    .dataframe tbody tr th:only-of-type {\n",
              "        vertical-align: middle;\n",
              "    }\n",
              "\n",
              "    .dataframe tbody tr th {\n",
              "        vertical-align: top;\n",
              "    }\n",
              "\n",
              "    .dataframe thead th {\n",
              "        text-align: right;\n",
              "    }\n",
              "</style>\n",
              "<table border=\"1\" class=\"dataframe\">\n",
              "  <thead>\n",
              "    <tr style=\"text-align: right;\">\n",
              "      <th></th>\n",
              "      <th>antecedents</th>\n",
              "      <th>consequents</th>\n",
              "      <th>support</th>\n",
              "      <th>confidence</th>\n",
              "    </tr>\n",
              "  </thead>\n",
              "  <tbody>\n",
              "    <tr>\n",
              "      <th>704</th>\n",
              "      <td>(ARROZ, CARNE, Lapapadaenergia)</td>\n",
              "      <td>(TV)</td>\n",
              "      <td>0.050889</td>\n",
              "      <td>0.994382</td>\n",
              "    </tr>\n",
              "    <tr>\n",
              "      <th>692</th>\n",
              "      <td>(ARROZ, Lapapaeseconomica, Lapapadaenergia)</td>\n",
              "      <td>(TV)</td>\n",
              "      <td>0.054387</td>\n",
              "      <td>0.992133</td>\n",
              "    </tr>\n",
              "    <tr>\n",
              "      <th>169</th>\n",
              "      <td>(ARROZ, Lapapadaenergia)</td>\n",
              "      <td>(TV)</td>\n",
              "      <td>0.071014</td>\n",
              "      <td>0.991968</td>\n",
              "    </tr>\n",
              "    <tr>\n",
              "      <th>163</th>\n",
              "      <td>(CARNE, Lapapadaenergia)</td>\n",
              "      <td>(TV)</td>\n",
              "      <td>0.068331</td>\n",
              "      <td>0.987535</td>\n",
              "    </tr>\n",
              "    <tr>\n",
              "      <th>680</th>\n",
              "      <td>(CARNE, Lapapaeseconomica, Lapapadaenergia)</td>\n",
              "      <td>(TV)</td>\n",
              "      <td>0.052326</td>\n",
              "      <td>0.984671</td>\n",
              "    </tr>\n",
              "    <tr>\n",
              "      <th>3</th>\n",
              "      <td>(Lapapadaenergia)</td>\n",
              "      <td>(TV)</td>\n",
              "      <td>0.120130</td>\n",
              "      <td>0.970201</td>\n",
              "    </tr>\n",
              "    <tr>\n",
              "      <th>555</th>\n",
              "      <td>(Lapapaessaludable, CARNE, Lapapaengorda)</td>\n",
              "      <td>(TV)</td>\n",
              "      <td>0.060856</td>\n",
              "      <td>0.969466</td>\n",
              "    </tr>\n",
              "    <tr>\n",
              "      <th>115</th>\n",
              "      <td>(Lapapaessaludable, Lapapaengorda)</td>\n",
              "      <td>(TV)</td>\n",
              "      <td>0.103790</td>\n",
              "      <td>0.968261</td>\n",
              "    </tr>\n",
              "    <tr>\n",
              "      <th>569</th>\n",
              "      <td>(Lapapaessaludable, ARROZ, Lapapaengorda)</td>\n",
              "      <td>(TV)</td>\n",
              "      <td>0.061479</td>\n",
              "      <td>0.966114</td>\n",
              "    </tr>\n",
              "    <tr>\n",
              "      <th>157</th>\n",
              "      <td>(Lapapaeseconomica, Lapapadaenergia)</td>\n",
              "      <td>(TV)</td>\n",
              "      <td>0.092146</td>\n",
              "      <td>0.965846</td>\n",
              "    </tr>\n",
              "  </tbody>\n",
              "</table>\n",
              "</div>"
            ],
            "text/plain": [
              "                                     antecedents  ... confidence\n",
              "704              (ARROZ, CARNE, Lapapadaenergia)  ...   0.994382\n",
              "692  (ARROZ, Lapapaeseconomica, Lapapadaenergia)  ...   0.992133\n",
              "169                     (ARROZ, Lapapadaenergia)  ...   0.991968\n",
              "163                     (CARNE, Lapapadaenergia)  ...   0.987535\n",
              "680  (CARNE, Lapapaeseconomica, Lapapadaenergia)  ...   0.984671\n",
              "3                              (Lapapadaenergia)  ...   0.970201\n",
              "555    (Lapapaessaludable, CARNE, Lapapaengorda)  ...   0.969466\n",
              "115           (Lapapaessaludable, Lapapaengorda)  ...   0.968261\n",
              "569    (Lapapaessaludable, ARROZ, Lapapaengorda)  ...   0.966114\n",
              "157         (Lapapaeseconomica, Lapapadaenergia)  ...   0.965846\n",
              "\n",
              "[10 rows x 4 columns]"
            ]
          },
          "metadata": {
            "tags": []
          },
          "execution_count": 12
        }
      ]
    },
    {
      "cell_type": "code",
      "metadata": {
        "id": "4-Fi_AQ30MjM",
        "colab": {
          "base_uri": "https://localhost:8080/"
        },
        "outputId": "bf2dc3de-0425-458f-ffda-fefddaa05a57"
      },
      "source": [
        "print('Total de associaçoes com confiança >= 10% = {}'.format(assoc.shape[0]))\n",
        "print('Total de associaçoes com confiança >= 50% = {}'.format(assoc[assoc.confidence >= 0.5].shape[0]))"
      ],
      "execution_count": 13,
      "outputs": [
        {
          "output_type": "stream",
          "text": [
            "Total de associaçoes com confiança >= 10% = 1124\n",
            "Total de associaçoes com confiança >= 50% = 323\n"
          ],
          "name": "stdout"
        }
      ]
    },
    {
      "cell_type": "code",
      "metadata": {
        "id": "T8PUUsDe0MpA",
        "colab": {
          "base_uri": "https://localhost:8080/"
        },
        "outputId": "cc5e25da-9e99-47e8-fa7b-7262cc67a459"
      },
      "source": [
        "assoc_50 = assoc[assoc.confidence >= 0.5]\n",
        "print(\"\"\"Associações com confiança maior que 50% que tem como consequente\n",
        " a ideia de que a batata engorda: {}\"\"\".format(assoc_50[assoc_50.consequents.apply(lambda x : 'Lapapaengorda' in x)].shape[0]))"
      ],
      "execution_count": 14,
      "outputs": [
        {
          "output_type": "stream",
          "text": [
            "Associações com confiança maior que 50% que tem como consequente\n",
            " a ideia de que a batata engorda: 0\n"
          ],
          "name": "stdout"
        }
      ]
    },
    {
      "cell_type": "code",
      "metadata": {
        "id": "hScKjlLT0l0a"
      },
      "source": [
        "lapapaengorda = assoc[assoc.consequents.apply(lambda x : 'Lapapaengorda' in x)]"
      ],
      "execution_count": 15,
      "outputs": []
    },
    {
      "cell_type": "code",
      "metadata": {
        "id": "Are0y3zs0h5h",
        "colab": {
          "base_uri": "https://localhost:8080/"
        },
        "outputId": "d7bcf05c-87ae-4f5f-cc28-6ed0bb10dd85"
      },
      "source": [
        "print(\"Associações com a conclusao de que a batata engorda, com confiança >= 10% : {}\\n\".format(lapapaengorda.shape[0]))\n",
        "print(\"Estatisticas da confiança do consquente 'Lapapaengorda': {}\".format(lapapaengorda.describe()['confidence']))"
      ],
      "execution_count": 16,
      "outputs": [
        {
          "output_type": "stream",
          "text": [
            "Associações com a conclusao de que a batata engorda, com confiança >= 10% : 169\n",
            "\n",
            "Estatisticas da confiança do consquente 'Lapapaengorda': count    169.000000\n",
            "mean       0.278948\n",
            "std        0.112259\n",
            "min        0.100849\n",
            "25%        0.174384\n",
            "50%        0.278857\n",
            "75%        0.386143\n",
            "max        0.480342\n",
            "Name: confidence, dtype: float64\n"
          ],
          "name": "stdout"
        }
      ]
    },
    {
      "cell_type": "code",
      "metadata": {
        "id": "zKaLDgSA3QQV",
        "colab": {
          "base_uri": "https://localhost:8080/",
          "height": 514
        },
        "outputId": "97ff1258-af8f-45dd-c196-a2aced2c0d18"
      },
      "source": [
        "lapapaengorda.head(15)"
      ],
      "execution_count": 17,
      "outputs": [
        {
          "output_type": "execute_result",
          "data": {
            "text/html": [
              "<div>\n",
              "<style scoped>\n",
              "    .dataframe tbody tr th:only-of-type {\n",
              "        vertical-align: middle;\n",
              "    }\n",
              "\n",
              "    .dataframe tbody tr th {\n",
              "        vertical-align: top;\n",
              "    }\n",
              "\n",
              "    .dataframe thead th {\n",
              "        text-align: right;\n",
              "    }\n",
              "</style>\n",
              "<table border=\"1\" class=\"dataframe\">\n",
              "  <thead>\n",
              "    <tr style=\"text-align: right;\">\n",
              "      <th></th>\n",
              "      <th>antecedents</th>\n",
              "      <th>consequents</th>\n",
              "      <th>support</th>\n",
              "      <th>confidence</th>\n",
              "    </tr>\n",
              "  </thead>\n",
              "  <tbody>\n",
              "    <tr>\n",
              "      <th>389</th>\n",
              "      <td>(ENSALADA, Sopa)</td>\n",
              "      <td>(Lapapaengorda)</td>\n",
              "      <td>0.053860</td>\n",
              "      <td>0.480342</td>\n",
              "    </tr>\n",
              "    <tr>\n",
              "      <th>935</th>\n",
              "      <td>(ARROZ, CARNE, ENSALADA)</td>\n",
              "      <td>(Lapapaengorda)</td>\n",
              "      <td>0.073123</td>\n",
              "      <td>0.479271</td>\n",
              "    </tr>\n",
              "    <tr>\n",
              "      <th>411</th>\n",
              "      <td>(CARNE, ENSALADA)</td>\n",
              "      <td>(Lapapaengorda)</td>\n",
              "      <td>0.082036</td>\n",
              "      <td>0.476085</td>\n",
              "    </tr>\n",
              "    <tr>\n",
              "      <th>415</th>\n",
              "      <td>(ARROZ, ENSALADA)</td>\n",
              "      <td>(Lapapaengorda)</td>\n",
              "      <td>0.093775</td>\n",
              "      <td>0.457350</td>\n",
              "    </tr>\n",
              "    <tr>\n",
              "      <th>922</th>\n",
              "      <td>(ARROZ, CARNE, Sopa)</td>\n",
              "      <td>(Lapapaengorda)</td>\n",
              "      <td>0.081844</td>\n",
              "      <td>0.454860</td>\n",
              "    </tr>\n",
              "    <tr>\n",
              "      <th>899</th>\n",
              "      <td>(CARNE, ENSALADA, Lapapaeseconomica)</td>\n",
              "      <td>(Lapapaengorda)</td>\n",
              "      <td>0.055106</td>\n",
              "      <td>0.451866</td>\n",
              "    </tr>\n",
              "    <tr>\n",
              "      <th>57</th>\n",
              "      <td>(ENSALADA)</td>\n",
              "      <td>(Lapapaengorda)</td>\n",
              "      <td>0.110690</td>\n",
              "      <td>0.451436</td>\n",
              "    </tr>\n",
              "    <tr>\n",
              "      <th>1071</th>\n",
              "      <td>(ARROZ, CARNE, Lapapaeseconomica, Sopa)</td>\n",
              "      <td>(Lapapaengorda)</td>\n",
              "      <td>0.056879</td>\n",
              "      <td>0.445738</td>\n",
              "    </tr>\n",
              "    <tr>\n",
              "      <th>47</th>\n",
              "      <td>(Sopa)</td>\n",
              "      <td>(Lapapaengorda)</td>\n",
              "      <td>0.179309</td>\n",
              "      <td>0.445423</td>\n",
              "    </tr>\n",
              "    <tr>\n",
              "      <th>377</th>\n",
              "      <td>(CARNE, Sopa)</td>\n",
              "      <td>(Lapapaengorda)</td>\n",
              "      <td>0.100819</td>\n",
              "      <td>0.442668</td>\n",
              "    </tr>\n",
              "    <tr>\n",
              "      <th>403</th>\n",
              "      <td>(ARROZ, CARNE)</td>\n",
              "      <td>(Lapapaengorda)</td>\n",
              "      <td>0.176674</td>\n",
              "      <td>0.442458</td>\n",
              "    </tr>\n",
              "    <tr>\n",
              "      <th>398</th>\n",
              "      <td>(ARROZ, Sudada)</td>\n",
              "      <td>(Lapapaengorda)</td>\n",
              "      <td>0.051272</td>\n",
              "      <td>0.439786</td>\n",
              "    </tr>\n",
              "    <tr>\n",
              "      <th>54</th>\n",
              "      <td>(ARROZ)</td>\n",
              "      <td>(Lapapaengorda)</td>\n",
              "      <td>0.266711</td>\n",
              "      <td>0.437510</td>\n",
              "    </tr>\n",
              "    <tr>\n",
              "      <th>382</th>\n",
              "      <td>(ARROZ, Sopa)</td>\n",
              "      <td>(Lapapaengorda)</td>\n",
              "      <td>0.117447</td>\n",
              "      <td>0.436432</td>\n",
              "    </tr>\n",
              "    <tr>\n",
              "      <th>343</th>\n",
              "      <td>(Lapapaeseconomica, Sopa)</td>\n",
              "      <td>(Lapapaengorda)</td>\n",
              "      <td>0.125114</td>\n",
              "      <td>0.435167</td>\n",
              "    </tr>\n",
              "  </tbody>\n",
              "</table>\n",
              "</div>"
            ],
            "text/plain": [
              "                                  antecedents  ... confidence\n",
              "389                          (ENSALADA, Sopa)  ...   0.480342\n",
              "935                  (ARROZ, CARNE, ENSALADA)  ...   0.479271\n",
              "411                         (CARNE, ENSALADA)  ...   0.476085\n",
              "415                         (ARROZ, ENSALADA)  ...   0.457350\n",
              "922                      (ARROZ, CARNE, Sopa)  ...   0.454860\n",
              "899      (CARNE, ENSALADA, Lapapaeseconomica)  ...   0.451866\n",
              "57                                 (ENSALADA)  ...   0.451436\n",
              "1071  (ARROZ, CARNE, Lapapaeseconomica, Sopa)  ...   0.445738\n",
              "47                                     (Sopa)  ...   0.445423\n",
              "377                             (CARNE, Sopa)  ...   0.442668\n",
              "403                            (ARROZ, CARNE)  ...   0.442458\n",
              "398                           (ARROZ, Sudada)  ...   0.439786\n",
              "54                                    (ARROZ)  ...   0.437510\n",
              "382                             (ARROZ, Sopa)  ...   0.436432\n",
              "343                 (Lapapaeseconomica, Sopa)  ...   0.435167\n",
              "\n",
              "[15 rows x 4 columns]"
            ]
          },
          "metadata": {
            "tags": []
          },
          "execution_count": 17
        }
      ]
    },
    {
      "cell_type": "markdown",
      "metadata": {
        "id": "TJZ-rnOw4XOD"
      },
      "source": [
        "## **Conclusão**\n",
        "Curiosamente, os itens mais comumente associados à percepção de que a batata engorda são outros itens alimentícios, como arroz, sopa ou até mesmo salada.\n",
        "\n",
        "Levando também em consideração o suporte dessa percepção, podemos notar que arroz (sup. 26%), sopa (sup 17.9%) e carne + arroz (17.6%) são os items mais frequentemente associados com essa percepção.\n",
        "\n",
        "O fato da confiança ser inferior a 50% mas maior que 40% para os casos acima deve ser considerado e levado em conta caso a presente análise venha a ser utilizada numa tomada de decisão. \n",
        "\n",
        "Valeria a pena testar numa rede varejista afastar as batatas e produtos derivados de batata do arroz, da sopa e das saladas."
      ]
    }
  ]
}