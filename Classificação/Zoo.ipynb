{
  "nbformat": 4,
  "nbformat_minor": 0,
  "metadata": {
    "colab": {
      "name": "Zoo.ipynb",
      "provenance": [],
      "collapsed_sections": [],
      "toc_visible": true,
      "include_colab_link": true
    },
    "kernelspec": {
      "name": "python3",
      "display_name": "Python 3"
    }
  },
  "cells": [
    {
      "cell_type": "markdown",
      "metadata": {
        "id": "view-in-github",
        "colab_type": "text"
      },
      "source": [
        "<a href=\"https://colab.research.google.com/github/douglassesi/MachineLearning/blob/main/Classifica%C3%A7%C3%A3o/Zoo.ipynb\" target=\"_parent\"><img src=\"https://colab.research.google.com/assets/colab-badge.svg\" alt=\"Open In Colab\"/></a>"
      ]
    },
    {
      "cell_type": "markdown",
      "metadata": {
        "id": "io6uDRk-JinI"
      },
      "source": [
        "#Objetivo\n",
        "Classificação de animais por suas características"
      ]
    },
    {
      "cell_type": "markdown",
      "metadata": {
        "id": "gCceeIWEMM05"
      },
      "source": [
        "#Import das bibliotecas"
      ]
    },
    {
      "cell_type": "code",
      "metadata": {
        "id": "mjLRJyX3qedJ"
      },
      "source": [
        "import pandas as pd\n",
        "import seaborn as sb\n",
        "import numpy as np\n",
        "from sklearn.tree import DecisionTreeClassifier\n",
        "from sklearn.model_selection import train_test_split\n",
        "from sklearn import metrics \n",
        "from sklearn.metrics import classification_report\n",
        "from sklearn.metrics import confusion_matrix\n",
        "from sklearn.neighbors import KNeighborsClassifier\n",
        "from sklearn.metrics import classification_report, plot_confusion_matrix\n",
        "import matplotlib.pyplot as plt\n",
        "from sklearn.preprocessing import StandardScaler\n",
        "import os\n",
        "from sklearn.pipeline import Pipeline\n",
        "from sklearn.model_selection import GridSearchCV\n",
        "from xgboost import XGBClassifier"
      ],
      "execution_count": 1,
      "outputs": []
    },
    {
      "cell_type": "markdown",
      "metadata": {
        "id": "Izw3NLB0MRMV"
      },
      "source": [
        "#Carregando o arquivo Zoo"
      ]
    },
    {
      "cell_type": "code",
      "metadata": {
        "colab": {
          "base_uri": "https://localhost:8080/"
        },
        "id": "2escIrQb2ifz",
        "outputId": "287ab8f7-206c-49eb-a5ad-2623c3d584f5"
      },
      "source": [
        "!git clone https://github.com/douglassesi/MachineLearning"
      ],
      "execution_count": 2,
      "outputs": [
        {
          "output_type": "stream",
          "text": [
            "fatal: destination path 'MachineLearning' already exists and is not an empty directory.\n"
          ],
          "name": "stdout"
        }
      ]
    },
    {
      "cell_type": "code",
      "metadata": {
        "id": "yEZz5O1G2i_a"
      },
      "source": [
        "os.chdir(\"/content/MachineLearning/Classificação/src\")"
      ],
      "execution_count": 3,
      "outputs": []
    },
    {
      "cell_type": "code",
      "metadata": {
        "id": "TUNoZ0dYqiIM",
        "colab": {
          "base_uri": "https://localhost:8080/",
          "height": 439
        },
        "outputId": "51711530-8388-4d3d-cd3e-bb6f015b3665"
      },
      "source": [
        "filename = 'zoo.csv'\n",
        "\n",
        "df_zoo=  pd.read_csv(filename,engine=\"python\", sep=\",\")\n",
        "df_zoo"
      ],
      "execution_count": 4,
      "outputs": [
        {
          "output_type": "execute_result",
          "data": {
            "text/html": [
              "<div>\n",
              "<style scoped>\n",
              "    .dataframe tbody tr th:only-of-type {\n",
              "        vertical-align: middle;\n",
              "    }\n",
              "\n",
              "    .dataframe tbody tr th {\n",
              "        vertical-align: top;\n",
              "    }\n",
              "\n",
              "    .dataframe thead th {\n",
              "        text-align: right;\n",
              "    }\n",
              "</style>\n",
              "<table border=\"1\" class=\"dataframe\">\n",
              "  <thead>\n",
              "    <tr style=\"text-align: right;\">\n",
              "      <th></th>\n",
              "      <th>animal_name</th>\n",
              "      <th>hair</th>\n",
              "      <th>feathers</th>\n",
              "      <th>eggs</th>\n",
              "      <th>milk</th>\n",
              "      <th>airborne</th>\n",
              "      <th>aquatic</th>\n",
              "      <th>predator</th>\n",
              "      <th>toothed</th>\n",
              "      <th>backbone</th>\n",
              "      <th>breathes</th>\n",
              "      <th>venomous</th>\n",
              "      <th>fins</th>\n",
              "      <th>legs</th>\n",
              "      <th>tail</th>\n",
              "      <th>domestic</th>\n",
              "      <th>catsize</th>\n",
              "      <th>class_type</th>\n",
              "    </tr>\n",
              "  </thead>\n",
              "  <tbody>\n",
              "    <tr>\n",
              "      <th>0</th>\n",
              "      <td>aardvark</td>\n",
              "      <td>1</td>\n",
              "      <td>0</td>\n",
              "      <td>0</td>\n",
              "      <td>1</td>\n",
              "      <td>0</td>\n",
              "      <td>0</td>\n",
              "      <td>1</td>\n",
              "      <td>1</td>\n",
              "      <td>1</td>\n",
              "      <td>1</td>\n",
              "      <td>0</td>\n",
              "      <td>0</td>\n",
              "      <td>4</td>\n",
              "      <td>0</td>\n",
              "      <td>0</td>\n",
              "      <td>1</td>\n",
              "      <td>1</td>\n",
              "    </tr>\n",
              "    <tr>\n",
              "      <th>1</th>\n",
              "      <td>antelope</td>\n",
              "      <td>1</td>\n",
              "      <td>0</td>\n",
              "      <td>0</td>\n",
              "      <td>1</td>\n",
              "      <td>0</td>\n",
              "      <td>0</td>\n",
              "      <td>0</td>\n",
              "      <td>1</td>\n",
              "      <td>1</td>\n",
              "      <td>1</td>\n",
              "      <td>0</td>\n",
              "      <td>0</td>\n",
              "      <td>4</td>\n",
              "      <td>1</td>\n",
              "      <td>0</td>\n",
              "      <td>1</td>\n",
              "      <td>1</td>\n",
              "    </tr>\n",
              "    <tr>\n",
              "      <th>2</th>\n",
              "      <td>bass</td>\n",
              "      <td>0</td>\n",
              "      <td>0</td>\n",
              "      <td>1</td>\n",
              "      <td>0</td>\n",
              "      <td>0</td>\n",
              "      <td>1</td>\n",
              "      <td>1</td>\n",
              "      <td>1</td>\n",
              "      <td>1</td>\n",
              "      <td>0</td>\n",
              "      <td>0</td>\n",
              "      <td>1</td>\n",
              "      <td>0</td>\n",
              "      <td>1</td>\n",
              "      <td>0</td>\n",
              "      <td>0</td>\n",
              "      <td>4</td>\n",
              "    </tr>\n",
              "    <tr>\n",
              "      <th>3</th>\n",
              "      <td>bear</td>\n",
              "      <td>1</td>\n",
              "      <td>0</td>\n",
              "      <td>0</td>\n",
              "      <td>1</td>\n",
              "      <td>0</td>\n",
              "      <td>0</td>\n",
              "      <td>1</td>\n",
              "      <td>1</td>\n",
              "      <td>1</td>\n",
              "      <td>1</td>\n",
              "      <td>0</td>\n",
              "      <td>0</td>\n",
              "      <td>4</td>\n",
              "      <td>0</td>\n",
              "      <td>0</td>\n",
              "      <td>1</td>\n",
              "      <td>1</td>\n",
              "    </tr>\n",
              "    <tr>\n",
              "      <th>4</th>\n",
              "      <td>boar</td>\n",
              "      <td>1</td>\n",
              "      <td>0</td>\n",
              "      <td>0</td>\n",
              "      <td>1</td>\n",
              "      <td>0</td>\n",
              "      <td>0</td>\n",
              "      <td>1</td>\n",
              "      <td>1</td>\n",
              "      <td>1</td>\n",
              "      <td>1</td>\n",
              "      <td>0</td>\n",
              "      <td>0</td>\n",
              "      <td>4</td>\n",
              "      <td>1</td>\n",
              "      <td>0</td>\n",
              "      <td>1</td>\n",
              "      <td>1</td>\n",
              "    </tr>\n",
              "    <tr>\n",
              "      <th>...</th>\n",
              "      <td>...</td>\n",
              "      <td>...</td>\n",
              "      <td>...</td>\n",
              "      <td>...</td>\n",
              "      <td>...</td>\n",
              "      <td>...</td>\n",
              "      <td>...</td>\n",
              "      <td>...</td>\n",
              "      <td>...</td>\n",
              "      <td>...</td>\n",
              "      <td>...</td>\n",
              "      <td>...</td>\n",
              "      <td>...</td>\n",
              "      <td>...</td>\n",
              "      <td>...</td>\n",
              "      <td>...</td>\n",
              "      <td>...</td>\n",
              "      <td>...</td>\n",
              "    </tr>\n",
              "    <tr>\n",
              "      <th>96</th>\n",
              "      <td>wallaby</td>\n",
              "      <td>1</td>\n",
              "      <td>0</td>\n",
              "      <td>0</td>\n",
              "      <td>1</td>\n",
              "      <td>0</td>\n",
              "      <td>0</td>\n",
              "      <td>0</td>\n",
              "      <td>1</td>\n",
              "      <td>1</td>\n",
              "      <td>1</td>\n",
              "      <td>0</td>\n",
              "      <td>0</td>\n",
              "      <td>2</td>\n",
              "      <td>1</td>\n",
              "      <td>0</td>\n",
              "      <td>1</td>\n",
              "      <td>1</td>\n",
              "    </tr>\n",
              "    <tr>\n",
              "      <th>97</th>\n",
              "      <td>wasp</td>\n",
              "      <td>1</td>\n",
              "      <td>0</td>\n",
              "      <td>1</td>\n",
              "      <td>0</td>\n",
              "      <td>1</td>\n",
              "      <td>0</td>\n",
              "      <td>0</td>\n",
              "      <td>0</td>\n",
              "      <td>0</td>\n",
              "      <td>1</td>\n",
              "      <td>1</td>\n",
              "      <td>0</td>\n",
              "      <td>6</td>\n",
              "      <td>0</td>\n",
              "      <td>0</td>\n",
              "      <td>0</td>\n",
              "      <td>6</td>\n",
              "    </tr>\n",
              "    <tr>\n",
              "      <th>98</th>\n",
              "      <td>wolf</td>\n",
              "      <td>1</td>\n",
              "      <td>0</td>\n",
              "      <td>0</td>\n",
              "      <td>1</td>\n",
              "      <td>0</td>\n",
              "      <td>0</td>\n",
              "      <td>1</td>\n",
              "      <td>1</td>\n",
              "      <td>1</td>\n",
              "      <td>1</td>\n",
              "      <td>0</td>\n",
              "      <td>0</td>\n",
              "      <td>4</td>\n",
              "      <td>1</td>\n",
              "      <td>0</td>\n",
              "      <td>1</td>\n",
              "      <td>1</td>\n",
              "    </tr>\n",
              "    <tr>\n",
              "      <th>99</th>\n",
              "      <td>worm</td>\n",
              "      <td>0</td>\n",
              "      <td>0</td>\n",
              "      <td>1</td>\n",
              "      <td>0</td>\n",
              "      <td>0</td>\n",
              "      <td>0</td>\n",
              "      <td>0</td>\n",
              "      <td>0</td>\n",
              "      <td>0</td>\n",
              "      <td>1</td>\n",
              "      <td>0</td>\n",
              "      <td>0</td>\n",
              "      <td>0</td>\n",
              "      <td>0</td>\n",
              "      <td>0</td>\n",
              "      <td>0</td>\n",
              "      <td>7</td>\n",
              "    </tr>\n",
              "    <tr>\n",
              "      <th>100</th>\n",
              "      <td>wren</td>\n",
              "      <td>0</td>\n",
              "      <td>1</td>\n",
              "      <td>1</td>\n",
              "      <td>0</td>\n",
              "      <td>1</td>\n",
              "      <td>0</td>\n",
              "      <td>0</td>\n",
              "      <td>0</td>\n",
              "      <td>1</td>\n",
              "      <td>1</td>\n",
              "      <td>0</td>\n",
              "      <td>0</td>\n",
              "      <td>2</td>\n",
              "      <td>1</td>\n",
              "      <td>0</td>\n",
              "      <td>0</td>\n",
              "      <td>2</td>\n",
              "    </tr>\n",
              "  </tbody>\n",
              "</table>\n",
              "<p>101 rows × 18 columns</p>\n",
              "</div>"
            ],
            "text/plain": [
              "    animal_name  hair  feathers  eggs  ...  tail  domestic  catsize  class_type\n",
              "0      aardvark     1         0     0  ...     0         0        1           1\n",
              "1      antelope     1         0     0  ...     1         0        1           1\n",
              "2          bass     0         0     1  ...     1         0        0           4\n",
              "3          bear     1         0     0  ...     0         0        1           1\n",
              "4          boar     1         0     0  ...     1         0        1           1\n",
              "..          ...   ...       ...   ...  ...   ...       ...      ...         ...\n",
              "96      wallaby     1         0     0  ...     1         0        1           1\n",
              "97         wasp     1         0     1  ...     0         0        0           6\n",
              "98         wolf     1         0     0  ...     1         0        1           1\n",
              "99         worm     0         0     1  ...     0         0        0           7\n",
              "100        wren     0         1     1  ...     1         0        0           2\n",
              "\n",
              "[101 rows x 18 columns]"
            ]
          },
          "metadata": {
            "tags": []
          },
          "execution_count": 4
        }
      ]
    },
    {
      "cell_type": "markdown",
      "metadata": {
        "id": "oBAhCOIkMWDG"
      },
      "source": [
        "##Pré-análise"
      ]
    },
    {
      "cell_type": "code",
      "metadata": {
        "id": "8uSJQ7vBEsM8",
        "colab": {
          "base_uri": "https://localhost:8080/"
        },
        "outputId": "70eed27c-1be7-47c4-f5a4-ba324c20b734"
      },
      "source": [
        "np.unique(df_zoo.class_type)"
      ],
      "execution_count": 5,
      "outputs": [
        {
          "output_type": "execute_result",
          "data": {
            "text/plain": [
              "array([1, 2, 3, 4, 5, 6, 7])"
            ]
          },
          "metadata": {
            "tags": []
          },
          "execution_count": 5
        }
      ]
    },
    {
      "cell_type": "code",
      "metadata": {
        "id": "LsdLEZgoq8nV",
        "colab": {
          "base_uri": "https://localhost:8080/"
        },
        "outputId": "0611b70f-dc7f-4a14-f95d-bed3d74f443a"
      },
      "source": [
        "df_zoo.isnull().sum()\n"
      ],
      "execution_count": 6,
      "outputs": [
        {
          "output_type": "execute_result",
          "data": {
            "text/plain": [
              "animal_name    0\n",
              "hair           0\n",
              "feathers       0\n",
              "eggs           0\n",
              "milk           0\n",
              "airborne       0\n",
              "aquatic        0\n",
              "predator       0\n",
              "toothed        0\n",
              "backbone       0\n",
              "breathes       0\n",
              "venomous       0\n",
              "fins           0\n",
              "legs           0\n",
              "tail           0\n",
              "domestic       0\n",
              "catsize        0\n",
              "class_type     0\n",
              "dtype: int64"
            ]
          },
          "metadata": {
            "tags": []
          },
          "execution_count": 6
        }
      ]
    },
    {
      "cell_type": "markdown",
      "metadata": {
        "id": "0chksitiMgEI"
      },
      "source": [
        "#Pré-processamento"
      ]
    },
    {
      "cell_type": "markdown",
      "metadata": {
        "id": "rudtHCzDNDgA"
      },
      "source": [
        "###Reordenando as colunas para facilitar a manipulação"
      ]
    },
    {
      "cell_type": "code",
      "metadata": {
        "id": "VP3SXXAhNBPK"
      },
      "source": [
        "df_zoo = df_zoo[['class_type','animal_name','legs','hair','feathers',\n",
        "                   'eggs','milk','airborne','aquatic','predator',\n",
        "                   'toothed',\t'backbone','breathes','venomous','fins','tail','domestic','catsize']]"
      ],
      "execution_count": 7,
      "outputs": []
    },
    {
      "cell_type": "markdown",
      "metadata": {
        "id": "ueNkJNPTNKoc"
      },
      "source": [
        "##Separação das features"
      ]
    },
    {
      "cell_type": "markdown",
      "metadata": {
        "id": "YDWREqtGBxp_"
      },
      "source": [
        "###Features"
      ]
    },
    {
      "cell_type": "code",
      "metadata": {
        "id": "esc4ZRnSuldT",
        "colab": {
          "base_uri": "https://localhost:8080/"
        },
        "outputId": "52dc16ea-1096-4c46-fa55-17a7e93f99d4"
      },
      "source": [
        "X = df_zoo.iloc[:,2:].values\n",
        "X"
      ],
      "execution_count": 8,
      "outputs": [
        {
          "output_type": "execute_result",
          "data": {
            "text/plain": [
              "array([[4, 1, 0, ..., 0, 0, 1],\n",
              "       [4, 1, 0, ..., 1, 0, 1],\n",
              "       [0, 0, 0, ..., 1, 0, 0],\n",
              "       ...,\n",
              "       [4, 1, 0, ..., 1, 0, 1],\n",
              "       [0, 0, 0, ..., 0, 0, 0],\n",
              "       [2, 0, 1, ..., 1, 0, 0]])"
            ]
          },
          "metadata": {
            "tags": []
          },
          "execution_count": 8
        }
      ]
    },
    {
      "cell_type": "markdown",
      "metadata": {
        "id": "mjICk19wB_L9"
      },
      "source": [
        "###Target"
      ]
    },
    {
      "cell_type": "markdown",
      "metadata": {
        "id": "SpAEC1mnW1LG"
      },
      "source": [
        "Objetivo: Identificar a classe do animal"
      ]
    },
    {
      "cell_type": "code",
      "metadata": {
        "id": "Wm06WjDqwQb9",
        "colab": {
          "base_uri": "https://localhost:8080/"
        },
        "outputId": "9174907d-84df-42e4-ded1-b82df99d38a4"
      },
      "source": [
        "y = df_zoo.iloc[:,0].values\n",
        "y"
      ],
      "execution_count": 9,
      "outputs": [
        {
          "output_type": "execute_result",
          "data": {
            "text/plain": [
              "array([1, 1, 4, 1, 1, 1, 1, 4, 4, 1, 1, 2, 4, 7, 7, 7, 2, 1, 4, 1, 2, 2,\n",
              "       1, 2, 6, 5, 5, 1, 1, 1, 6, 1, 1, 2, 4, 1, 1, 2, 4, 6, 6, 2, 6, 2,\n",
              "       1, 1, 7, 1, 1, 1, 1, 6, 5, 7, 1, 1, 2, 2, 2, 2, 4, 4, 3, 1, 1, 1,\n",
              "       1, 1, 1, 1, 1, 2, 7, 4, 1, 1, 3, 7, 2, 2, 3, 7, 4, 2, 1, 7, 4, 2,\n",
              "       6, 5, 3, 3, 4, 1, 1, 2, 1, 6, 1, 7, 2])"
            ]
          },
          "metadata": {
            "tags": []
          },
          "execution_count": 9
        }
      ]
    },
    {
      "cell_type": "markdown",
      "metadata": {
        "id": "DlwTIIRsNYJ5"
      },
      "source": [
        "##Separação da massa de Treino e Teste\n",
        "\n",
        "* Treino (70%) = X_train, y_train\n",
        "* Teste (30%) = X_teste, y_test\n",
        "\n"
      ]
    },
    {
      "cell_type": "code",
      "metadata": {
        "id": "JkVap5Qssvc_"
      },
      "source": [
        "X_train, X_test, y_train, y_test = train_test_split(X, y, test_size= .3, random_state=30)"
      ],
      "execution_count": 10,
      "outputs": []
    },
    {
      "cell_type": "markdown",
      "metadata": {
        "id": "hIGLN23MNUF5"
      },
      "source": [
        "#Processamento"
      ]
    },
    {
      "cell_type": "markdown",
      "metadata": {
        "id": "iWOoA-bDPMY9"
      },
      "source": [
        "##Árvore de Decisão"
      ]
    },
    {
      "cell_type": "markdown",
      "metadata": {
        "id": "qjaDTHynPPCq"
      },
      "source": [
        "###Preparando o Pipeline"
      ]
    },
    {
      "cell_type": "code",
      "metadata": {
        "id": "QxP0iV3K_h__"
      },
      "source": [
        "std_slc = StandardScaler()"
      ],
      "execution_count": 11,
      "outputs": []
    },
    {
      "cell_type": "code",
      "metadata": {
        "id": "3YTkR7EB_ok8"
      },
      "source": [
        "classif_tree = DecisionTreeClassifier()"
      ],
      "execution_count": 12,
      "outputs": []
    },
    {
      "cell_type": "code",
      "metadata": {
        "id": "CzDwQCA8AvdG"
      },
      "source": [
        "pipe_tree = Pipeline(steps=[('std_slc', std_slc),\n",
        "                       ('classif_tree', classif_tree)])"
      ],
      "execution_count": 13,
      "outputs": []
    },
    {
      "cell_type": "markdown",
      "metadata": {
        "id": "VdpvBTr8PU_y"
      },
      "source": [
        "###Preparando os parâmetros para Gridsearch"
      ]
    },
    {
      "cell_type": "code",
      "metadata": {
        "id": "SD1f4CwuBIxW"
      },
      "source": [
        "criterion = ['gini', 'entropy']\n",
        "max_depth = [2,4,6,8,10,12]\n",
        "random_state = [32,42]"
      ],
      "execution_count": 14,
      "outputs": []
    },
    {
      "cell_type": "code",
      "metadata": {
        "id": "TkbE8yXUCD8m"
      },
      "source": [
        "parameters_tree = dict(classif_tree__criterion=criterion,\n",
        "                  classif_tree__max_depth=max_depth,\n",
        "                  classif_tree__random_state=random_state)"
      ],
      "execution_count": 15,
      "outputs": []
    },
    {
      "cell_type": "markdown",
      "metadata": {
        "id": "9_fZaSWA9_pS"
      },
      "source": [
        "###Treinamento do modelo"
      ]
    },
    {
      "cell_type": "code",
      "metadata": {
        "colab": {
          "base_uri": "https://localhost:8080/"
        },
        "id": "28meHod3C0TT",
        "outputId": "5d59a017-5272-4e3b-f1a2-16c3956e5778"
      },
      "source": [
        "tree_GS = GridSearchCV(pipe_tree, parameters_tree)\n",
        "tree_model = tree_GS.fit(X_train, y_train)"
      ],
      "execution_count": 16,
      "outputs": [
        {
          "output_type": "stream",
          "text": [
            "/usr/local/lib/python3.6/dist-packages/sklearn/model_selection/_split.py:667: UserWarning: The least populated class in y has only 3 members, which is less than n_splits=5.\n",
            "  % (min_groups, self.n_splits)), UserWarning)\n"
          ],
          "name": "stderr"
        }
      ]
    },
    {
      "cell_type": "code",
      "metadata": {
        "colab": {
          "base_uri": "https://localhost:8080/"
        },
        "id": "PLqZp7bPEHkx",
        "outputId": "1fb534de-d3ac-47d2-91fc-e764a1ff9747"
      },
      "source": [
        "print('Best Criterion:', tree_model.best_estimator_.get_params()['classif_tree__criterion'])\n",
        "print('Best max_depth:', tree_model.best_estimator_.get_params()['classif_tree__max_depth'])\n",
        "print('Best random_state', tree_model.best_estimator_.get_params()['classif_tree__random_state'])"
      ],
      "execution_count": 17,
      "outputs": [
        {
          "output_type": "stream",
          "text": [
            "Best Criterion: entropy\n",
            "Best max_depth: 4\n",
            "Best random_state 42\n"
          ],
          "name": "stdout"
        }
      ]
    },
    {
      "cell_type": "code",
      "metadata": {
        "id": "m6wZhB32E53o"
      },
      "source": [
        "y_pred_tree = tree_model.predict(X_test)\n",
        "cm_tree = confusion_matrix(y_test,y_pred_tree)"
      ],
      "execution_count": 18,
      "outputs": []
    },
    {
      "cell_type": "code",
      "metadata": {
        "colab": {
          "base_uri": "https://localhost:8080/",
          "height": 592
        },
        "id": "4LeCgs8lFR1z",
        "outputId": "5ae0588c-f088-4506-ec6c-bf09c512f524"
      },
      "source": [
        "plot_confusion_matrix(tree_model, X_test, y_test, normalize = 'true')\n",
        "print(classification_report(y_test,y_pred_tree))\n",
        "print(metrics.accuracy_score(y_test,y_pred_tree))"
      ],
      "execution_count": 19,
      "outputs": [
        {
          "output_type": "stream",
          "text": [
            "              precision    recall  f1-score   support\n",
            "\n",
            "           1       1.00      1.00      1.00        13\n",
            "           2       0.89      1.00      0.94         8\n",
            "           3       0.00      0.00      0.00         1\n",
            "           4       1.00      1.00      1.00         4\n",
            "           5       0.00      0.00      0.00         1\n",
            "           6       1.00      0.33      0.50         3\n",
            "           7       0.33      1.00      0.50         1\n",
            "\n",
            "    accuracy                           0.87        31\n",
            "   macro avg       0.60      0.62      0.56        31\n",
            "weighted avg       0.89      0.87      0.86        31\n",
            "\n",
            "0.8709677419354839\n"
          ],
          "name": "stdout"
        },
        {
          "output_type": "stream",
          "text": [
            "/usr/local/lib/python3.6/dist-packages/sklearn/metrics/_classification.py:1272: UndefinedMetricWarning: Precision and F-score are ill-defined and being set to 0.0 in labels with no predicted samples. Use `zero_division` parameter to control this behavior.\n",
            "  _warn_prf(average, modifier, msg_start, len(result))\n"
          ],
          "name": "stderr"
        },
        {
          "output_type": "display_data",
          "data": {
            "image/png": "[encoded data removed]",
            "text/plain": [
              "<Figure size 432x288 with 2 Axes>"
            ]
          },
          "metadata": {
            "tags": [],
            "needs_background": "light"
          }
        }
      ]
    },
    {
      "cell_type": "markdown",
      "metadata": {
        "id": "F3E6F6pRTVEw"
      },
      "source": [
        "##XGboost"
      ]
    },
    {
      "cell_type": "markdown",
      "metadata": {
        "id": "0KHiuyIMTYuS"
      },
      "source": [
        "###Preparando o Pipeline"
      ]
    },
    {
      "cell_type": "code",
      "metadata": {
        "id": "UXx9GzS5Jlg8"
      },
      "source": [
        "classif_xg = XGBClassifier()"
      ],
      "execution_count": 20,
      "outputs": []
    },
    {
      "cell_type": "code",
      "metadata": {
        "id": "fVQBscnFDir4"
      },
      "source": [
        "pipe_xg = Pipeline(steps=[('std_slc', std_slc),\n",
        "                       ('classif_xg', classif_xg)])"
      ],
      "execution_count": 21,
      "outputs": []
    },
    {
      "cell_type": "markdown",
      "metadata": {
        "id": "Fi5vbCQ-94bi"
      },
      "source": [
        "###Preparando os parâmetros para Gridsearch"
      ]
    },
    {
      "cell_type": "code",
      "metadata": {
        "id": "LfhraurgJxVt"
      },
      "source": [
        "learning_rate = [0.001,0.01,0.1]"
      ],
      "execution_count": 22,
      "outputs": []
    },
    {
      "cell_type": "code",
      "metadata": {
        "id": "Cf6QFOmtKo5U"
      },
      "source": [
        "parameters_xg = dict(classif_xg__max_depth=max_depth,\n",
        "                  classif_xg__learning_rate=learning_rate,\n",
        "                  classif_xg__random_state=random_state)"
      ],
      "execution_count": 23,
      "outputs": []
    },
    {
      "cell_type": "markdown",
      "metadata": {
        "id": "qqLn_t3b-PLn"
      },
      "source": [
        "###Treinamento do Modelo"
      ]
    },
    {
      "cell_type": "code",
      "metadata": {
        "colab": {
          "base_uri": "https://localhost:8080/"
        },
        "id": "iJaSYNNcLB78",
        "outputId": "939c9d86-fbda-458e-c9f7-1add5bff61ea"
      },
      "source": [
        "xg_GS = GridSearchCV(pipe_xg, parameters_xg)\n",
        "xg_model = xg_GS.fit(X_train, y_train)"
      ],
      "execution_count": 24,
      "outputs": [
        {
          "output_type": "stream",
          "text": [
            "/usr/local/lib/python3.6/dist-packages/sklearn/model_selection/_split.py:667: UserWarning: The least populated class in y has only 3 members, which is less than n_splits=5.\n",
            "  % (min_groups, self.n_splits)), UserWarning)\n"
          ],
          "name": "stderr"
        }
      ]
    },
    {
      "cell_type": "code",
      "metadata": {
        "colab": {
          "base_uri": "https://localhost:8080/"
        },
        "id": "cK_3ldpSLOOz",
        "outputId": "60000aeb-f795-4ba6-ddb0-e6491a5a52ae"
      },
      "source": [
        "print(xg_model.best_estimator_)"
      ],
      "execution_count": 25,
      "outputs": [
        {
          "output_type": "stream",
          "text": [
            "Pipeline(memory=None,\n",
            "         steps=[('std_slc',\n",
            "                 StandardScaler(copy=True, with_mean=True, with_std=True)),\n",
            "                ('classif_xg',\n",
            "                 XGBClassifier(base_score=0.5, booster='gbtree',\n",
            "                               colsample_bylevel=1, colsample_bynode=1,\n",
            "                               colsample_bytree=1, gamma=0, learning_rate=0.1,\n",
            "                               max_delta_step=0, max_depth=2,\n",
            "                               min_child_weight=1, missing=None,\n",
            "                               n_estimators=100, n_jobs=1, nthread=None,\n",
            "                               objective='multi:softprob', random_state=32,\n",
            "                               reg_alpha=0, reg_lambda=1, scale_pos_weight=1,\n",
            "                               seed=None, silent=None, subsample=1,\n",
            "                               verbosity=1))],\n",
            "         verbose=False)\n"
          ],
          "name": "stdout"
        }
      ]
    },
    {
      "cell_type": "code",
      "metadata": {
        "id": "igfz8WvGL0VV"
      },
      "source": [
        "y_pred_xg = xg_model.predict(X_test)\n",
        "cm_xg = confusion_matrix(y_test,y_pred_xg)"
      ],
      "execution_count": 26,
      "outputs": []
    },
    {
      "cell_type": "code",
      "metadata": {
        "colab": {
          "base_uri": "https://localhost:8080/",
          "height": 538
        },
        "id": "EyEOCemjL6DS",
        "outputId": "9104a9ca-6bb6-439d-eef5-800bf4d291f6"
      },
      "source": [
        "plot_confusion_matrix(xg_model, X_test, y_test, normalize = 'true')\n",
        "print(classification_report(y_test,y_pred_xg))\n",
        "print(metrics.accuracy_score(y_test,y_pred_xg))"
      ],
      "execution_count": 27,
      "outputs": [
        {
          "output_type": "stream",
          "text": [
            "              precision    recall  f1-score   support\n",
            "\n",
            "           1       1.00      1.00      1.00        13\n",
            "           2       1.00      1.00      1.00         8\n",
            "           3       1.00      1.00      1.00         1\n",
            "           4       1.00      1.00      1.00         4\n",
            "           5       1.00      1.00      1.00         1\n",
            "           6       1.00      0.33      0.50         3\n",
            "           7       0.33      1.00      0.50         1\n",
            "\n",
            "    accuracy                           0.94        31\n",
            "   macro avg       0.90      0.90      0.86        31\n",
            "weighted avg       0.98      0.94      0.94        31\n",
            "\n",
            "0.9354838709677419\n"
          ],
          "name": "stdout"
        },
        {
          "output_type": "display_data",
          "data": {
            "image/png": "[encoded data removed]",
            "text/plain": [
              "<Figure size 432x288 with 2 Axes>"
            ]
          },
          "metadata": {
            "tags": [],
            "needs_background": "light"
          }
        }
      ]
    },
    {
      "cell_type": "markdown",
      "metadata": {
        "id": "z0hZiQscOH9V"
      },
      "source": [
        "##Modelo de KNN"
      ]
    },
    {
      "cell_type": "markdown",
      "metadata": {
        "id": "g4M4SBdC-XWh"
      },
      "source": [
        "###Preparando o Pipeline"
      ]
    },
    {
      "cell_type": "code",
      "metadata": {
        "id": "-C-wlgMmNYfJ"
      },
      "source": [
        "classif_KNN = KNeighborsClassifier()"
      ],
      "execution_count": 28,
      "outputs": []
    },
    {
      "cell_type": "code",
      "metadata": {
        "id": "Gcvnvc8n12RQ"
      },
      "source": [
        "pipe_KNN = Pipeline(steps=[('std_slc', std_slc),\n",
        "                       ('classif_KNN', classif_KNN)])"
      ],
      "execution_count": 29,
      "outputs": []
    },
    {
      "cell_type": "markdown",
      "metadata": {
        "id": "y5tLmQtF-a4M"
      },
      "source": [
        "###Preparando os parâmetros para Gridsearch"
      ]
    },
    {
      "cell_type": "code",
      "metadata": {
        "id": "JBxUrDek2JNB"
      },
      "source": [
        "weights = ['uniform', 'distance']\n",
        "n_neighbors = range(1,26)\n",
        "p = [1,2]"
      ],
      "execution_count": 30,
      "outputs": []
    },
    {
      "cell_type": "code",
      "metadata": {
        "id": "pbbLsfl127bZ"
      },
      "source": [
        "parameters_KNN = dict(classif_KNN__weights=weights,\n",
        "                  classif_KNN__n_neighbors=n_neighbors,\n",
        "                  classif_KNN__p=p)"
      ],
      "execution_count": 31,
      "outputs": []
    },
    {
      "cell_type": "markdown",
      "metadata": {
        "id": "RuCxOAgK-iHd"
      },
      "source": [
        "###Treinamento do Modelo"
      ]
    },
    {
      "cell_type": "code",
      "metadata": {
        "id": "LKIutYVq24JJ",
        "outputId": "619c4142-31f4-437e-db6b-5fed49d216a4",
        "colab": {
          "base_uri": "https://localhost:8080/"
        }
      },
      "source": [
        "KNN_GS = GridSearchCV(pipe_KNN, parameters_KNN)\n",
        "KNN_model = KNN_GS.fit(X_train, y_train)"
      ],
      "execution_count": 32,
      "outputs": [
        {
          "output_type": "stream",
          "text": [
            "/usr/local/lib/python3.6/dist-packages/sklearn/model_selection/_split.py:667: UserWarning: The least populated class in y has only 3 members, which is less than n_splits=5.\n",
            "  % (min_groups, self.n_splits)), UserWarning)\n"
          ],
          "name": "stderr"
        }
      ]
    },
    {
      "cell_type": "code",
      "metadata": {
        "id": "oOznUawa3QSK"
      },
      "source": [
        "y_pred_KNN = KNN_model.predict(X_test)"
      ],
      "execution_count": 33,
      "outputs": []
    },
    {
      "cell_type": "code",
      "metadata": {
        "id": "DRq8ZuTE3SjX"
      },
      "source": [
        "cm_KNN = confusion_matrix(y_test,y_pred_KNN)"
      ],
      "execution_count": 34,
      "outputs": []
    },
    {
      "cell_type": "code",
      "metadata": {
        "id": "EtkZQwgS3xxD",
        "outputId": "8ae38bd8-59ce-40ea-9e98-5bc6ca119673",
        "colab": {
          "base_uri": "https://localhost:8080/"
        }
      },
      "source": [
        "KNN_model.best_estimator_"
      ],
      "execution_count": 35,
      "outputs": [
        {
          "output_type": "execute_result",
          "data": {
            "text/plain": [
              "Pipeline(memory=None,\n",
              "         steps=[('std_slc',\n",
              "                 StandardScaler(copy=True, with_mean=True, with_std=True)),\n",
              "                ('classif_KNN',\n",
              "                 KNeighborsClassifier(algorithm='auto', leaf_size=30,\n",
              "                                      metric='minkowski', metric_params=None,\n",
              "                                      n_jobs=None, n_neighbors=1, p=1,\n",
              "                                      weights='uniform'))],\n",
              "         verbose=False)"
            ]
          },
          "metadata": {
            "tags": []
          },
          "execution_count": 35
        }
      ]
    },
    {
      "cell_type": "code",
      "metadata": {
        "id": "nK5Gegc_3WbA",
        "outputId": "498384fc-dc0b-4acf-904f-eb3b62d2a43a",
        "colab": {
          "base_uri": "https://localhost:8080/",
          "height": 592
        }
      },
      "source": [
        "plot_confusion_matrix(KNN_model, X_test, y_test, normalize = 'true')\n",
        "\n",
        "print(classification_report(y_test, y_pred_KNN))\n",
        "print(metrics.accuracy_score(y_test, y_pred_KNN))"
      ],
      "execution_count": 36,
      "outputs": [
        {
          "output_type": "stream",
          "text": [
            "/usr/local/lib/python3.6/dist-packages/sklearn/metrics/_classification.py:1272: UndefinedMetricWarning: Precision and F-score are ill-defined and being set to 0.0 in labels with no predicted samples. Use `zero_division` parameter to control this behavior.\n",
            "  _warn_prf(average, modifier, msg_start, len(result))\n"
          ],
          "name": "stderr"
        },
        {
          "output_type": "stream",
          "text": [
            "              precision    recall  f1-score   support\n",
            "\n",
            "           1       1.00      1.00      1.00        13\n",
            "           2       0.89      1.00      0.94         8\n",
            "           3       0.00      0.00      0.00         1\n",
            "           4       1.00      1.00      1.00         4\n",
            "           5       0.00      0.00      0.00         1\n",
            "           6       1.00      1.00      1.00         3\n",
            "           7       1.00      1.00      1.00         1\n",
            "\n",
            "    accuracy                           0.94        31\n",
            "   macro avg       0.70      0.71      0.71        31\n",
            "weighted avg       0.91      0.94      0.92        31\n",
            "\n",
            "0.9354838709677419\n"
          ],
          "name": "stdout"
        },
        {
          "output_type": "display_data",
          "data": {
            "image/png": "[encoded data removed]",
            "text/plain": [
              "<Figure size 432x288 with 2 Axes>"
            ]
          },
          "metadata": {
            "tags": [],
            "needs_background": "light"
          }
        }
      ]
    }
  ]
}