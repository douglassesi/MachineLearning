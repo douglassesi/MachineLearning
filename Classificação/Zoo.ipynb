{
  "nbformat": 4,
  "nbformat_minor": 0,
  "metadata": {
    "colab": {
      "name": "Zoo.ipynb",
      "provenance": [],
      "collapsed_sections": [],
      "toc_visible": true,
      "include_colab_link": true
    },
    "kernelspec": {
      "name": "python3",
      "display_name": "Python 3"
    }
  },
  "cells": [
    {
      "cell_type": "markdown",
      "metadata": {
        "id": "view-in-github",
        "colab_type": "text"
      },
      "source": [
        "<a href=\"https://colab.research.google.com/github/douglassesi/MachineLearning/blob/main/Classifica%C3%A7%C3%A3o/Zoo.ipynb\" target=\"_parent\"><img src=\"https://colab.research.google.com/assets/colab-badge.svg\" alt=\"Open In Colab\"/></a>"
      ]
    },
    {
      "cell_type": "markdown",
      "metadata": {
        "id": "io6uDRk-JinI"
      },
      "source": [
        "#Objetivo\n",
        "Classificação de animais por suas características"
      ]
    },
    {
      "cell_type": "markdown",
      "metadata": {
        "id": "gCceeIWEMM05"
      },
      "source": [
        "#Import das bibliotecas"
      ]
    },
    {
      "cell_type": "code",
      "metadata": {
        "id": "mjLRJyX3qedJ"
      },
      "source": [
        "import pandas as pd\n",
        "import seaborn as sb\n",
        "import numpy as np\n",
        "from sklearn.tree import DecisionTreeClassifier\n",
        "from sklearn.model_selection import train_test_split\n",
        "from sklearn import metrics \n",
        "from sklearn.metrics import classification_report\n",
        "from sklearn.metrics import confusion_matrix\n",
        "from sklearn.neighbors import KNeighborsClassifier\n",
        "from sklearn.metrics import classification_report, plot_confusion_matrix\n",
        "import matplotlib.pyplot as plt\n",
        "from sklearn.preprocessing import StandardScaler\n",
        "import os\n",
        "from sklearn.pipeline import Pipeline\n",
        "from sklearn.model_selection import GridSearchCV\n",
        "from xgboost import XGBClassifier"
      ],
      "execution_count": 1,
      "outputs": []
    },
    {
      "cell_type": "markdown",
      "metadata": {
        "id": "Izw3NLB0MRMV"
      },
      "source": [
        "#Carregando o arquivo Zoo"
      ]
    },
    {
      "cell_type": "code",
      "metadata": {
        "colab": {
          "base_uri": "https://localhost:8080/"
        },
        "id": "2escIrQb2ifz",
        "outputId": "f0f3cd71-6329-4369-a332-081d38e7fb16"
      },
      "source": [
        "!git clone https://github.com/douglassesi/MachineLearning"
      ],
      "execution_count": 2,
      "outputs": [
        {
          "output_type": "stream",
          "text": [
            "fatal: destination path 'MachineLearning' already exists and is not an empty directory.\n"
          ],
          "name": "stdout"
        }
      ]
    },
    {
      "cell_type": "code",
      "metadata": {
        "id": "yEZz5O1G2i_a"
      },
      "source": [
        "os.chdir(\"/content/MachineLearning/Classificação/src\")"
      ],
      "execution_count": 3,
      "outputs": []
    },
    {
      "cell_type": "code",
      "metadata": {
        "id": "TUNoZ0dYqiIM",
        "colab": {
          "base_uri": "https://localhost:8080/",
          "height": 419
        },
        "outputId": "126d778d-f315-4323-b5cf-fbfbc525a70f"
      },
      "source": [
        "filename = 'zoo.csv'\n",
        "\n",
        "df_zoo=  pd.read_csv(filename,engine=\"python\", sep=\",\")\n",
        "df_zoo"
      ],
      "execution_count": 4,
      "outputs": [
        {
          "output_type": "execute_result",
          "data": {
            "text/html": [
              "<div>\n",
              "<style scoped>\n",
              "    .dataframe tbody tr th:only-of-type {\n",
              "        vertical-align: middle;\n",
              "    }\n",
              "\n",
              "    .dataframe tbody tr th {\n",
              "        vertical-align: top;\n",
              "    }\n",
              "\n",
              "    .dataframe thead th {\n",
              "        text-align: right;\n",
              "    }\n",
              "</style>\n",
              "<table border=\"1\" class=\"dataframe\">\n",
              "  <thead>\n",
              "    <tr style=\"text-align: right;\">\n",
              "      <th></th>\n",
              "      <th>animal_name</th>\n",
              "      <th>hair</th>\n",
              "      <th>feathers</th>\n",
              "      <th>eggs</th>\n",
              "      <th>milk</th>\n",
              "      <th>airborne</th>\n",
              "      <th>aquatic</th>\n",
              "      <th>predator</th>\n",
              "      <th>toothed</th>\n",
              "      <th>backbone</th>\n",
              "      <th>breathes</th>\n",
              "      <th>venomous</th>\n",
              "      <th>fins</th>\n",
              "      <th>legs</th>\n",
              "      <th>tail</th>\n",
              "      <th>domestic</th>\n",
              "      <th>catsize</th>\n",
              "      <th>class_type</th>\n",
              "    </tr>\n",
              "  </thead>\n",
              "  <tbody>\n",
              "    <tr>\n",
              "      <th>0</th>\n",
              "      <td>aardvark</td>\n",
              "      <td>1</td>\n",
              "      <td>0</td>\n",
              "      <td>0</td>\n",
              "      <td>1</td>\n",
              "      <td>0</td>\n",
              "      <td>0</td>\n",
              "      <td>1</td>\n",
              "      <td>1</td>\n",
              "      <td>1</td>\n",
              "      <td>1</td>\n",
              "      <td>0</td>\n",
              "      <td>0</td>\n",
              "      <td>4</td>\n",
              "      <td>0</td>\n",
              "      <td>0</td>\n",
              "      <td>1</td>\n",
              "      <td>1</td>\n",
              "    </tr>\n",
              "    <tr>\n",
              "      <th>1</th>\n",
              "      <td>antelope</td>\n",
              "      <td>1</td>\n",
              "      <td>0</td>\n",
              "      <td>0</td>\n",
              "      <td>1</td>\n",
              "      <td>0</td>\n",
              "      <td>0</td>\n",
              "      <td>0</td>\n",
              "      <td>1</td>\n",
              "      <td>1</td>\n",
              "      <td>1</td>\n",
              "      <td>0</td>\n",
              "      <td>0</td>\n",
              "      <td>4</td>\n",
              "      <td>1</td>\n",
              "      <td>0</td>\n",
              "      <td>1</td>\n",
              "      <td>1</td>\n",
              "    </tr>\n",
              "    <tr>\n",
              "      <th>2</th>\n",
              "      <td>bass</td>\n",
              "      <td>0</td>\n",
              "      <td>0</td>\n",
              "      <td>1</td>\n",
              "      <td>0</td>\n",
              "      <td>0</td>\n",
              "      <td>1</td>\n",
              "      <td>1</td>\n",
              "      <td>1</td>\n",
              "      <td>1</td>\n",
              "      <td>0</td>\n",
              "      <td>0</td>\n",
              "      <td>1</td>\n",
              "      <td>0</td>\n",
              "      <td>1</td>\n",
              "      <td>0</td>\n",
              "      <td>0</td>\n",
              "      <td>4</td>\n",
              "    </tr>\n",
              "    <tr>\n",
              "      <th>3</th>\n",
              "      <td>bear</td>\n",
              "      <td>1</td>\n",
              "      <td>0</td>\n",
              "      <td>0</td>\n",
              "      <td>1</td>\n",
              "      <td>0</td>\n",
              "      <td>0</td>\n",
              "      <td>1</td>\n",
              "      <td>1</td>\n",
              "      <td>1</td>\n",
              "      <td>1</td>\n",
              "      <td>0</td>\n",
              "      <td>0</td>\n",
              "      <td>4</td>\n",
              "      <td>0</td>\n",
              "      <td>0</td>\n",
              "      <td>1</td>\n",
              "      <td>1</td>\n",
              "    </tr>\n",
              "    <tr>\n",
              "      <th>4</th>\n",
              "      <td>boar</td>\n",
              "      <td>1</td>\n",
              "      <td>0</td>\n",
              "      <td>0</td>\n",
              "      <td>1</td>\n",
              "      <td>0</td>\n",
              "      <td>0</td>\n",
              "      <td>1</td>\n",
              "      <td>1</td>\n",
              "      <td>1</td>\n",
              "      <td>1</td>\n",
              "      <td>0</td>\n",
              "      <td>0</td>\n",
              "      <td>4</td>\n",
              "      <td>1</td>\n",
              "      <td>0</td>\n",
              "      <td>1</td>\n",
              "      <td>1</td>\n",
              "    </tr>\n",
              "    <tr>\n",
              "      <th>...</th>\n",
              "      <td>...</td>\n",
              "      <td>...</td>\n",
              "      <td>...</td>\n",
              "      <td>...</td>\n",
              "      <td>...</td>\n",
              "      <td>...</td>\n",
              "      <td>...</td>\n",
              "      <td>...</td>\n",
              "      <td>...</td>\n",
              "      <td>...</td>\n",
              "      <td>...</td>\n",
              "      <td>...</td>\n",
              "      <td>...</td>\n",
              "      <td>...</td>\n",
              "      <td>...</td>\n",
              "      <td>...</td>\n",
              "      <td>...</td>\n",
              "      <td>...</td>\n",
              "    </tr>\n",
              "    <tr>\n",
              "      <th>96</th>\n",
              "      <td>wallaby</td>\n",
              "      <td>1</td>\n",
              "      <td>0</td>\n",
              "      <td>0</td>\n",
              "      <td>1</td>\n",
              "      <td>0</td>\n",
              "      <td>0</td>\n",
              "      <td>0</td>\n",
              "      <td>1</td>\n",
              "      <td>1</td>\n",
              "      <td>1</td>\n",
              "      <td>0</td>\n",
              "      <td>0</td>\n",
              "      <td>2</td>\n",
              "      <td>1</td>\n",
              "      <td>0</td>\n",
              "      <td>1</td>\n",
              "      <td>1</td>\n",
              "    </tr>\n",
              "    <tr>\n",
              "      <th>97</th>\n",
              "      <td>wasp</td>\n",
              "      <td>1</td>\n",
              "      <td>0</td>\n",
              "      <td>1</td>\n",
              "      <td>0</td>\n",
              "      <td>1</td>\n",
              "      <td>0</td>\n",
              "      <td>0</td>\n",
              "      <td>0</td>\n",
              "      <td>0</td>\n",
              "      <td>1</td>\n",
              "      <td>1</td>\n",
              "      <td>0</td>\n",
              "      <td>6</td>\n",
              "      <td>0</td>\n",
              "      <td>0</td>\n",
              "      <td>0</td>\n",
              "      <td>6</td>\n",
              "    </tr>\n",
              "    <tr>\n",
              "      <th>98</th>\n",
              "      <td>wolf</td>\n",
              "      <td>1</td>\n",
              "      <td>0</td>\n",
              "      <td>0</td>\n",
              "      <td>1</td>\n",
              "      <td>0</td>\n",
              "      <td>0</td>\n",
              "      <td>1</td>\n",
              "      <td>1</td>\n",
              "      <td>1</td>\n",
              "      <td>1</td>\n",
              "      <td>0</td>\n",
              "      <td>0</td>\n",
              "      <td>4</td>\n",
              "      <td>1</td>\n",
              "      <td>0</td>\n",
              "      <td>1</td>\n",
              "      <td>1</td>\n",
              "    </tr>\n",
              "    <tr>\n",
              "      <th>99</th>\n",
              "      <td>worm</td>\n",
              "      <td>0</td>\n",
              "      <td>0</td>\n",
              "      <td>1</td>\n",
              "      <td>0</td>\n",
              "      <td>0</td>\n",
              "      <td>0</td>\n",
              "      <td>0</td>\n",
              "      <td>0</td>\n",
              "      <td>0</td>\n",
              "      <td>1</td>\n",
              "      <td>0</td>\n",
              "      <td>0</td>\n",
              "      <td>0</td>\n",
              "      <td>0</td>\n",
              "      <td>0</td>\n",
              "      <td>0</td>\n",
              "      <td>7</td>\n",
              "    </tr>\n",
              "    <tr>\n",
              "      <th>100</th>\n",
              "      <td>wren</td>\n",
              "      <td>0</td>\n",
              "      <td>1</td>\n",
              "      <td>1</td>\n",
              "      <td>0</td>\n",
              "      <td>1</td>\n",
              "      <td>0</td>\n",
              "      <td>0</td>\n",
              "      <td>0</td>\n",
              "      <td>1</td>\n",
              "      <td>1</td>\n",
              "      <td>0</td>\n",
              "      <td>0</td>\n",
              "      <td>2</td>\n",
              "      <td>1</td>\n",
              "      <td>0</td>\n",
              "      <td>0</td>\n",
              "      <td>2</td>\n",
              "    </tr>\n",
              "  </tbody>\n",
              "</table>\n",
              "<p>101 rows × 18 columns</p>\n",
              "</div>"
            ],
            "text/plain": [
              "    animal_name  hair  feathers  eggs  ...  tail  domestic  catsize  class_type\n",
              "0      aardvark     1         0     0  ...     0         0        1           1\n",
              "1      antelope     1         0     0  ...     1         0        1           1\n",
              "2          bass     0         0     1  ...     1         0        0           4\n",
              "3          bear     1         0     0  ...     0         0        1           1\n",
              "4          boar     1         0     0  ...     1         0        1           1\n",
              "..          ...   ...       ...   ...  ...   ...       ...      ...         ...\n",
              "96      wallaby     1         0     0  ...     1         0        1           1\n",
              "97         wasp     1         0     1  ...     0         0        0           6\n",
              "98         wolf     1         0     0  ...     1         0        1           1\n",
              "99         worm     0         0     1  ...     0         0        0           7\n",
              "100        wren     0         1     1  ...     1         0        0           2\n",
              "\n",
              "[101 rows x 18 columns]"
            ]
          },
          "metadata": {
            "tags": []
          },
          "execution_count": 4
        }
      ]
    },
    {
      "cell_type": "markdown",
      "metadata": {
        "id": "oBAhCOIkMWDG"
      },
      "source": [
        "##Pré-análise"
      ]
    },
    {
      "cell_type": "code",
      "metadata": {
        "id": "8uSJQ7vBEsM8",
        "colab": {
          "base_uri": "https://localhost:8080/"
        },
        "outputId": "f266da89-f5dc-4d07-d2f4-7c0d4b14b91e"
      },
      "source": [
        "np.unique(df_zoo.class_type)"
      ],
      "execution_count": 5,
      "outputs": [
        {
          "output_type": "execute_result",
          "data": {
            "text/plain": [
              "array([1, 2, 3, 4, 5, 6, 7])"
            ]
          },
          "metadata": {
            "tags": []
          },
          "execution_count": 5
        }
      ]
    },
    {
      "cell_type": "code",
      "metadata": {
        "id": "LsdLEZgoq8nV",
        "colab": {
          "base_uri": "https://localhost:8080/"
        },
        "outputId": "70d7a4d4-f1fc-4fbd-c3b6-ded66298bc90"
      },
      "source": [
        "df_zoo.isnull().sum()\n"
      ],
      "execution_count": 6,
      "outputs": [
        {
          "output_type": "execute_result",
          "data": {
            "text/plain": [
              "animal_name    0\n",
              "hair           0\n",
              "feathers       0\n",
              "eggs           0\n",
              "milk           0\n",
              "airborne       0\n",
              "aquatic        0\n",
              "predator       0\n",
              "toothed        0\n",
              "backbone       0\n",
              "breathes       0\n",
              "venomous       0\n",
              "fins           0\n",
              "legs           0\n",
              "tail           0\n",
              "domestic       0\n",
              "catsize        0\n",
              "class_type     0\n",
              "dtype: int64"
            ]
          },
          "metadata": {
            "tags": []
          },
          "execution_count": 6
        }
      ]
    },
    {
      "cell_type": "markdown",
      "metadata": {
        "id": "0chksitiMgEI"
      },
      "source": [
        "#Pré-processamento"
      ]
    },
    {
      "cell_type": "markdown",
      "metadata": {
        "id": "rudtHCzDNDgA"
      },
      "source": [
        "###Reordenando as colunas para facilitar a manipulação"
      ]
    },
    {
      "cell_type": "code",
      "metadata": {
        "id": "VP3SXXAhNBPK"
      },
      "source": [
        "df_zoo = df_zoo[['class_type','animal_name','legs','hair','feathers',\n",
        "                   'eggs','milk','airborne','aquatic','predator',\n",
        "                   'toothed',\t'backbone','breathes','venomous','fins','tail','domestic','catsize']]"
      ],
      "execution_count": 7,
      "outputs": []
    },
    {
      "cell_type": "markdown",
      "metadata": {
        "id": "ueNkJNPTNKoc"
      },
      "source": [
        "##Separação das features"
      ]
    },
    {
      "cell_type": "markdown",
      "metadata": {
        "id": "YDWREqtGBxp_"
      },
      "source": [
        "###Features"
      ]
    },
    {
      "cell_type": "code",
      "metadata": {
        "id": "esc4ZRnSuldT",
        "colab": {
          "base_uri": "https://localhost:8080/"
        },
        "outputId": "cce1bb4c-df0a-4d15-c0fb-c8925e6c8926"
      },
      "source": [
        "X = df_zoo.iloc[:,2:].values\n",
        "X"
      ],
      "execution_count": 8,
      "outputs": [
        {
          "output_type": "execute_result",
          "data": {
            "text/plain": [
              "array([[4, 1, 0, ..., 0, 0, 1],\n",
              "       [4, 1, 0, ..., 1, 0, 1],\n",
              "       [0, 0, 0, ..., 1, 0, 0],\n",
              "       ...,\n",
              "       [4, 1, 0, ..., 1, 0, 1],\n",
              "       [0, 0, 0, ..., 0, 0, 0],\n",
              "       [2, 0, 1, ..., 1, 0, 0]])"
            ]
          },
          "metadata": {
            "tags": []
          },
          "execution_count": 8
        }
      ]
    },
    {
      "cell_type": "markdown",
      "metadata": {
        "id": "mjICk19wB_L9"
      },
      "source": [
        "###Target"
      ]
    },
    {
      "cell_type": "markdown",
      "metadata": {
        "id": "SpAEC1mnW1LG"
      },
      "source": [
        "Objetivo: Identificar a classe do animal"
      ]
    },
    {
      "cell_type": "code",
      "metadata": {
        "id": "Wm06WjDqwQb9",
        "colab": {
          "base_uri": "https://localhost:8080/"
        },
        "outputId": "a576ad25-c923-4ed4-df4b-3679406b0f25"
      },
      "source": [
        "y = df_zoo.iloc[:,0].values\n",
        "y"
      ],
      "execution_count": 9,
      "outputs": [
        {
          "output_type": "execute_result",
          "data": {
            "text/plain": [
              "array([1, 1, 4, 1, 1, 1, 1, 4, 4, 1, 1, 2, 4, 7, 7, 7, 2, 1, 4, 1, 2, 2,\n",
              "       1, 2, 6, 5, 5, 1, 1, 1, 6, 1, 1, 2, 4, 1, 1, 2, 4, 6, 6, 2, 6, 2,\n",
              "       1, 1, 7, 1, 1, 1, 1, 6, 5, 7, 1, 1, 2, 2, 2, 2, 4, 4, 3, 1, 1, 1,\n",
              "       1, 1, 1, 1, 1, 2, 7, 4, 1, 1, 3, 7, 2, 2, 3, 7, 4, 2, 1, 7, 4, 2,\n",
              "       6, 5, 3, 3, 4, 1, 1, 2, 1, 6, 1, 7, 2])"
            ]
          },
          "metadata": {
            "tags": []
          },
          "execution_count": 9
        }
      ]
    },
    {
      "cell_type": "markdown",
      "metadata": {
        "id": "DlwTIIRsNYJ5"
      },
      "source": [
        "##Separação da massa de Treino e Teste\n",
        "\n",
        "* Treino (70%) = X_train, y_train\n",
        "* Teste (30%) = X_teste, y_test\n",
        "\n"
      ]
    },
    {
      "cell_type": "code",
      "metadata": {
        "id": "JkVap5Qssvc_"
      },
      "source": [
        "X_train, X_test, y_train, y_test = train_test_split(X, y, test_size= .3, random_state=30)"
      ],
      "execution_count": 10,
      "outputs": []
    },
    {
      "cell_type": "markdown",
      "metadata": {
        "id": "hIGLN23MNUF5"
      },
      "source": [
        "#Processamento"
      ]
    },
    {
      "cell_type": "markdown",
      "metadata": {
        "id": "iWOoA-bDPMY9"
      },
      "source": [
        "##Árvore de Decisão"
      ]
    },
    {
      "cell_type": "markdown",
      "metadata": {
        "id": "qjaDTHynPPCq"
      },
      "source": [
        "###Preparando o Pipeline"
      ]
    },
    {
      "cell_type": "code",
      "metadata": {
        "id": "QxP0iV3K_h__"
      },
      "source": [
        "std_slc = StandardScaler()"
      ],
      "execution_count": 11,
      "outputs": []
    },
    {
      "cell_type": "code",
      "metadata": {
        "id": "3YTkR7EB_ok8"
      },
      "source": [
        "classif_tree = DecisionTreeClassifier()"
      ],
      "execution_count": 42,
      "outputs": []
    },
    {
      "cell_type": "code",
      "metadata": {
        "id": "CzDwQCA8AvdG"
      },
      "source": [
        "pipe_tree = Pipeline(steps=[('std_slc', std_slc),\n",
        "                       ('classif_tree', classif_tree)])"
      ],
      "execution_count": 43,
      "outputs": []
    },
    {
      "cell_type": "markdown",
      "metadata": {
        "id": "VdpvBTr8PU_y"
      },
      "source": [
        "###Preparando os parâmetros para Gridsearch"
      ]
    },
    {
      "cell_type": "code",
      "metadata": {
        "id": "SD1f4CwuBIxW"
      },
      "source": [
        "criterion = ['gini', 'entropy']\n",
        "max_depth = [2,4,6,8,10,12]\n",
        "random_state = [32,42]"
      ],
      "execution_count": 44,
      "outputs": []
    },
    {
      "cell_type": "code",
      "metadata": {
        "id": "TkbE8yXUCD8m"
      },
      "source": [
        "parameters_tree = dict(classif_tree__criterion=criterion,\n",
        "                  classif_tree__max_depth=max_depth,\n",
        "                  classif_tree__random_state=random_state)"
      ],
      "execution_count": 45,
      "outputs": []
    },
    {
      "cell_type": "code",
      "metadata": {
        "id": "28meHod3C0TT",
        "outputId": "60556391-9c28-40da-ccf2-e9903a5a29d0",
        "colab": {
          "base_uri": "https://localhost:8080/"
        }
      },
      "source": [
        "tree_GS = GridSearchCV(pipe_tree, parameters_tree)\n",
        "tree_model = tree_GS.fit(X_train, y_train)"
      ],
      "execution_count": 53,
      "outputs": [
        {
          "output_type": "stream",
          "text": [
            "/usr/local/lib/python3.6/dist-packages/sklearn/model_selection/_split.py:667: UserWarning: The least populated class in y has only 3 members, which is less than n_splits=5.\n",
            "  % (min_groups, self.n_splits)), UserWarning)\n"
          ],
          "name": "stderr"
        }
      ]
    },
    {
      "cell_type": "code",
      "metadata": {
        "id": "PLqZp7bPEHkx",
        "outputId": "124dfa22-39ca-42a8-c11c-9abd52a7c284",
        "colab": {
          "base_uri": "https://localhost:8080/"
        }
      },
      "source": [
        "print('Best Criterion:', tree_model.best_estimator_.get_params()['classif_tree__criterion'])\n",
        "print('Best max_depth:', tree_model.best_estimator_.get_params()['classif_tree__max_depth'])\n",
        "print('Best random_state', tree_model.best_estimator_.get_params()['classif_tree__random_state'])"
      ],
      "execution_count": 54,
      "outputs": [
        {
          "output_type": "stream",
          "text": [
            "Best Criterion: entropy\n",
            "Best max_depth: 4\n",
            "Best random_state 42\n"
          ],
          "name": "stdout"
        }
      ]
    },
    {
      "cell_type": "code",
      "metadata": {
        "id": "m6wZhB32E53o"
      },
      "source": [
        "y_pred_tree = tree_model.predict(X_test)\n",
        "cm_tree = confusion_matrix(y_test,y_pred_tree)"
      ],
      "execution_count": 55,
      "outputs": []
    },
    {
      "cell_type": "code",
      "metadata": {
        "id": "4LeCgs8lFR1z",
        "outputId": "0ced0d45-0668-4962-8f3c-15c4f284e63a",
        "colab": {
          "base_uri": "https://localhost:8080/",
          "height": 592
        }
      },
      "source": [
        "plot_confusion_matrix(tree_model, X_test, y_test, normalize = 'true')\n",
        "print(classification_report(y_test,y_pred_tree))\n",
        "print(metrics.accuracy_score(y_test,y_pred_tree))"
      ],
      "execution_count": 56,
      "outputs": [
        {
          "output_type": "stream",
          "text": [
            "/usr/local/lib/python3.6/dist-packages/sklearn/metrics/_classification.py:1272: UndefinedMetricWarning: Precision and F-score are ill-defined and being set to 0.0 in labels with no predicted samples. Use `zero_division` parameter to control this behavior.\n",
            "  _warn_prf(average, modifier, msg_start, len(result))\n"
          ],
          "name": "stderr"
        },
        {
          "output_type": "stream",
          "text": [
            "              precision    recall  f1-score   support\n",
            "\n",
            "           1       1.00      1.00      1.00        13\n",
            "           2       0.89      1.00      0.94         8\n",
            "           3       0.00      0.00      0.00         1\n",
            "           4       1.00      1.00      1.00         4\n",
            "           5       0.00      0.00      0.00         1\n",
            "           6       1.00      0.33      0.50         3\n",
            "           7       0.33      1.00      0.50         1\n",
            "\n",
            "    accuracy                           0.87        31\n",
            "   macro avg       0.60      0.62      0.56        31\n",
            "weighted avg       0.89      0.87      0.86        31\n",
            "\n",
            "0.8709677419354839\n"
          ],
          "name": "stdout"
        },
        {
          "output_type": "display_data",
          "data": {
            "image/png": "[encoded data removed]",
            "text/plain": [
              "<Figure size 432x288 with 2 Axes>"
            ]
          },
          "metadata": {
            "tags": [],
            "needs_background": "light"
          }
        }
      ]
    },
    {
      "cell_type": "markdown",
      "metadata": {
        "id": "F3E6F6pRTVEw"
      },
      "source": [
        "##XGboost"
      ]
    },
    {
      "cell_type": "markdown",
      "metadata": {
        "id": "0KHiuyIMTYuS"
      },
      "source": [
        "###Preparando o Pipeline"
      ]
    },
    {
      "cell_type": "code",
      "metadata": {
        "id": "UXx9GzS5Jlg8"
      },
      "source": [
        "classif_xg = XGBClassifier()"
      ],
      "execution_count": 57,
      "outputs": []
    },
    {
      "cell_type": "code",
      "metadata": {
        "id": "fVQBscnFDir4"
      },
      "source": [
        "pipe_xg = Pipeline(steps=[('std_slc', std_slc),\n",
        "                       ('classif_xg', classif_xg)])"
      ],
      "execution_count": 58,
      "outputs": []
    },
    {
      "cell_type": "code",
      "metadata": {
        "id": "LfhraurgJxVt"
      },
      "source": [
        "learning_rate = [0.001,0.01,0.1]"
      ],
      "execution_count": 59,
      "outputs": []
    },
    {
      "cell_type": "code",
      "metadata": {
        "id": "Cf6QFOmtKo5U"
      },
      "source": [
        "parameters_xg = dict(classif_xg__max_depth=max_depth,\n",
        "                  classif_xg__learning_rate=learning_rate,\n",
        "                  classif_xg__random_state=random_state)"
      ],
      "execution_count": 60,
      "outputs": []
    },
    {
      "cell_type": "code",
      "metadata": {
        "id": "iJaSYNNcLB78",
        "outputId": "b1d9f7b8-e95c-408a-e2c4-4f9d3f4a95bb",
        "colab": {
          "base_uri": "https://localhost:8080/"
        }
      },
      "source": [
        "xg_GS = GridSearchCV(pipe_xg, parameters_xg)\n",
        "xg_model = xg_GS.fit(X_train, y_train)"
      ],
      "execution_count": 68,
      "outputs": [
        {
          "output_type": "stream",
          "text": [
            "/usr/local/lib/python3.6/dist-packages/sklearn/model_selection/_split.py:667: UserWarning: The least populated class in y has only 3 members, which is less than n_splits=5.\n",
            "  % (min_groups, self.n_splits)), UserWarning)\n"
          ],
          "name": "stderr"
        }
      ]
    },
    {
      "cell_type": "code",
      "metadata": {
        "id": "cK_3ldpSLOOz",
        "outputId": "970e3880-6499-495a-c5eb-f8c9a280b224",
        "colab": {
          "base_uri": "https://localhost:8080/"
        }
      },
      "source": [
        "print(xg_model.best_estimator_)"
      ],
      "execution_count": 69,
      "outputs": [
        {
          "output_type": "stream",
          "text": [
            "Pipeline(memory=None,\n",
            "         steps=[('std_slc',\n",
            "                 StandardScaler(copy=True, with_mean=True, with_std=True)),\n",
            "                ('classif_xg',\n",
            "                 XGBClassifier(base_score=0.5, booster='gbtree',\n",
            "                               colsample_bylevel=1, colsample_bynode=1,\n",
            "                               colsample_bytree=1, gamma=0, learning_rate=0.1,\n",
            "                               max_delta_step=0, max_depth=2,\n",
            "                               min_child_weight=1, missing=None,\n",
            "                               n_estimators=100, n_jobs=1, nthread=None,\n",
            "                               objective='multi:softprob', random_state=32,\n",
            "                               reg_alpha=0, reg_lambda=1, scale_pos_weight=1,\n",
            "                               seed=None, silent=None, subsample=1,\n",
            "                               verbosity=1))],\n",
            "         verbose=False)\n"
          ],
          "name": "stdout"
        }
      ]
    },
    {
      "cell_type": "code",
      "metadata": {
        "id": "igfz8WvGL0VV"
      },
      "source": [
        "y_pred_xg = xg_model.predict(X_test)\n",
        "cm_xg = confusion_matrix(y_test,y_pred_xg)"
      ],
      "execution_count": 70,
      "outputs": []
    },
    {
      "cell_type": "code",
      "metadata": {
        "id": "EyEOCemjL6DS",
        "outputId": "132a2aec-19a6-42f8-b482-136015f94ba8",
        "colab": {
          "base_uri": "https://localhost:8080/",
          "height": 538
        }
      },
      "source": [
        "plot_confusion_matrix(xg_model, X_test, y_test, normalize = 'true')\n",
        "print(classification_report(y_test,y_pred_xg))\n",
        "print(metrics.accuracy_score(y_test,y_pred_xg))"
      ],
      "execution_count": 71,
      "outputs": [
        {
          "output_type": "stream",
          "text": [
            "              precision    recall  f1-score   support\n",
            "\n",
            "           1       1.00      1.00      1.00        13\n",
            "           2       1.00      1.00      1.00         8\n",
            "           3       1.00      1.00      1.00         1\n",
            "           4       1.00      1.00      1.00         4\n",
            "           5       1.00      1.00      1.00         1\n",
            "           6       1.00      0.33      0.50         3\n",
            "           7       0.33      1.00      0.50         1\n",
            "\n",
            "    accuracy                           0.94        31\n",
            "   macro avg       0.90      0.90      0.86        31\n",
            "weighted avg       0.98      0.94      0.94        31\n",
            "\n",
            "0.9354838709677419\n"
          ],
          "name": "stdout"
        },
        {
          "output_type": "display_data",
          "data": {
            "image/png": "[encoded data removed]",
            "text/plain": [
              "<Figure size 432x288 with 2 Axes>"
            ]
          },
          "metadata": {
            "tags": [],
            "needs_background": "light"
          }
        }
      ]
    },
    {
      "cell_type": "markdown",
      "metadata": {
        "id": "z0hZiQscOH9V"
      },
      "source": [
        "##Aplicação do modelo de KNN"
      ]
    },
    {
      "cell_type": "markdown",
      "metadata": {
        "id": "_gn78dRTXPXU"
      },
      "source": [
        "###Identificação do valor de K"
      ]
    },
    {
      "cell_type": "code",
      "metadata": {
        "id": "3bAQW9gONp7c",
        "colab": {
          "base_uri": "https://localhost:8080/",
          "height": 296
        },
        "outputId": "76372f02-6532-4c2e-8614-7ac4518bd71d"
      },
      "source": [
        "k_range=range(1,26)\n",
        "scores=[]\n",
        "for k in k_range:\n",
        "    knn = KNeighborsClassifier(n_neighbors=k)\n",
        "    knn.fit(X_train, y_train)\n",
        "    y_pred_KNN = knn.predict(X_test)\n",
        "    scores.append(metrics.accuracy_score(y_test, y_pred_KNN))\n",
        "\n",
        "#print(scores)\n",
        "#Plota os valores de acc. em função do valor escolhido de K\n",
        "plt.plot(k_range, scores)\n",
        "plt.xlabel('Value of K for KNN')\n",
        "plt.ylabel('Testing Accuracy')"
      ],
      "execution_count": 73,
      "outputs": [
        {
          "output_type": "execute_result",
          "data": {
            "text/plain": [
              "Text(0, 0.5, 'Testing Accuracy')"
            ]
          },
          "metadata": {
            "tags": []
          },
          "execution_count": 73
        },
        {
          "output_type": "display_data",
          "data": {
            "image/png": "[encoded data removed]",
            "text/plain": [
              "<Figure size 432x288 with 1 Axes>"
            ]
          },
          "metadata": {
            "tags": [],
            "needs_background": "light"
          }
        }
      ]
    },
    {
      "cell_type": "markdown",
      "metadata": {
        "id": "Pq9DsXEpXYM6"
      },
      "source": [
        "###Aplicação para k = 7"
      ]
    },
    {
      "cell_type": "code",
      "metadata": {
        "id": "-C-wlgMmNYfJ"
      },
      "source": [
        "Classif_KNN = KNeighborsClassifier(n_neighbors=7)"
      ],
      "execution_count": 74,
      "outputs": []
    },
    {
      "cell_type": "code",
      "metadata": {
        "id": "QVdKX2sANY9l",
        "colab": {
          "base_uri": "https://localhost:8080/"
        },
        "outputId": "a46f97c8-bd58-4dee-a6c4-629deee73bbe"
      },
      "source": [
        "Classif_KNN.fit(X_train, y_train)"
      ],
      "execution_count": 75,
      "outputs": [
        {
          "output_type": "execute_result",
          "data": {
            "text/plain": [
              "KNeighborsClassifier(algorithm='auto', leaf_size=30, metric='minkowski',\n",
              "                     metric_params=None, n_jobs=None, n_neighbors=7, p=2,\n",
              "                     weights='uniform')"
            ]
          },
          "metadata": {
            "tags": []
          },
          "execution_count": 75
        }
      ]
    },
    {
      "cell_type": "code",
      "metadata": {
        "id": "3sZP5yL2NbWR"
      },
      "source": [
        "y_pred_KNN = Classif_KNN.predict(X_test)"
      ],
      "execution_count": 77,
      "outputs": []
    },
    {
      "cell_type": "markdown",
      "metadata": {
        "id": "AG4lbCsXXkxY"
      },
      "source": [
        "###Análise do Resultado pela Matriz de Confusão"
      ]
    },
    {
      "cell_type": "code",
      "metadata": {
        "id": "OlAPeofux0Fa"
      },
      "source": [
        "cm_KNN= confusion_matrix(y_test,y_pred)"
      ],
      "execution_count": 78,
      "outputs": []
    },
    {
      "cell_type": "code",
      "metadata": {
        "id": "Y2F5ZObsNjfy",
        "colab": {
          "base_uri": "https://localhost:8080/",
          "height": 592
        },
        "outputId": "adf0bec8-0d1b-4830-e039-5f89bd8cbf80"
      },
      "source": [
        "plot_confusion_matrix(Classif_KNN, X_test, y_test, normalize = 'true')\n",
        "\n",
        "print(classification_report(y_test, y_pred))\n",
        "print(metrics.accuracy_score(y_test, y_pred))"
      ],
      "execution_count": 79,
      "outputs": [
        {
          "output_type": "stream",
          "text": [
            "/usr/local/lib/python3.6/dist-packages/sklearn/metrics/_classification.py:1272: UndefinedMetricWarning: Precision and F-score are ill-defined and being set to 0.0 in labels with no predicted samples. Use `zero_division` parameter to control this behavior.\n",
            "  _warn_prf(average, modifier, msg_start, len(result))\n"
          ],
          "name": "stderr"
        },
        {
          "output_type": "stream",
          "text": [
            "              precision    recall  f1-score   support\n",
            "\n",
            "           1       0.93      1.00      0.96        13\n",
            "           2       1.00      1.00      1.00         8\n",
            "           3       0.00      0.00      0.00         1\n",
            "           4       1.00      1.00      1.00         4\n",
            "           5       1.00      1.00      1.00         1\n",
            "           6       1.00      1.00      1.00         3\n",
            "           7       1.00      1.00      1.00         1\n",
            "\n",
            "    accuracy                           0.97        31\n",
            "   macro avg       0.85      0.86      0.85        31\n",
            "weighted avg       0.94      0.97      0.95        31\n",
            "\n",
            "0.967741935483871\n"
          ],
          "name": "stdout"
        },
        {
          "output_type": "display_data",
          "data": {
            "image/png": "[encoded data removed]",
            "text/plain": [
              "<Figure size 432x288 with 2 Axes>"
            ]
          },
          "metadata": {
            "tags": [],
            "needs_background": "light"
          }
        }
      ]
    }
  ]
}