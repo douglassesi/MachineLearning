{
  "nbformat": 4,
  "nbformat_minor": 0,
  "metadata": {
    "colab": {
      "name": "Heart_Disease.ipynb",
      "provenance": [],
      "collapsed_sections": [],
      "toc_visible": true,
      "include_colab_link": true
    },
    "kernelspec": {
      "name": "python3",
      "display_name": "Python 3"
    }
  },
  "cells": [
    {
      "cell_type": "markdown",
      "metadata": {
        "id": "view-in-github",
        "colab_type": "text"
      },
      "source": [
        "<a href=\"https://colab.research.google.com/github/douglassesi/MachineLearning/blob/main/Classifica%C3%A7%C3%A3o/Heart_Disease.ipynb\" target=\"_parent\"><img src=\"https://colab.research.google.com/assets/colab-badge.svg\" alt=\"Open In Colab\"/></a>"
      ]
    },
    {
      "cell_type": "markdown",
      "metadata": {
        "id": "NOPV0SN4b9hu"
      },
      "source": [
        "#Instalação da biblioteca Graphviz"
      ]
    },
    {
      "cell_type": "code",
      "metadata": {
        "id": "esD-oRqc1cBX",
        "colab": {
          "base_uri": "https://localhost:8080/"
        },
        "outputId": "2f4993fe-7604-46b4-d081-2139c87c83d5"
      },
      "source": [
        "pip install graphviz"
      ],
      "execution_count": 1,
      "outputs": [
        {
          "output_type": "stream",
          "text": [
            "Requirement already satisfied: graphviz in /usr/local/lib/python3.6/dist-packages (0.10.1)\n"
          ],
          "name": "stdout"
        }
      ]
    },
    {
      "cell_type": "markdown",
      "metadata": {
        "id": "lVix0Cy5cFRW"
      },
      "source": [
        "#Import das bibliotecas"
      ]
    },
    {
      "cell_type": "code",
      "metadata": {
        "id": "mjLRJyX3qedJ",
        "colab": {
          "base_uri": "https://localhost:8080/"
        },
        "outputId": "473ddccb-28cf-4e7f-cbf6-c5d3c3dc11ff"
      },
      "source": [
        "import pandas as pd\n",
        "import seaborn as sb\n",
        "import numpy as np\n",
        "from sklearn.tree import DecisionTreeClassifier\n",
        "from sklearn.model_selection import train_test_split\n",
        "from sklearn import metrics \n",
        "from sklearn.metrics import classification_report\n",
        "from sklearn.metrics import confusion_matrix\n",
        "from sklearn.externals.six import StringIO  \n",
        "from IPython.display import Image  \n",
        "from sklearn.tree import export_graphviz, plot_tree\n",
        "import pydotplus\n",
        "from IPython.display import display\n",
        "import graphviz\n",
        "from sklearn import tree\n",
        "from sklearn.metrics import classification_report, plot_confusion_matrix\n",
        "import os\n",
        "from sklearn.preprocessing import StandardScaler\n",
        "from sklearn.pipeline import Pipeline\n",
        "from sklearn.model_selection import GridSearchCV\n",
        "from xgboost import XGBClassifier\n",
        "from sklearn.neighbors import KNeighborsClassifier\n",
        "from sklearn.ensemble import RandomForestClassifier"
      ],
      "execution_count": 2,
      "outputs": [
        {
          "output_type": "stream",
          "text": [
            "/usr/local/lib/python3.6/dist-packages/sklearn/externals/six.py:31: FutureWarning: The module is deprecated in version 0.21 and will be removed in version 0.23 since we've dropped support for Python 2.7. Please rely on the official version of six (https://pypi.org/project/six/).\n",
            "  \"(https://pypi.org/project/six/).\", FutureWarning)\n"
          ],
          "name": "stderr"
        }
      ]
    },
    {
      "cell_type": "markdown",
      "metadata": {
        "id": "RzbSJws0cKNg"
      },
      "source": [
        "#Carregando o arquivo Heart Disease"
      ]
    },
    {
      "cell_type": "code",
      "metadata": {
        "colab": {
          "base_uri": "https://localhost:8080/"
        },
        "id": "mOFaWTMPCK8X",
        "outputId": "92d5e128-3861-4414-cfaf-43a7b3d84163"
      },
      "source": [
        "!git clone https://github.com/douglassesi/MachineLearning"
      ],
      "execution_count": 3,
      "outputs": [
        {
          "output_type": "stream",
          "text": [
            "Cloning into 'MachineLearning'...\n",
            "remote: Enumerating objects: 32, done.\u001b[K\n",
            "remote: Counting objects: 100% (32/32), done.\u001b[K\n",
            "remote: Compressing objects: 100% (31/31), done.\u001b[K\n",
            "remote: Total 196 (delta 10), reused 0 (delta 0), pack-reused 164\u001b[K\n",
            "Receiving objects: 100% (196/196), 627.01 KiB | 7.21 MiB/s, done.\n",
            "Resolving deltas: 100% (69/69), done.\n"
          ],
          "name": "stdout"
        }
      ]
    },
    {
      "cell_type": "code",
      "metadata": {
        "id": "bcezz0O7CQWn"
      },
      "source": [
        "os.chdir(\"/content/MachineLearning/Classificação/src\")"
      ],
      "execution_count": 4,
      "outputs": []
    },
    {
      "cell_type": "code",
      "metadata": {
        "id": "TUNoZ0dYqiIM",
        "colab": {
          "base_uri": "https://localhost:8080/",
          "height": 419
        },
        "outputId": "6d1c0431-2cb7-466b-d0e7-f03f5e23af56"
      },
      "source": [
        "filename = 'heart.csv'\n",
        "\n",
        "df_heart=  pd.read_csv(filename, sep=\",\")\n",
        "df_heart"
      ],
      "execution_count": 5,
      "outputs": [
        {
          "output_type": "execute_result",
          "data": {
            "text/html": [
              "<div>\n",
              "<style scoped>\n",
              "    .dataframe tbody tr th:only-of-type {\n",
              "        vertical-align: middle;\n",
              "    }\n",
              "\n",
              "    .dataframe tbody tr th {\n",
              "        vertical-align: top;\n",
              "    }\n",
              "\n",
              "    .dataframe thead th {\n",
              "        text-align: right;\n",
              "    }\n",
              "</style>\n",
              "<table border=\"1\" class=\"dataframe\">\n",
              "  <thead>\n",
              "    <tr style=\"text-align: right;\">\n",
              "      <th></th>\n",
              "      <th>age</th>\n",
              "      <th>sex</th>\n",
              "      <th>cp</th>\n",
              "      <th>trestbps</th>\n",
              "      <th>chol</th>\n",
              "      <th>fbs</th>\n",
              "      <th>restecg</th>\n",
              "      <th>thalach</th>\n",
              "      <th>exang</th>\n",
              "      <th>oldpeak</th>\n",
              "      <th>slope</th>\n",
              "      <th>ca</th>\n",
              "      <th>thal</th>\n",
              "      <th>target</th>\n",
              "    </tr>\n",
              "  </thead>\n",
              "  <tbody>\n",
              "    <tr>\n",
              "      <th>0</th>\n",
              "      <td>63</td>\n",
              "      <td>1</td>\n",
              "      <td>3</td>\n",
              "      <td>145</td>\n",
              "      <td>233</td>\n",
              "      <td>1</td>\n",
              "      <td>0</td>\n",
              "      <td>150</td>\n",
              "      <td>0</td>\n",
              "      <td>2.3</td>\n",
              "      <td>0</td>\n",
              "      <td>0</td>\n",
              "      <td>1</td>\n",
              "      <td>1</td>\n",
              "    </tr>\n",
              "    <tr>\n",
              "      <th>1</th>\n",
              "      <td>37</td>\n",
              "      <td>1</td>\n",
              "      <td>2</td>\n",
              "      <td>130</td>\n",
              "      <td>250</td>\n",
              "      <td>0</td>\n",
              "      <td>1</td>\n",
              "      <td>187</td>\n",
              "      <td>0</td>\n",
              "      <td>3.5</td>\n",
              "      <td>0</td>\n",
              "      <td>0</td>\n",
              "      <td>2</td>\n",
              "      <td>1</td>\n",
              "    </tr>\n",
              "    <tr>\n",
              "      <th>2</th>\n",
              "      <td>41</td>\n",
              "      <td>0</td>\n",
              "      <td>1</td>\n",
              "      <td>130</td>\n",
              "      <td>204</td>\n",
              "      <td>0</td>\n",
              "      <td>0</td>\n",
              "      <td>172</td>\n",
              "      <td>0</td>\n",
              "      <td>1.4</td>\n",
              "      <td>2</td>\n",
              "      <td>0</td>\n",
              "      <td>2</td>\n",
              "      <td>1</td>\n",
              "    </tr>\n",
              "    <tr>\n",
              "      <th>3</th>\n",
              "      <td>56</td>\n",
              "      <td>1</td>\n",
              "      <td>1</td>\n",
              "      <td>120</td>\n",
              "      <td>236</td>\n",
              "      <td>0</td>\n",
              "      <td>1</td>\n",
              "      <td>178</td>\n",
              "      <td>0</td>\n",
              "      <td>0.8</td>\n",
              "      <td>2</td>\n",
              "      <td>0</td>\n",
              "      <td>2</td>\n",
              "      <td>1</td>\n",
              "    </tr>\n",
              "    <tr>\n",
              "      <th>4</th>\n",
              "      <td>57</td>\n",
              "      <td>0</td>\n",
              "      <td>0</td>\n",
              "      <td>120</td>\n",
              "      <td>354</td>\n",
              "      <td>0</td>\n",
              "      <td>1</td>\n",
              "      <td>163</td>\n",
              "      <td>1</td>\n",
              "      <td>0.6</td>\n",
              "      <td>2</td>\n",
              "      <td>0</td>\n",
              "      <td>2</td>\n",
              "      <td>1</td>\n",
              "    </tr>\n",
              "    <tr>\n",
              "      <th>...</th>\n",
              "      <td>...</td>\n",
              "      <td>...</td>\n",
              "      <td>...</td>\n",
              "      <td>...</td>\n",
              "      <td>...</td>\n",
              "      <td>...</td>\n",
              "      <td>...</td>\n",
              "      <td>...</td>\n",
              "      <td>...</td>\n",
              "      <td>...</td>\n",
              "      <td>...</td>\n",
              "      <td>...</td>\n",
              "      <td>...</td>\n",
              "      <td>...</td>\n",
              "    </tr>\n",
              "    <tr>\n",
              "      <th>298</th>\n",
              "      <td>57</td>\n",
              "      <td>0</td>\n",
              "      <td>0</td>\n",
              "      <td>140</td>\n",
              "      <td>241</td>\n",
              "      <td>0</td>\n",
              "      <td>1</td>\n",
              "      <td>123</td>\n",
              "      <td>1</td>\n",
              "      <td>0.2</td>\n",
              "      <td>1</td>\n",
              "      <td>0</td>\n",
              "      <td>3</td>\n",
              "      <td>0</td>\n",
              "    </tr>\n",
              "    <tr>\n",
              "      <th>299</th>\n",
              "      <td>45</td>\n",
              "      <td>1</td>\n",
              "      <td>3</td>\n",
              "      <td>110</td>\n",
              "      <td>264</td>\n",
              "      <td>0</td>\n",
              "      <td>1</td>\n",
              "      <td>132</td>\n",
              "      <td>0</td>\n",
              "      <td>1.2</td>\n",
              "      <td>1</td>\n",
              "      <td>0</td>\n",
              "      <td>3</td>\n",
              "      <td>0</td>\n",
              "    </tr>\n",
              "    <tr>\n",
              "      <th>300</th>\n",
              "      <td>68</td>\n",
              "      <td>1</td>\n",
              "      <td>0</td>\n",
              "      <td>144</td>\n",
              "      <td>193</td>\n",
              "      <td>1</td>\n",
              "      <td>1</td>\n",
              "      <td>141</td>\n",
              "      <td>0</td>\n",
              "      <td>3.4</td>\n",
              "      <td>1</td>\n",
              "      <td>2</td>\n",
              "      <td>3</td>\n",
              "      <td>0</td>\n",
              "    </tr>\n",
              "    <tr>\n",
              "      <th>301</th>\n",
              "      <td>57</td>\n",
              "      <td>1</td>\n",
              "      <td>0</td>\n",
              "      <td>130</td>\n",
              "      <td>131</td>\n",
              "      <td>0</td>\n",
              "      <td>1</td>\n",
              "      <td>115</td>\n",
              "      <td>1</td>\n",
              "      <td>1.2</td>\n",
              "      <td>1</td>\n",
              "      <td>1</td>\n",
              "      <td>3</td>\n",
              "      <td>0</td>\n",
              "    </tr>\n",
              "    <tr>\n",
              "      <th>302</th>\n",
              "      <td>57</td>\n",
              "      <td>0</td>\n",
              "      <td>1</td>\n",
              "      <td>130</td>\n",
              "      <td>236</td>\n",
              "      <td>0</td>\n",
              "      <td>0</td>\n",
              "      <td>174</td>\n",
              "      <td>0</td>\n",
              "      <td>0.0</td>\n",
              "      <td>1</td>\n",
              "      <td>1</td>\n",
              "      <td>2</td>\n",
              "      <td>0</td>\n",
              "    </tr>\n",
              "  </tbody>\n",
              "</table>\n",
              "<p>303 rows × 14 columns</p>\n",
              "</div>"
            ],
            "text/plain": [
              "     age  sex  cp  trestbps  chol  fbs  ...  exang  oldpeak  slope  ca  thal  target\n",
              "0     63    1   3       145   233    1  ...      0      2.3      0   0     1       1\n",
              "1     37    1   2       130   250    0  ...      0      3.5      0   0     2       1\n",
              "2     41    0   1       130   204    0  ...      0      1.4      2   0     2       1\n",
              "3     56    1   1       120   236    0  ...      0      0.8      2   0     2       1\n",
              "4     57    0   0       120   354    0  ...      1      0.6      2   0     2       1\n",
              "..   ...  ...  ..       ...   ...  ...  ...    ...      ...    ...  ..   ...     ...\n",
              "298   57    0   0       140   241    0  ...      1      0.2      1   0     3       0\n",
              "299   45    1   3       110   264    0  ...      0      1.2      1   0     3       0\n",
              "300   68    1   0       144   193    1  ...      0      3.4      1   2     3       0\n",
              "301   57    1   0       130   131    0  ...      1      1.2      1   1     3       0\n",
              "302   57    0   1       130   236    0  ...      0      0.0      1   1     2       0\n",
              "\n",
              "[303 rows x 14 columns]"
            ]
          },
          "metadata": {
            "tags": []
          },
          "execution_count": 5
        }
      ]
    },
    {
      "cell_type": "markdown",
      "metadata": {
        "id": "cDRZBh9McVWH"
      },
      "source": [
        "##Pré-análise"
      ]
    },
    {
      "cell_type": "code",
      "metadata": {
        "id": "LsdLEZgoq8nV",
        "colab": {
          "base_uri": "https://localhost:8080/"
        },
        "outputId": "c3387e8f-1b1a-47d2-b04b-327dbc5e45b0"
      },
      "source": [
        "df_heart.isnull().sum()"
      ],
      "execution_count": 6,
      "outputs": [
        {
          "output_type": "execute_result",
          "data": {
            "text/plain": [
              "age         0\n",
              "sex         0\n",
              "cp          0\n",
              "trestbps    0\n",
              "chol        0\n",
              "fbs         0\n",
              "restecg     0\n",
              "thalach     0\n",
              "exang       0\n",
              "oldpeak     0\n",
              "slope       0\n",
              "ca          0\n",
              "thal        0\n",
              "target      0\n",
              "dtype: int64"
            ]
          },
          "metadata": {
            "tags": []
          },
          "execution_count": 6
        }
      ]
    },
    {
      "cell_type": "markdown",
      "metadata": {
        "id": "5lKASFXXcbhK"
      },
      "source": [
        "#Pré-processamento"
      ]
    },
    {
      "cell_type": "markdown",
      "metadata": {
        "id": "F7OVcaZIcdeJ"
      },
      "source": [
        "##Separando os dados Categóricos"
      ]
    },
    {
      "cell_type": "code",
      "metadata": {
        "id": "esc4ZRnSuldT"
      },
      "source": [
        "cat_heart = pd.get_dummies(data=df_heart,\n",
        "                     columns=['cp','slope','ca','thal'], drop_first=True)\n"
      ],
      "execution_count": 7,
      "outputs": []
    },
    {
      "cell_type": "markdown",
      "metadata": {
        "id": "iIgDEynXclTj"
      },
      "source": [
        "###Drop das colunas categóricas antes do tratamento"
      ]
    },
    {
      "cell_type": "code",
      "metadata": {
        "id": "rDHhKO4XSuro"
      },
      "source": [
        "drop_df_heart=df_heart.drop(['cp','slope','ca','thal'], axis=1, inplace=True)"
      ],
      "execution_count": 8,
      "outputs": []
    },
    {
      "cell_type": "markdown",
      "metadata": {
        "id": "uwjHaGupcqm6"
      },
      "source": [
        "##Concatenando os dados Categóricos com os dados numéricos"
      ]
    },
    {
      "cell_type": "code",
      "metadata": {
        "id": "68u-DRi4Suff",
        "colab": {
          "base_uri": "https://localhost:8080/",
          "height": 439
        },
        "outputId": "310bd1b5-42d4-4551-8906-ec504c49a9ca"
      },
      "source": [
        "heart_dmy = pd.concat([drop_df_heart,cat_heart],axis=1)\n",
        "heart_dmy"
      ],
      "execution_count": 9,
      "outputs": [
        {
          "output_type": "execute_result",
          "data": {
            "text/html": [
              "<div>\n",
              "<style scoped>\n",
              "    .dataframe tbody tr th:only-of-type {\n",
              "        vertical-align: middle;\n",
              "    }\n",
              "\n",
              "    .dataframe tbody tr th {\n",
              "        vertical-align: top;\n",
              "    }\n",
              "\n",
              "    .dataframe thead th {\n",
              "        text-align: right;\n",
              "    }\n",
              "</style>\n",
              "<table border=\"1\" class=\"dataframe\">\n",
              "  <thead>\n",
              "    <tr style=\"text-align: right;\">\n",
              "      <th></th>\n",
              "      <th>age</th>\n",
              "      <th>sex</th>\n",
              "      <th>trestbps</th>\n",
              "      <th>chol</th>\n",
              "      <th>fbs</th>\n",
              "      <th>restecg</th>\n",
              "      <th>thalach</th>\n",
              "      <th>exang</th>\n",
              "      <th>oldpeak</th>\n",
              "      <th>target</th>\n",
              "      <th>cp_1</th>\n",
              "      <th>cp_2</th>\n",
              "      <th>cp_3</th>\n",
              "      <th>slope_1</th>\n",
              "      <th>slope_2</th>\n",
              "      <th>ca_1</th>\n",
              "      <th>ca_2</th>\n",
              "      <th>ca_3</th>\n",
              "      <th>ca_4</th>\n",
              "      <th>thal_1</th>\n",
              "      <th>thal_2</th>\n",
              "      <th>thal_3</th>\n",
              "    </tr>\n",
              "  </thead>\n",
              "  <tbody>\n",
              "    <tr>\n",
              "      <th>0</th>\n",
              "      <td>63</td>\n",
              "      <td>1</td>\n",
              "      <td>145</td>\n",
              "      <td>233</td>\n",
              "      <td>1</td>\n",
              "      <td>0</td>\n",
              "      <td>150</td>\n",
              "      <td>0</td>\n",
              "      <td>2.3</td>\n",
              "      <td>1</td>\n",
              "      <td>0</td>\n",
              "      <td>0</td>\n",
              "      <td>1</td>\n",
              "      <td>0</td>\n",
              "      <td>0</td>\n",
              "      <td>0</td>\n",
              "      <td>0</td>\n",
              "      <td>0</td>\n",
              "      <td>0</td>\n",
              "      <td>1</td>\n",
              "      <td>0</td>\n",
              "      <td>0</td>\n",
              "    </tr>\n",
              "    <tr>\n",
              "      <th>1</th>\n",
              "      <td>37</td>\n",
              "      <td>1</td>\n",
              "      <td>130</td>\n",
              "      <td>250</td>\n",
              "      <td>0</td>\n",
              "      <td>1</td>\n",
              "      <td>187</td>\n",
              "      <td>0</td>\n",
              "      <td>3.5</td>\n",
              "      <td>1</td>\n",
              "      <td>0</td>\n",
              "      <td>1</td>\n",
              "      <td>0</td>\n",
              "      <td>0</td>\n",
              "      <td>0</td>\n",
              "      <td>0</td>\n",
              "      <td>0</td>\n",
              "      <td>0</td>\n",
              "      <td>0</td>\n",
              "      <td>0</td>\n",
              "      <td>1</td>\n",
              "      <td>0</td>\n",
              "    </tr>\n",
              "    <tr>\n",
              "      <th>2</th>\n",
              "      <td>41</td>\n",
              "      <td>0</td>\n",
              "      <td>130</td>\n",
              "      <td>204</td>\n",
              "      <td>0</td>\n",
              "      <td>0</td>\n",
              "      <td>172</td>\n",
              "      <td>0</td>\n",
              "      <td>1.4</td>\n",
              "      <td>1</td>\n",
              "      <td>1</td>\n",
              "      <td>0</td>\n",
              "      <td>0</td>\n",
              "      <td>0</td>\n",
              "      <td>1</td>\n",
              "      <td>0</td>\n",
              "      <td>0</td>\n",
              "      <td>0</td>\n",
              "      <td>0</td>\n",
              "      <td>0</td>\n",
              "      <td>1</td>\n",
              "      <td>0</td>\n",
              "    </tr>\n",
              "    <tr>\n",
              "      <th>3</th>\n",
              "      <td>56</td>\n",
              "      <td>1</td>\n",
              "      <td>120</td>\n",
              "      <td>236</td>\n",
              "      <td>0</td>\n",
              "      <td>1</td>\n",
              "      <td>178</td>\n",
              "      <td>0</td>\n",
              "      <td>0.8</td>\n",
              "      <td>1</td>\n",
              "      <td>1</td>\n",
              "      <td>0</td>\n",
              "      <td>0</td>\n",
              "      <td>0</td>\n",
              "      <td>1</td>\n",
              "      <td>0</td>\n",
              "      <td>0</td>\n",
              "      <td>0</td>\n",
              "      <td>0</td>\n",
              "      <td>0</td>\n",
              "      <td>1</td>\n",
              "      <td>0</td>\n",
              "    </tr>\n",
              "    <tr>\n",
              "      <th>4</th>\n",
              "      <td>57</td>\n",
              "      <td>0</td>\n",
              "      <td>120</td>\n",
              "      <td>354</td>\n",
              "      <td>0</td>\n",
              "      <td>1</td>\n",
              "      <td>163</td>\n",
              "      <td>1</td>\n",
              "      <td>0.6</td>\n",
              "      <td>1</td>\n",
              "      <td>0</td>\n",
              "      <td>0</td>\n",
              "      <td>0</td>\n",
              "      <td>0</td>\n",
              "      <td>1</td>\n",
              "      <td>0</td>\n",
              "      <td>0</td>\n",
              "      <td>0</td>\n",
              "      <td>0</td>\n",
              "      <td>0</td>\n",
              "      <td>1</td>\n",
              "      <td>0</td>\n",
              "    </tr>\n",
              "    <tr>\n",
              "      <th>...</th>\n",
              "      <td>...</td>\n",
              "      <td>...</td>\n",
              "      <td>...</td>\n",
              "      <td>...</td>\n",
              "      <td>...</td>\n",
              "      <td>...</td>\n",
              "      <td>...</td>\n",
              "      <td>...</td>\n",
              "      <td>...</td>\n",
              "      <td>...</td>\n",
              "      <td>...</td>\n",
              "      <td>...</td>\n",
              "      <td>...</td>\n",
              "      <td>...</td>\n",
              "      <td>...</td>\n",
              "      <td>...</td>\n",
              "      <td>...</td>\n",
              "      <td>...</td>\n",
              "      <td>...</td>\n",
              "      <td>...</td>\n",
              "      <td>...</td>\n",
              "      <td>...</td>\n",
              "    </tr>\n",
              "    <tr>\n",
              "      <th>298</th>\n",
              "      <td>57</td>\n",
              "      <td>0</td>\n",
              "      <td>140</td>\n",
              "      <td>241</td>\n",
              "      <td>0</td>\n",
              "      <td>1</td>\n",
              "      <td>123</td>\n",
              "      <td>1</td>\n",
              "      <td>0.2</td>\n",
              "      <td>0</td>\n",
              "      <td>0</td>\n",
              "      <td>0</td>\n",
              "      <td>0</td>\n",
              "      <td>1</td>\n",
              "      <td>0</td>\n",
              "      <td>0</td>\n",
              "      <td>0</td>\n",
              "      <td>0</td>\n",
              "      <td>0</td>\n",
              "      <td>0</td>\n",
              "      <td>0</td>\n",
              "      <td>1</td>\n",
              "    </tr>\n",
              "    <tr>\n",
              "      <th>299</th>\n",
              "      <td>45</td>\n",
              "      <td>1</td>\n",
              "      <td>110</td>\n",
              "      <td>264</td>\n",
              "      <td>0</td>\n",
              "      <td>1</td>\n",
              "      <td>132</td>\n",
              "      <td>0</td>\n",
              "      <td>1.2</td>\n",
              "      <td>0</td>\n",
              "      <td>0</td>\n",
              "      <td>0</td>\n",
              "      <td>1</td>\n",
              "      <td>1</td>\n",
              "      <td>0</td>\n",
              "      <td>0</td>\n",
              "      <td>0</td>\n",
              "      <td>0</td>\n",
              "      <td>0</td>\n",
              "      <td>0</td>\n",
              "      <td>0</td>\n",
              "      <td>1</td>\n",
              "    </tr>\n",
              "    <tr>\n",
              "      <th>300</th>\n",
              "      <td>68</td>\n",
              "      <td>1</td>\n",
              "      <td>144</td>\n",
              "      <td>193</td>\n",
              "      <td>1</td>\n",
              "      <td>1</td>\n",
              "      <td>141</td>\n",
              "      <td>0</td>\n",
              "      <td>3.4</td>\n",
              "      <td>0</td>\n",
              "      <td>0</td>\n",
              "      <td>0</td>\n",
              "      <td>0</td>\n",
              "      <td>1</td>\n",
              "      <td>0</td>\n",
              "      <td>0</td>\n",
              "      <td>1</td>\n",
              "      <td>0</td>\n",
              "      <td>0</td>\n",
              "      <td>0</td>\n",
              "      <td>0</td>\n",
              "      <td>1</td>\n",
              "    </tr>\n",
              "    <tr>\n",
              "      <th>301</th>\n",
              "      <td>57</td>\n",
              "      <td>1</td>\n",
              "      <td>130</td>\n",
              "      <td>131</td>\n",
              "      <td>0</td>\n",
              "      <td>1</td>\n",
              "      <td>115</td>\n",
              "      <td>1</td>\n",
              "      <td>1.2</td>\n",
              "      <td>0</td>\n",
              "      <td>0</td>\n",
              "      <td>0</td>\n",
              "      <td>0</td>\n",
              "      <td>1</td>\n",
              "      <td>0</td>\n",
              "      <td>1</td>\n",
              "      <td>0</td>\n",
              "      <td>0</td>\n",
              "      <td>0</td>\n",
              "      <td>0</td>\n",
              "      <td>0</td>\n",
              "      <td>1</td>\n",
              "    </tr>\n",
              "    <tr>\n",
              "      <th>302</th>\n",
              "      <td>57</td>\n",
              "      <td>0</td>\n",
              "      <td>130</td>\n",
              "      <td>236</td>\n",
              "      <td>0</td>\n",
              "      <td>0</td>\n",
              "      <td>174</td>\n",
              "      <td>0</td>\n",
              "      <td>0.0</td>\n",
              "      <td>0</td>\n",
              "      <td>1</td>\n",
              "      <td>0</td>\n",
              "      <td>0</td>\n",
              "      <td>1</td>\n",
              "      <td>0</td>\n",
              "      <td>1</td>\n",
              "      <td>0</td>\n",
              "      <td>0</td>\n",
              "      <td>0</td>\n",
              "      <td>0</td>\n",
              "      <td>1</td>\n",
              "      <td>0</td>\n",
              "    </tr>\n",
              "  </tbody>\n",
              "</table>\n",
              "<p>303 rows × 22 columns</p>\n",
              "</div>"
            ],
            "text/plain": [
              "     age  sex  trestbps  chol  fbs  ...  ca_3  ca_4  thal_1  thal_2  thal_3\n",
              "0     63    1       145   233    1  ...     0     0       1       0       0\n",
              "1     37    1       130   250    0  ...     0     0       0       1       0\n",
              "2     41    0       130   204    0  ...     0     0       0       1       0\n",
              "3     56    1       120   236    0  ...     0     0       0       1       0\n",
              "4     57    0       120   354    0  ...     0     0       0       1       0\n",
              "..   ...  ...       ...   ...  ...  ...   ...   ...     ...     ...     ...\n",
              "298   57    0       140   241    0  ...     0     0       0       0       1\n",
              "299   45    1       110   264    0  ...     0     0       0       0       1\n",
              "300   68    1       144   193    1  ...     0     0       0       0       1\n",
              "301   57    1       130   131    0  ...     0     0       0       0       1\n",
              "302   57    0       130   236    0  ...     0     0       0       1       0\n",
              "\n",
              "[303 rows x 22 columns]"
            ]
          },
          "metadata": {
            "tags": []
          },
          "execution_count": 9
        }
      ]
    },
    {
      "cell_type": "markdown",
      "metadata": {
        "id": "HVL19Fspc1NX"
      },
      "source": [
        "##Separação das features"
      ]
    },
    {
      "cell_type": "code",
      "metadata": {
        "id": "Wm06WjDqwQb9",
        "colab": {
          "base_uri": "https://localhost:8080/"
        },
        "outputId": "2b0cb60f-6718-4695-9b5e-fa2d32857a1c"
      },
      "source": [
        "y = heart_dmy['target'].values\n",
        "y"
      ],
      "execution_count": 10,
      "outputs": [
        {
          "output_type": "execute_result",
          "data": {
            "text/plain": [
              "array([1, 1, 1, 1, 1, 1, 1, 1, 1, 1, 1, 1, 1, 1, 1, 1, 1, 1, 1, 1, 1, 1,\n",
              "       1, 1, 1, 1, 1, 1, 1, 1, 1, 1, 1, 1, 1, 1, 1, 1, 1, 1, 1, 1, 1, 1,\n",
              "       1, 1, 1, 1, 1, 1, 1, 1, 1, 1, 1, 1, 1, 1, 1, 1, 1, 1, 1, 1, 1, 1,\n",
              "       1, 1, 1, 1, 1, 1, 1, 1, 1, 1, 1, 1, 1, 1, 1, 1, 1, 1, 1, 1, 1, 1,\n",
              "       1, 1, 1, 1, 1, 1, 1, 1, 1, 1, 1, 1, 1, 1, 1, 1, 1, 1, 1, 1, 1, 1,\n",
              "       1, 1, 1, 1, 1, 1, 1, 1, 1, 1, 1, 1, 1, 1, 1, 1, 1, 1, 1, 1, 1, 1,\n",
              "       1, 1, 1, 1, 1, 1, 1, 1, 1, 1, 1, 1, 1, 1, 1, 1, 1, 1, 1, 1, 1, 1,\n",
              "       1, 1, 1, 1, 1, 1, 1, 1, 1, 1, 1, 0, 0, 0, 0, 0, 0, 0, 0, 0, 0, 0,\n",
              "       0, 0, 0, 0, 0, 0, 0, 0, 0, 0, 0, 0, 0, 0, 0, 0, 0, 0, 0, 0, 0, 0,\n",
              "       0, 0, 0, 0, 0, 0, 0, 0, 0, 0, 0, 0, 0, 0, 0, 0, 0, 0, 0, 0, 0, 0,\n",
              "       0, 0, 0, 0, 0, 0, 0, 0, 0, 0, 0, 0, 0, 0, 0, 0, 0, 0, 0, 0, 0, 0,\n",
              "       0, 0, 0, 0, 0, 0, 0, 0, 0, 0, 0, 0, 0, 0, 0, 0, 0, 0, 0, 0, 0, 0,\n",
              "       0, 0, 0, 0, 0, 0, 0, 0, 0, 0, 0, 0, 0, 0, 0, 0, 0, 0, 0, 0, 0, 0,\n",
              "       0, 0, 0, 0, 0, 0, 0, 0, 0, 0, 0, 0, 0, 0, 0, 0, 0])"
            ]
          },
          "metadata": {
            "tags": []
          },
          "execution_count": 10
        }
      ]
    },
    {
      "cell_type": "code",
      "metadata": {
        "id": "xm7PKlmfS9Ka",
        "colab": {
          "base_uri": "https://localhost:8080/"
        },
        "outputId": "b450898c-7ce6-4a53-8ac5-bb585ee81732"
      },
      "source": [
        "X = heart_dmy.drop(['target'], axis=1).values\n",
        "X"
      ],
      "execution_count": 11,
      "outputs": [
        {
          "output_type": "execute_result",
          "data": {
            "text/plain": [
              "array([[ 63.,   1., 145., ...,   1.,   0.,   0.],\n",
              "       [ 37.,   1., 130., ...,   0.,   1.,   0.],\n",
              "       [ 41.,   0., 130., ...,   0.,   1.,   0.],\n",
              "       ...,\n",
              "       [ 68.,   1., 144., ...,   0.,   0.,   1.],\n",
              "       [ 57.,   1., 130., ...,   0.,   0.,   1.],\n",
              "       [ 57.,   0., 130., ...,   0.,   1.,   0.]])"
            ]
          },
          "metadata": {
            "tags": []
          },
          "execution_count": 11
        }
      ]
    },
    {
      "cell_type": "markdown",
      "metadata": {
        "id": "NXndArsFc4u5"
      },
      "source": [
        "#Processamento"
      ]
    },
    {
      "cell_type": "markdown",
      "metadata": {
        "id": "wBAegEl0c6bd"
      },
      "source": [
        "##Separação da massa de teste e treino"
      ]
    },
    {
      "cell_type": "code",
      "metadata": {
        "id": "JkVap5Qssvc_"
      },
      "source": [
        "X_train, X_test, y_train, y_test = train_test_split(X, y, test_size= .3, random_state=30)"
      ],
      "execution_count": 12,
      "outputs": []
    },
    {
      "cell_type": "markdown",
      "metadata": {
        "id": "AJFXdTQfeDuR"
      },
      "source": [
        "##Estanciar normalizalização de dados"
      ]
    },
    {
      "cell_type": "code",
      "metadata": {
        "id": "qnQrlejREbUX"
      },
      "source": [
        "std_slc = StandardScaler()"
      ],
      "execution_count": 17,
      "outputs": []
    },
    {
      "cell_type": "markdown",
      "metadata": {
        "id": "sz_HafJ9fRmN"
      },
      "source": [
        "##Árvore de Decisão"
      ]
    },
    {
      "cell_type": "markdown",
      "metadata": {
        "id": "5x9osG5leiIf"
      },
      "source": [
        "###Estanciar classificador Árvore de Decisão"
      ]
    },
    {
      "cell_type": "code",
      "metadata": {
        "id": "N6dmavAhEigL"
      },
      "source": [
        "classif_tree = DecisionTreeClassifier()"
      ],
      "execution_count": 18,
      "outputs": []
    },
    {
      "cell_type": "markdown",
      "metadata": {
        "id": "ot1QEdFqepXi"
      },
      "source": [
        "###Criação de Pipeline para Árvore de Decisão"
      ]
    },
    {
      "cell_type": "code",
      "metadata": {
        "id": "WrID2nkLEzS7"
      },
      "source": [
        "pipe_tree = Pipeline(steps=[('std_slc', std_slc),\n",
        "                       ('classif_tree', classif_tree)])"
      ],
      "execution_count": 19,
      "outputs": []
    },
    {
      "cell_type": "markdown",
      "metadata": {
        "id": "Ld9bpzlqexh1"
      },
      "source": [
        "###GridSearch para Árvore de Decisão"
      ]
    },
    {
      "cell_type": "code",
      "metadata": {
        "id": "VSzRUIXnE1xh"
      },
      "source": [
        "criterion = ['gini', 'entropy']\n",
        "max_depth = range(1,20)\n",
        "random_state = [32,42]"
      ],
      "execution_count": 20,
      "outputs": []
    },
    {
      "cell_type": "code",
      "metadata": {
        "id": "LB1h624iE85t"
      },
      "source": [
        "parameters_tree = dict(classif_tree__criterion=criterion,\n",
        "                  classif_tree__max_depth=max_depth,\n",
        "                  classif_tree__random_state=random_state)"
      ],
      "execution_count": 21,
      "outputs": []
    },
    {
      "cell_type": "markdown",
      "metadata": {
        "id": "xE9JSPfXffhF"
      },
      "source": [
        "###Treinar o modelo com os melhores parâmetros encontrados no GridSearch"
      ]
    },
    {
      "cell_type": "code",
      "metadata": {
        "id": "Ty_VGzcZE-xp"
      },
      "source": [
        "tree_GS = GridSearchCV(pipe_tree, parameters_tree)\n",
        "tree_model = tree_GS.fit(X_train, y_train)"
      ],
      "execution_count": 22,
      "outputs": []
    },
    {
      "cell_type": "markdown",
      "metadata": {
        "id": "iDhD8ucSfoqK"
      },
      "source": [
        "### Teste do modelo treinado"
      ]
    },
    {
      "cell_type": "code",
      "metadata": {
        "id": "zHrXrYN_FB87"
      },
      "source": [
        "y_pred_tree = tree_model.predict(X_test)\n",
        "cm_tree = confusion_matrix(y_test,y_pred_tree)"
      ],
      "execution_count": 23,
      "outputs": []
    },
    {
      "cell_type": "markdown",
      "metadata": {
        "id": "nR4hHkP8fuk-"
      },
      "source": [
        "###Resultado"
      ]
    },
    {
      "cell_type": "code",
      "metadata": {
        "colab": {
          "base_uri": "https://localhost:8080/",
          "height": 449
        },
        "id": "oJyzB8mIFEdg",
        "outputId": "ee6d2eef-f304-4082-e25e-fa44314d1563"
      },
      "source": [
        "plot_confusion_matrix(tree_model, X_test, y_test, normalize = 'true')\n",
        "print(classification_report(y_test,y_pred_tree))\n",
        "print(metrics.accuracy_score(y_test,y_pred_tree))"
      ],
      "execution_count": 25,
      "outputs": [
        {
          "output_type": "stream",
          "text": [
            "              precision    recall  f1-score   support\n",
            "\n",
            "           0       0.70      0.75      0.72        40\n",
            "           1       0.79      0.75      0.77        51\n",
            "\n",
            "    accuracy                           0.75        91\n",
            "   macro avg       0.74      0.75      0.75        91\n",
            "weighted avg       0.75      0.75      0.75        91\n",
            "\n",
            "0.7472527472527473\n"
          ],
          "name": "stdout"
        },
        {
          "output_type": "display_data",
          "data": {
            "image/png": "[encoded data removed]",
            "text/plain": [
              "<Figure size 432x288 with 2 Axes>"
            ]
          },
          "metadata": {
            "tags": [],
            "needs_background": "light"
          }
        }
      ]
    },
    {
      "cell_type": "markdown",
      "metadata": {
        "id": "pmmlMJRZfzEs"
      },
      "source": [
        "##XGBoost"
      ]
    },
    {
      "cell_type": "markdown",
      "metadata": {
        "id": "59qzeHm7f200"
      },
      "source": [
        "###Estaciar classificador XGBoost"
      ]
    },
    {
      "cell_type": "code",
      "metadata": {
        "id": "ZOMfw_2cIno-"
      },
      "source": [
        "classif_xg = XGBClassifier()"
      ],
      "execution_count": 26,
      "outputs": []
    },
    {
      "cell_type": "markdown",
      "metadata": {
        "id": "6AGZCpJDf9L9"
      },
      "source": [
        "###Criação de Pipeline para XGBoost"
      ]
    },
    {
      "cell_type": "code",
      "metadata": {
        "id": "gg6Ht-dKIoVg"
      },
      "source": [
        "pipe_xg = Pipeline(steps=[('std_slc', std_slc),\n",
        "                       ('classif_xg', classif_xg)])"
      ],
      "execution_count": 27,
      "outputs": []
    },
    {
      "cell_type": "markdown",
      "metadata": {
        "id": "FoX25sxYgC3W"
      },
      "source": [
        "###GridSearch para XGBoost"
      ]
    },
    {
      "cell_type": "code",
      "metadata": {
        "id": "k5tdri8_IqFS"
      },
      "source": [
        "learning_rate = [0.001,0.01,0.1,1]"
      ],
      "execution_count": 28,
      "outputs": []
    },
    {
      "cell_type": "code",
      "metadata": {
        "id": "MfX5DPTOIr0s"
      },
      "source": [
        "parameters_xg = dict(classif_xg__max_depth=max_depth,\n",
        "                  classif_xg__learning_rate=learning_rate,\n",
        "                  classif_xg__random_state=random_state)"
      ],
      "execution_count": 29,
      "outputs": []
    },
    {
      "cell_type": "markdown",
      "metadata": {
        "id": "xmFGA-t4gI2J"
      },
      "source": [
        "###Treinar o modelo com os melhores parâmetros encontrados no GridSearch"
      ]
    },
    {
      "cell_type": "code",
      "metadata": {
        "id": "Gt07RJirI8Y-"
      },
      "source": [
        "xg_GS = GridSearchCV(pipe_xg, parameters_xg)\n",
        "xg_model = xg_GS.fit(X_train, y_train)"
      ],
      "execution_count": 30,
      "outputs": []
    },
    {
      "cell_type": "markdown",
      "metadata": {
        "id": "Ko447XphgjQp"
      },
      "source": [
        "###Teste do modelo treinado"
      ]
    },
    {
      "cell_type": "code",
      "metadata": {
        "id": "9RqWum0KIvyY"
      },
      "source": [
        "y_pred_xg = xg_model.predict(X_test)\n",
        "cm_xg = confusion_matrix(y_test,y_pred_xg)"
      ],
      "execution_count": 32,
      "outputs": []
    },
    {
      "cell_type": "markdown",
      "metadata": {
        "id": "0UJ1alt0gmCB"
      },
      "source": [
        "###Resultado"
      ]
    },
    {
      "cell_type": "code",
      "metadata": {
        "colab": {
          "base_uri": "https://localhost:8080/",
          "height": 449
        },
        "id": "Awwf2x9CIx4y",
        "outputId": "bd4bbd2b-0ebc-4029-e9d5-d7c4c8c30fa1"
      },
      "source": [
        "plot_confusion_matrix(xg_model, X_test, y_test, normalize = 'true')\n",
        "print(classification_report(y_test,y_pred_xg))\n",
        "print(metrics.accuracy_score(y_test,y_pred_xg))"
      ],
      "execution_count": 33,
      "outputs": [
        {
          "output_type": "stream",
          "text": [
            "              precision    recall  f1-score   support\n",
            "\n",
            "           0       0.79      0.82      0.80        40\n",
            "           1       0.86      0.82      0.84        51\n",
            "\n",
            "    accuracy                           0.82        91\n",
            "   macro avg       0.82      0.82      0.82        91\n",
            "weighted avg       0.83      0.82      0.82        91\n",
            "\n",
            "0.8241758241758241\n"
          ],
          "name": "stdout"
        },
        {
          "output_type": "display_data",
          "data": {
            "image/png": "[encoded data removed]",
            "text/plain": [
              "<Figure size 432x288 with 2 Axes>"
            ]
          },
          "metadata": {
            "tags": [],
            "needs_background": "light"
          }
        }
      ]
    },
    {
      "cell_type": "markdown",
      "metadata": {
        "id": "vYbWa1WQhPVd"
      },
      "source": [
        "##KNeighbors"
      ]
    },
    {
      "cell_type": "markdown",
      "metadata": {
        "id": "ctSe8xZShu6S"
      },
      "source": [
        "###Estanciar classificador KNeighbors"
      ]
    },
    {
      "cell_type": "code",
      "metadata": {
        "id": "U9CoCENYMwjT"
      },
      "source": [
        "classif_KNN = KNeighborsClassifier()"
      ],
      "execution_count": 34,
      "outputs": []
    },
    {
      "cell_type": "markdown",
      "metadata": {
        "id": "gjcYSWtjh0Yv"
      },
      "source": [
        "###Criação de Pipeline para KNeighbors"
      ]
    },
    {
      "cell_type": "markdown",
      "metadata": {
        "id": "6Wx1uJmZh5SR"
      },
      "source": [
        "###GridSearch para KNeighbors"
      ]
    },
    {
      "cell_type": "code",
      "metadata": {
        "id": "gcd4_KdGMzon"
      },
      "source": [
        "pipe_KNN = Pipeline(steps=[('std_slc', std_slc),\n",
        "                       ('classif_KNN', classif_KNN)])"
      ],
      "execution_count": 35,
      "outputs": []
    },
    {
      "cell_type": "code",
      "metadata": {
        "id": "Hs_GOnsIM1jS"
      },
      "source": [
        "weights = ['uniform', 'distance']\n",
        "n_neighbors = range(1,26)\n",
        "p = [1,2]"
      ],
      "execution_count": 36,
      "outputs": []
    },
    {
      "cell_type": "code",
      "metadata": {
        "id": "GQicyTXoM7wC"
      },
      "source": [
        "parameters_KNN = dict(classif_KNN__weights=weights,\n",
        "                  classif_KNN__n_neighbors=n_neighbors,\n",
        "                  classif_KNN__p=p)"
      ],
      "execution_count": 37,
      "outputs": []
    },
    {
      "cell_type": "markdown",
      "metadata": {
        "id": "xx3j1yrmiByX"
      },
      "source": [
        "###Treinar o modelo com os melhores parâmetros encontrados no GridSearch"
      ]
    },
    {
      "cell_type": "code",
      "metadata": {
        "id": "VxAwYs3mM-bR"
      },
      "source": [
        "KNN_GS = GridSearchCV(pipe_KNN, parameters_KNN)\n",
        "KNN_model = KNN_GS.fit(X_train, y_train)"
      ],
      "execution_count": 38,
      "outputs": []
    },
    {
      "cell_type": "markdown",
      "metadata": {
        "id": "nu_23EQpiJlP"
      },
      "source": [
        "###Teste do modelo treinado"
      ]
    },
    {
      "cell_type": "code",
      "metadata": {
        "id": "9XvOG4AgNAiv"
      },
      "source": [
        "y_pred_KNN = KNN_model.predict(X_test)"
      ],
      "execution_count": 39,
      "outputs": []
    },
    {
      "cell_type": "code",
      "metadata": {
        "id": "241_yfwuNEFr"
      },
      "source": [
        "cm_KNN = confusion_matrix(y_test,y_pred_KNN)"
      ],
      "execution_count": 40,
      "outputs": []
    },
    {
      "cell_type": "markdown",
      "metadata": {
        "id": "Fhe2j3ZOiP1k"
      },
      "source": [
        "###Resultado"
      ]
    },
    {
      "cell_type": "code",
      "metadata": {
        "colab": {
          "base_uri": "https://localhost:8080/",
          "height": 449
        },
        "id": "XIuO4C0SNGZ_",
        "outputId": "2cf1b022-f42c-4378-96a5-de65be848127"
      },
      "source": [
        "plot_confusion_matrix(KNN_model, X_test, y_test, normalize = 'true')\n",
        "\n",
        "print(classification_report(y_test, y_pred_KNN))\n",
        "print(metrics.accuracy_score(y_test, y_pred_KNN))"
      ],
      "execution_count": 42,
      "outputs": [
        {
          "output_type": "stream",
          "text": [
            "              precision    recall  f1-score   support\n",
            "\n",
            "           0       0.83      0.88      0.85        40\n",
            "           1       0.90      0.86      0.88        51\n",
            "\n",
            "    accuracy                           0.87        91\n",
            "   macro avg       0.87      0.87      0.87        91\n",
            "weighted avg       0.87      0.87      0.87        91\n",
            "\n",
            "0.8681318681318682\n"
          ],
          "name": "stdout"
        },
        {
          "output_type": "display_data",
          "data": {
            "image/png": "[encoded data removed]",
            "text/plain": [
              "<Figure size 432x288 with 2 Axes>"
            ]
          },
          "metadata": {
            "tags": [],
            "needs_background": "light"
          }
        }
      ]
    },
    {
      "cell_type": "markdown",
      "metadata": {
        "id": "_aAasEhoizR7"
      },
      "source": [
        "##Random Forest"
      ]
    },
    {
      "cell_type": "markdown",
      "metadata": {
        "id": "1v71nEK7i_3O"
      },
      "source": [
        "###Estanciar classificador Random Forest"
      ]
    },
    {
      "cell_type": "code",
      "metadata": {
        "id": "P0qwkzBXQO2h"
      },
      "source": [
        "classif_random_forest = RandomForestClassifier()"
      ],
      "execution_count": 43,
      "outputs": []
    },
    {
      "cell_type": "markdown",
      "metadata": {
        "id": "2ZJetUEyjEXz"
      },
      "source": [
        "###Criação de Pipeline para Random Forest"
      ]
    },
    {
      "cell_type": "code",
      "metadata": {
        "id": "RDHSyRXHRW-v"
      },
      "source": [
        "pipe_random = Pipeline(steps=[('std_slc', std_slc),\n",
        "                       ('classif_random_forest', classif_random_forest)])"
      ],
      "execution_count": 44,
      "outputs": []
    },
    {
      "cell_type": "markdown",
      "metadata": {
        "id": "N2wA2CJkjIzH"
      },
      "source": [
        "###GridSearch para Random Forest"
      ]
    },
    {
      "cell_type": "code",
      "metadata": {
        "id": "ETDX_yYsRkem"
      },
      "source": [
        "max_depth = [2,4,6,8,10,12]\n",
        "random_state = [32,42]\n",
        "n_estimators= range(10,10,200)"
      ],
      "execution_count": 45,
      "outputs": []
    },
    {
      "cell_type": "code",
      "metadata": {
        "id": "ew7CsoC-R92g"
      },
      "source": [
        "parameters_random_forester = dict(classif_random_forest__n_estimators=n_estimators,\n",
        "                  classif_random_forest__max_depth=max_depth,\n",
        "                  classif_random_forest__random_state=random_state)"
      ],
      "execution_count": 46,
      "outputs": []
    },
    {
      "cell_type": "markdown",
      "metadata": {
        "id": "3V9NJIVujNR3"
      },
      "source": [
        "###Treinar o modelo com os melhores parâmetros encontrados no GridSearch"
      ]
    },
    {
      "cell_type": "code",
      "metadata": {
        "id": "_-kulChvQVyN"
      },
      "source": [
        "random_forest_model = classif_random_forest.fit(X_train, y_train)"
      ],
      "execution_count": 47,
      "outputs": []
    },
    {
      "cell_type": "markdown",
      "metadata": {
        "id": "IZck-_bhjV7v"
      },
      "source": [
        "\n",
        "###Teste do modelo treinado"
      ]
    },
    {
      "cell_type": "code",
      "metadata": {
        "id": "8_w84KAKQpYm"
      },
      "source": [
        "y_pred_random_model = random_forest_model.predict(X_test)"
      ],
      "execution_count": 48,
      "outputs": []
    },
    {
      "cell_type": "markdown",
      "metadata": {
        "id": "IN0G_b8vjZ49"
      },
      "source": [
        "###Resultado"
      ]
    },
    {
      "cell_type": "code",
      "metadata": {
        "colab": {
          "base_uri": "https://localhost:8080/",
          "height": 449
        },
        "id": "cpuVvIC6Qg7e",
        "outputId": "da4b8d27-e865-4a04-d89f-2814907ed8a3"
      },
      "source": [
        "plot_confusion_matrix(random_forest_model, X_test, y_test, normalize = 'true')\n",
        "\n",
        "print(classification_report(y_test, y_pred_random_model))\n",
        "print(metrics.accuracy_score(y_test, y_pred_random_model))"
      ],
      "execution_count": 49,
      "outputs": [
        {
          "output_type": "stream",
          "text": [
            "              precision    recall  f1-score   support\n",
            "\n",
            "           0       0.77      0.82      0.80        40\n",
            "           1       0.85      0.80      0.83        51\n",
            "\n",
            "    accuracy                           0.81        91\n",
            "   macro avg       0.81      0.81      0.81        91\n",
            "weighted avg       0.82      0.81      0.81        91\n",
            "\n",
            "0.8131868131868132\n"
          ],
          "name": "stdout"
        },
        {
          "output_type": "display_data",
          "data": {
            "image/png": "[encoded data removed]",
            "text/plain": [
              "<Figure size 432x288 with 2 Axes>"
            ]
          },
          "metadata": {
            "tags": [],
            "needs_background": "light"
          }
        }
      ]
    }
  ]
}