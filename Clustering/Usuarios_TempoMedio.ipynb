{
  "nbformat": 4,
  "nbformat_minor": 0,
  "metadata": {
    "colab": {
      "name": "Usuarios_TempoMedio.ipynb",
      "provenance": [],
      "collapsed_sections": [],
      "toc_visible": true,
      "include_colab_link": true
    },
    "kernelspec": {
      "name": "python3",
      "display_name": "Python 3"
    }
  },
  "cells": [
    {
      "cell_type": "markdown",
      "metadata": {
        "id": "view-in-github",
        "colab_type": "text"
      },
      "source": [
        "<a href=\"https://colab.research.google.com/github/douglassesi/MachineLearning/blob/main/Clustering/Usuarios_TempoMedio.ipynb\" target=\"_parent\"><img src=\"https://colab.research.google.com/assets/colab-badge.svg\" alt=\"Open In Colab\"/></a>"
      ]
    },
    {
      "cell_type": "markdown",
      "metadata": {
        "id": "sV_uH72rWRvE"
      },
      "source": [
        "##Objetivo"
      ]
    },
    {
      "cell_type": "markdown",
      "metadata": {
        "id": "izSG9awCLSpB"
      },
      "source": [
        "\n",
        "Utilizando o arquivo Usuarios-TempoMedioQuantidade.csv, que é uma amostra do tempo de utilização dos usuários em um determinado sistema:\n",
        "\n",
        "\n",
        "1.   O que representam os clusters gerados?\n",
        "2.   Qual é a melhor quantidade de Clusters?\n",
        "3.   Qual é a melhor técnica (k-means ou DBSCAN) a ser utilizada nessa clusterização?\n"
      ]
    },
    {
      "cell_type": "markdown",
      "metadata": {
        "id": "7NqZrnHB9P_R"
      },
      "source": [
        "#Importando as bibliotecas"
      ]
    },
    {
      "cell_type": "code",
      "metadata": {
        "id": "dgPcFjoc9KKG"
      },
      "source": [
        "import pandas as pd\n",
        "import numpy as np\n",
        "import sklearn.metrics as sm\n",
        "import matplotlib.pyplot as plt\n",
        "from sklearn.cluster import KMeans\n",
        "from sklearn.cluster import DBSCAN\n",
        "from sklearn.preprocessing import StandardScaler\n",
        "import os"
      ],
      "execution_count": 1,
      "outputs": []
    },
    {
      "cell_type": "code",
      "metadata": {
        "colab": {
          "base_uri": "https://localhost:8080/"
        },
        "id": "a3dRzn1BjmLf",
        "outputId": "94e2f1d5-f2ff-434b-ad71-36c461fff1fa"
      },
      "source": [
        "!git clone https://github.com/douglassesi/MachineLearning"
      ],
      "execution_count": 2,
      "outputs": [
        {
          "output_type": "stream",
          "text": [
            "Cloning into 'MachineLearning'...\n",
            "remote: Enumerating objects: 108, done.\u001b[K\n",
            "remote: Counting objects: 100% (108/108), done.\u001b[K\n",
            "remote: Compressing objects: 100% (101/101), done.\u001b[K\n",
            "remote: Total 108 (delta 38), reused 0 (delta 0), pack-reused 0\u001b[K\n",
            "Receiving objects: 100% (108/108), 338.86 KiB | 217.00 KiB/s, done.\n",
            "Resolving deltas: 100% (38/38), done.\n"
          ],
          "name": "stdout"
        }
      ]
    },
    {
      "cell_type": "code",
      "metadata": {
        "id": "5PhZQeFbjswH"
      },
      "source": [
        "os.chdir(\"/content/MachineLearning/Clustering/src\")"
      ],
      "execution_count": 3,
      "outputs": []
    },
    {
      "cell_type": "markdown",
      "metadata": {
        "id": "6iQDtSAQ_Q99"
      },
      "source": [
        "#Carregando o dataset"
      ]
    },
    {
      "cell_type": "code",
      "metadata": {
        "id": "rzixwThA_W4R"
      },
      "source": [
        "df_tempoMedio =  pd.read_csv('Usuarios-TempoMedioQuantidade.csv',encoding=\"latin1\", sep=\";\")"
      ],
      "execution_count": 4,
      "outputs": []
    },
    {
      "cell_type": "code",
      "metadata": {
        "id": "WbPe2td-Bfys",
        "colab": {
          "base_uri": "https://localhost:8080/",
          "height": 204
        },
        "outputId": "e6f99963-a90b-463f-e5f1-6585b6296a70"
      },
      "source": [
        "df_tempoMedio.head()"
      ],
      "execution_count": 5,
      "outputs": [
        {
          "output_type": "execute_result",
          "data": {
            "text/html": [
              "<div>\n",
              "<style scoped>\n",
              "    .dataframe tbody tr th:only-of-type {\n",
              "        vertical-align: middle;\n",
              "    }\n",
              "\n",
              "    .dataframe tbody tr th {\n",
              "        vertical-align: top;\n",
              "    }\n",
              "\n",
              "    .dataframe thead th {\n",
              "        text-align: right;\n",
              "    }\n",
              "</style>\n",
              "<table border=\"1\" class=\"dataframe\">\n",
              "  <thead>\n",
              "    <tr style=\"text-align: right;\">\n",
              "      <th></th>\n",
              "      <th>NomeUsuario</th>\n",
              "      <th>Login</th>\n",
              "      <th>Email</th>\n",
              "      <th>NomeEquipe</th>\n",
              "      <th>Quantidade</th>\n",
              "      <th>TempoMedio</th>\n",
              "    </tr>\n",
              "  </thead>\n",
              "  <tbody>\n",
              "    <tr>\n",
              "      <th>0</th>\n",
              "      <td>dadostab1</td>\n",
              "      <td>dadostab1</td>\n",
              "      <td>dadostab1@dadospesquisa.com.br</td>\n",
              "      <td>Equipe Dados Pesquisa</td>\n",
              "      <td>1498</td>\n",
              "      <td>0</td>\n",
              "    </tr>\n",
              "    <tr>\n",
              "      <th>1</th>\n",
              "      <td>axistab2</td>\n",
              "      <td>axistab2</td>\n",
              "      <td>axistab2@axiscriativa.com.br</td>\n",
              "      <td>Equipe Axis Criativa</td>\n",
              "      <td>461</td>\n",
              "      <td>75</td>\n",
              "    </tr>\n",
              "    <tr>\n",
              "      <th>2</th>\n",
              "      <td>axistab1</td>\n",
              "      <td>axistab1</td>\n",
              "      <td>axistab1@axiscriativa.com.br</td>\n",
              "      <td>Equipe Axis Criativa</td>\n",
              "      <td>445</td>\n",
              "      <td>7</td>\n",
              "    </tr>\n",
              "    <tr>\n",
              "      <th>3</th>\n",
              "      <td>planocdetab1</td>\n",
              "      <td>planocdetab1</td>\n",
              "      <td>planocdetab1@planocde.com.br</td>\n",
              "      <td>Equipe PlanoCDE</td>\n",
              "      <td>423</td>\n",
              "      <td>140</td>\n",
              "    </tr>\n",
              "    <tr>\n",
              "      <th>4</th>\n",
              "      <td>Usuario11</td>\n",
              "      <td>usuario11</td>\n",
              "      <td>usuario11@marketnnova.com</td>\n",
              "      <td>Equipe Marketnnova</td>\n",
              "      <td>351</td>\n",
              "      <td>22</td>\n",
              "    </tr>\n",
              "  </tbody>\n",
              "</table>\n",
              "</div>"
            ],
            "text/plain": [
              "    NomeUsuario         Login  ... Quantidade TempoMedio\n",
              "0     dadostab1     dadostab1  ...       1498          0\n",
              "1      axistab2      axistab2  ...        461         75\n",
              "2      axistab1      axistab1  ...        445          7\n",
              "3  planocdetab1  planocdetab1  ...        423        140\n",
              "4     Usuario11     usuario11  ...        351         22\n",
              "\n",
              "[5 rows x 6 columns]"
            ]
          },
          "metadata": {
            "tags": []
          },
          "execution_count": 5
        }
      ]
    },
    {
      "cell_type": "markdown",
      "metadata": {
        "id": "mO_5SjjdJu8D"
      },
      "source": [
        "#Replicando o dataset origem apenas com as colunas necessárias"
      ]
    },
    {
      "cell_type": "code",
      "metadata": {
        "id": "WcIm6eXOGWwA"
      },
      "source": [
        "df_tempoMedio_means = df_tempoMedio[['Quantidade','TempoMedio']]"
      ],
      "execution_count": 6,
      "outputs": []
    },
    {
      "cell_type": "code",
      "metadata": {
        "id": "7PsRj43AG6KS",
        "colab": {
          "base_uri": "https://localhost:8080/",
          "height": 419
        },
        "outputId": "c428d276-478a-41a7-83e7-23bd39480491"
      },
      "source": [
        "df_tempoMedio_means"
      ],
      "execution_count": 7,
      "outputs": [
        {
          "output_type": "execute_result",
          "data": {
            "text/html": [
              "<div>\n",
              "<style scoped>\n",
              "    .dataframe tbody tr th:only-of-type {\n",
              "        vertical-align: middle;\n",
              "    }\n",
              "\n",
              "    .dataframe tbody tr th {\n",
              "        vertical-align: top;\n",
              "    }\n",
              "\n",
              "    .dataframe thead th {\n",
              "        text-align: right;\n",
              "    }\n",
              "</style>\n",
              "<table border=\"1\" class=\"dataframe\">\n",
              "  <thead>\n",
              "    <tr style=\"text-align: right;\">\n",
              "      <th></th>\n",
              "      <th>Quantidade</th>\n",
              "      <th>TempoMedio</th>\n",
              "    </tr>\n",
              "  </thead>\n",
              "  <tbody>\n",
              "    <tr>\n",
              "      <th>0</th>\n",
              "      <td>1498</td>\n",
              "      <td>0</td>\n",
              "    </tr>\n",
              "    <tr>\n",
              "      <th>1</th>\n",
              "      <td>461</td>\n",
              "      <td>75</td>\n",
              "    </tr>\n",
              "    <tr>\n",
              "      <th>2</th>\n",
              "      <td>445</td>\n",
              "      <td>7</td>\n",
              "    </tr>\n",
              "    <tr>\n",
              "      <th>3</th>\n",
              "      <td>423</td>\n",
              "      <td>140</td>\n",
              "    </tr>\n",
              "    <tr>\n",
              "      <th>4</th>\n",
              "      <td>351</td>\n",
              "      <td>22</td>\n",
              "    </tr>\n",
              "    <tr>\n",
              "      <th>...</th>\n",
              "      <td>...</td>\n",
              "      <td>...</td>\n",
              "    </tr>\n",
              "    <tr>\n",
              "      <th>597</th>\n",
              "      <td>1</td>\n",
              "      <td>1</td>\n",
              "    </tr>\n",
              "    <tr>\n",
              "      <th>598</th>\n",
              "      <td>1</td>\n",
              "      <td>16</td>\n",
              "    </tr>\n",
              "    <tr>\n",
              "      <th>599</th>\n",
              "      <td>1</td>\n",
              "      <td>12</td>\n",
              "    </tr>\n",
              "    <tr>\n",
              "      <th>600</th>\n",
              "      <td>1</td>\n",
              "      <td>46</td>\n",
              "    </tr>\n",
              "    <tr>\n",
              "      <th>601</th>\n",
              "      <td>1</td>\n",
              "      <td>49</td>\n",
              "    </tr>\n",
              "  </tbody>\n",
              "</table>\n",
              "<p>602 rows × 2 columns</p>\n",
              "</div>"
            ],
            "text/plain": [
              "     Quantidade  TempoMedio\n",
              "0          1498           0\n",
              "1           461          75\n",
              "2           445           7\n",
              "3           423         140\n",
              "4           351          22\n",
              "..          ...         ...\n",
              "597           1           1\n",
              "598           1          16\n",
              "599           1          12\n",
              "600           1          46\n",
              "601           1          49\n",
              "\n",
              "[602 rows x 2 columns]"
            ]
          },
          "metadata": {
            "tags": []
          },
          "execution_count": 7
        }
      ]
    },
    {
      "cell_type": "markdown",
      "metadata": {
        "id": "NqmpH8twKV6y"
      },
      "source": [
        "#Encontrando a melhor quantidade de clusters para o modelo"
      ]
    },
    {
      "cell_type": "code",
      "metadata": {
        "id": "kAZwVzCcH4ps"
      },
      "source": [
        "inertias =[]\n",
        "for i in range(1, 15):\n",
        "    kmeans = KMeans(n_clusters = i, max_iter=100).fit(df_tempoMedio_means)    \n",
        "    #somatório dos erros quadráticos das instâncias de cada cluster\n",
        "    inertias.append(kmeans.inertia_)"
      ],
      "execution_count": 8,
      "outputs": []
    },
    {
      "cell_type": "code",
      "metadata": {
        "id": "FZdaWq1KIATO",
        "colab": {
          "base_uri": "https://localhost:8080/",
          "height": 295
        },
        "outputId": "8c6972ad-c563-4b4a-d661-0d178d4132b6"
      },
      "source": [
        "plt.figure(1)\n",
        "plt.plot(range(1, 15), inertias)\n",
        "plt.title('O Metodo Elbow')\n",
        "plt.xlabel('No de clusters')\n",
        "plt.ylabel('WSS - within cluster sum of squares')\n",
        "plt.show()"
      ],
      "execution_count": 9,
      "outputs": [
        {
          "output_type": "display_data",
          "data": {
            "image/png": "[encoded data removed]",
            "text/plain": [
              "<Figure size 432x288 with 1 Axes>"
            ]
          },
          "metadata": {
            "tags": [],
            "needs_background": "light"
          }
        }
      ]
    },
    {
      "cell_type": "markdown",
      "metadata": {
        "id": "uqavWf3CK_hr"
      },
      "source": [
        "Vamos tentar utilizar 3 clusters para esse caso."
      ]
    },
    {
      "cell_type": "markdown",
      "metadata": {
        "id": "U61zt5AtKGBs"
      },
      "source": [
        "#Trabalhando com K-Means\n"
      ]
    },
    {
      "cell_type": "markdown",
      "metadata": {
        "id": "qnPXKCZqXP4d"
      },
      "source": [
        "##Preparação"
      ]
    },
    {
      "cell_type": "code",
      "metadata": {
        "id": "m-3hffn3IUrB"
      },
      "source": [
        "kmeans3 = KMeans(n_clusters=3) #quantidade de clusters para simular"
      ],
      "execution_count": 10,
      "outputs": []
    },
    {
      "cell_type": "markdown",
      "metadata": {
        "id": "e2WAYfUpXUl6"
      },
      "source": [
        "##Aplicação"
      ]
    },
    {
      "cell_type": "code",
      "metadata": {
        "id": "s1uVcZFvLXa1",
        "colab": {
          "base_uri": "https://localhost:8080/"
        },
        "outputId": "bf350de1-e157-4e11-8283-c7d732293d75"
      },
      "source": [
        "kmeans3.fit(df_tempoMedio_means) #aplicação do kmeans no dataset"
      ],
      "execution_count": 11,
      "outputs": [
        {
          "output_type": "execute_result",
          "data": {
            "text/plain": [
              "KMeans(algorithm='auto', copy_x=True, init='k-means++', max_iter=300,\n",
              "       n_clusters=3, n_init=10, n_jobs=None, precompute_distances='auto',\n",
              "       random_state=None, tol=0.0001, verbose=0)"
            ]
          },
          "metadata": {
            "tags": []
          },
          "execution_count": 11
        }
      ]
    },
    {
      "cell_type": "code",
      "metadata": {
        "id": "yZFojRAdPkeN",
        "colab": {
          "base_uri": "https://localhost:8080/"
        },
        "outputId": "f638f77c-7ee7-4bb2-9ae1-8cf06f213bc1"
      },
      "source": [
        "df_tempoMedio_means[\"cluster\"] = kmeans3.labels_ #inclusão dos clusters determinados no dataset"
      ],
      "execution_count": 12,
      "outputs": [
        {
          "output_type": "stream",
          "text": [
            "/usr/local/lib/python3.6/dist-packages/ipykernel_launcher.py:1: SettingWithCopyWarning: \n",
            "A value is trying to be set on a copy of a slice from a DataFrame.\n",
            "Try using .loc[row_indexer,col_indexer] = value instead\n",
            "\n",
            "See the caveats in the documentation: https://pandas.pydata.org/pandas-docs/stable/user_guide/indexing.html#returning-a-view-versus-a-copy\n",
            "  \"\"\"Entry point for launching an IPython kernel.\n"
          ],
          "name": "stderr"
        }
      ]
    },
    {
      "cell_type": "markdown",
      "metadata": {
        "id": "9iEreIRqXGpV"
      },
      "source": [
        "##Plotagem da clusterização - Kmeans"
      ]
    },
    {
      "cell_type": "code",
      "metadata": {
        "id": "y-JvpvylLYNz",
        "colab": {
          "base_uri": "https://localhost:8080/",
          "height": 298
        },
        "outputId": "83a8a236-2f83-46f8-b008-1d03f474cf40"
      },
      "source": [
        "plt.scatter(df_tempoMedio_means.TempoMedio,df_tempoMedio_means.Quantidade, c=df_tempoMedio_means.cluster, s=100)\n",
        "plt.scatter(kmeans3.cluster_centers_[:,0],kmeans3.cluster_centers_[:,1],s=100,c='black',label=\"Centroids\",marker='+')\n",
        "plt.title(\"K-Means - TempoMedio\")\n"
      ],
      "execution_count": 13,
      "outputs": [
        {
          "output_type": "execute_result",
          "data": {
            "text/plain": [
              "Text(0.5, 1.0, 'K-Means - TempoMedio')"
            ]
          },
          "metadata": {
            "tags": []
          },
          "execution_count": 13
        },
        {
          "output_type": "display_data",
          "data": {
            "image/png": "[encoded data removed]",
            "text/plain": [
              "<Figure size 432x288 with 1 Axes>"
            ]
          },
          "metadata": {
            "tags": [],
            "needs_background": "light"
          }
        }
      ]
    },
    {
      "cell_type": "code",
      "metadata": {
        "id": "4KFKPOGadw29",
        "colab": {
          "base_uri": "https://localhost:8080/",
          "height": 421
        },
        "outputId": "08870c65-14d9-4cb8-8b87-350d7dffdcf0"
      },
      "source": [
        "df_tempoMedio_means[df_tempoMedio_means[\"cluster\"]==1]"
      ],
      "execution_count": 14,
      "outputs": [
        {
          "output_type": "execute_result",
          "data": {
            "text/html": [
              "<div>\n",
              "<style scoped>\n",
              "    .dataframe tbody tr th:only-of-type {\n",
              "        vertical-align: middle;\n",
              "    }\n",
              "\n",
              "    .dataframe tbody tr th {\n",
              "        vertical-align: top;\n",
              "    }\n",
              "\n",
              "    .dataframe thead th {\n",
              "        text-align: right;\n",
              "    }\n",
              "</style>\n",
              "<table border=\"1\" class=\"dataframe\">\n",
              "  <thead>\n",
              "    <tr style=\"text-align: right;\">\n",
              "      <th></th>\n",
              "      <th>Quantidade</th>\n",
              "      <th>TempoMedio</th>\n",
              "      <th>cluster</th>\n",
              "    </tr>\n",
              "  </thead>\n",
              "  <tbody>\n",
              "    <tr>\n",
              "      <th>95</th>\n",
              "      <td>38</td>\n",
              "      <td>1285</td>\n",
              "      <td>1</td>\n",
              "    </tr>\n",
              "    <tr>\n",
              "      <th>101</th>\n",
              "      <td>30</td>\n",
              "      <td>1283</td>\n",
              "      <td>1</td>\n",
              "    </tr>\n",
              "    <tr>\n",
              "      <th>105</th>\n",
              "      <td>28</td>\n",
              "      <td>1299</td>\n",
              "      <td>1</td>\n",
              "    </tr>\n",
              "    <tr>\n",
              "      <th>108</th>\n",
              "      <td>24</td>\n",
              "      <td>1293</td>\n",
              "      <td>1</td>\n",
              "    </tr>\n",
              "    <tr>\n",
              "      <th>110</th>\n",
              "      <td>22</td>\n",
              "      <td>1295</td>\n",
              "      <td>1</td>\n",
              "    </tr>\n",
              "    <tr>\n",
              "      <th>120</th>\n",
              "      <td>20</td>\n",
              "      <td>1297</td>\n",
              "      <td>1</td>\n",
              "    </tr>\n",
              "    <tr>\n",
              "      <th>124</th>\n",
              "      <td>19</td>\n",
              "      <td>1297</td>\n",
              "      <td>1</td>\n",
              "    </tr>\n",
              "    <tr>\n",
              "      <th>125</th>\n",
              "      <td>19</td>\n",
              "      <td>1291</td>\n",
              "      <td>1</td>\n",
              "    </tr>\n",
              "    <tr>\n",
              "      <th>126</th>\n",
              "      <td>17</td>\n",
              "      <td>1266</td>\n",
              "      <td>1</td>\n",
              "    </tr>\n",
              "    <tr>\n",
              "      <th>129</th>\n",
              "      <td>16</td>\n",
              "      <td>1303</td>\n",
              "      <td>1</td>\n",
              "    </tr>\n",
              "    <tr>\n",
              "      <th>130</th>\n",
              "      <td>16</td>\n",
              "      <td>1303</td>\n",
              "      <td>1</td>\n",
              "    </tr>\n",
              "    <tr>\n",
              "      <th>138</th>\n",
              "      <td>9</td>\n",
              "      <td>1277</td>\n",
              "      <td>1</td>\n",
              "    </tr>\n",
              "  </tbody>\n",
              "</table>\n",
              "</div>"
            ],
            "text/plain": [
              "     Quantidade  TempoMedio  cluster\n",
              "95           38        1285        1\n",
              "101          30        1283        1\n",
              "105          28        1299        1\n",
              "108          24        1293        1\n",
              "110          22        1295        1\n",
              "120          20        1297        1\n",
              "124          19        1297        1\n",
              "125          19        1291        1\n",
              "126          17        1266        1\n",
              "129          16        1303        1\n",
              "130          16        1303        1\n",
              "138           9        1277        1"
            ]
          },
          "metadata": {
            "tags": []
          },
          "execution_count": 14
        }
      ]
    },
    {
      "cell_type": "markdown",
      "metadata": {
        "id": "3mqhorTsXbOg"
      },
      "source": [
        "O Kmeans se mostrou coerente na clusterização."
      ]
    },
    {
      "cell_type": "markdown",
      "metadata": {
        "id": "OLNFw3TiVPVx"
      },
      "source": [
        "#Tralhando com DBSCAN"
      ]
    },
    {
      "cell_type": "markdown",
      "metadata": {
        "id": "0oLV0EHsaYq2"
      },
      "source": [
        "##Preparação"
      ]
    },
    {
      "cell_type": "code",
      "metadata": {
        "id": "d93VzvsXM0RC",
        "colab": {
          "base_uri": "https://localhost:8080/",
          "height": 419
        },
        "outputId": "56f34664-3781-43bc-8685-ae3d0a18baf0"
      },
      "source": [
        "df_tempoMedio_dbscan = df_tempoMedio[['Quantidade','TempoMedio']]\n",
        "df_tempoMedio_dbscan"
      ],
      "execution_count": 15,
      "outputs": [
        {
          "output_type": "execute_result",
          "data": {
            "text/html": [
              "<div>\n",
              "<style scoped>\n",
              "    .dataframe tbody tr th:only-of-type {\n",
              "        vertical-align: middle;\n",
              "    }\n",
              "\n",
              "    .dataframe tbody tr th {\n",
              "        vertical-align: top;\n",
              "    }\n",
              "\n",
              "    .dataframe thead th {\n",
              "        text-align: right;\n",
              "    }\n",
              "</style>\n",
              "<table border=\"1\" class=\"dataframe\">\n",
              "  <thead>\n",
              "    <tr style=\"text-align: right;\">\n",
              "      <th></th>\n",
              "      <th>Quantidade</th>\n",
              "      <th>TempoMedio</th>\n",
              "    </tr>\n",
              "  </thead>\n",
              "  <tbody>\n",
              "    <tr>\n",
              "      <th>0</th>\n",
              "      <td>1498</td>\n",
              "      <td>0</td>\n",
              "    </tr>\n",
              "    <tr>\n",
              "      <th>1</th>\n",
              "      <td>461</td>\n",
              "      <td>75</td>\n",
              "    </tr>\n",
              "    <tr>\n",
              "      <th>2</th>\n",
              "      <td>445</td>\n",
              "      <td>7</td>\n",
              "    </tr>\n",
              "    <tr>\n",
              "      <th>3</th>\n",
              "      <td>423</td>\n",
              "      <td>140</td>\n",
              "    </tr>\n",
              "    <tr>\n",
              "      <th>4</th>\n",
              "      <td>351</td>\n",
              "      <td>22</td>\n",
              "    </tr>\n",
              "    <tr>\n",
              "      <th>...</th>\n",
              "      <td>...</td>\n",
              "      <td>...</td>\n",
              "    </tr>\n",
              "    <tr>\n",
              "      <th>597</th>\n",
              "      <td>1</td>\n",
              "      <td>1</td>\n",
              "    </tr>\n",
              "    <tr>\n",
              "      <th>598</th>\n",
              "      <td>1</td>\n",
              "      <td>16</td>\n",
              "    </tr>\n",
              "    <tr>\n",
              "      <th>599</th>\n",
              "      <td>1</td>\n",
              "      <td>12</td>\n",
              "    </tr>\n",
              "    <tr>\n",
              "      <th>600</th>\n",
              "      <td>1</td>\n",
              "      <td>46</td>\n",
              "    </tr>\n",
              "    <tr>\n",
              "      <th>601</th>\n",
              "      <td>1</td>\n",
              "      <td>49</td>\n",
              "    </tr>\n",
              "  </tbody>\n",
              "</table>\n",
              "<p>602 rows × 2 columns</p>\n",
              "</div>"
            ],
            "text/plain": [
              "     Quantidade  TempoMedio\n",
              "0          1498           0\n",
              "1           461          75\n",
              "2           445           7\n",
              "3           423         140\n",
              "4           351          22\n",
              "..          ...         ...\n",
              "597           1           1\n",
              "598           1          16\n",
              "599           1          12\n",
              "600           1          46\n",
              "601           1          49\n",
              "\n",
              "[602 rows x 2 columns]"
            ]
          },
          "metadata": {
            "tags": []
          },
          "execution_count": 15
        }
      ]
    },
    {
      "cell_type": "markdown",
      "metadata": {
        "id": "hrGBjWkQaxry"
      },
      "source": [
        "##Normalização dos dados"
      ]
    },
    {
      "cell_type": "code",
      "metadata": {
        "id": "n2yA23SoWXcK"
      },
      "source": [
        "SS = StandardScaler().fit_transform(df_tempoMedio_dbscan)"
      ],
      "execution_count": 16,
      "outputs": []
    },
    {
      "cell_type": "markdown",
      "metadata": {
        "id": "uDOOiY0ka3zG"
      },
      "source": [
        "##Aplicação DBSCAN"
      ]
    },
    {
      "cell_type": "code",
      "metadata": {
        "id": "_AF8K88zYSlh",
        "colab": {
          "base_uri": "https://localhost:8080/"
        },
        "outputId": "07bdebe7-0c65-4991-ac66-79ae193f6bc8"
      },
      "source": [
        "db = DBSCAN(eps=1.5,min_samples=5).fit(SS)\n",
        "print(db.labels_)"
      ],
      "execution_count": 17,
      "outputs": [
        {
          "output_type": "stream",
          "text": [
            "[-1  0  0  0  0  0  0  0  0  0  0  0  0  0  0  0  0  0  0  0  0  0  0  0\n",
            "  0  0  0  0  0  0  0  0  0  0  0  0  0  0  0  0  0  0  0  0  0  0  0  0\n",
            "  0  0  0  0  0  0  0  0  0  0  0  0  0  0  0  0  0  0  0  0  0  0  0  0\n",
            "  0  0  0  0  0  0  0  0  0  0  0  0  0  0  0  0  0  0  0  0  0  0  0  1\n",
            "  0  0  0  0  0  1  0  0  0  1  0  0  1  0  1  0  0  0  0  0  0  0  0  0\n",
            "  1  0  0  0  1  1  1  0  0  1  1  0  0  0  0  0  0  0  1  0  0  0  0  0\n",
            "  0  0  0  0  0  0  0  0  0  0  0  0  0  0  0  0  0  0  0  0  0  0  0  0\n",
            "  0  0  0  0  0  0  0  0  0  0  0  0  0  0  0  0  0  0  0  0  0  0  0  0\n",
            "  0  0  0  0  0  0  0  0  0  0  0  0  0  0  0  0  0  0  0  0  0  0  0  0\n",
            "  0  0  0  0  0  0  0  0  0  0  0  0  0  0  0  0  0  0  0  0  0  0  0  0\n",
            "  0  0  0  0  0  0  0  0  0  0  0  0  0  0  0  0  0  0  0  0  0  0  0  0\n",
            "  0  0  0  0  0  0  0  0  0  0  0  0  0  0  0  0  0  0  0  0  0  0  0  0\n",
            "  0  0  0  0  0  0  0  0  0  0  0  0  0  0  0  0  0  0  0  0  0  0  0  0\n",
            "  0  0  0  0  0  0  0  0  0  0  0  0  0  0  0  0  0  0  0  0  0  0  0  0\n",
            "  0  0  0  0  0  0  0  0  0  0  0  0  0  0  0  0  0  0  0  0  0  0  0  0\n",
            "  0  0  0  0  0  0  0  0  0  0  0  0  0  0  0  0  0  0  0  0  0  0  0  0\n",
            "  0  0  0  0  0  0  0  0  0  0  0  0  0  0  0  0  0  0  0  0  0  0  0  0\n",
            "  0  0  0  0  0  0  0  0  0  0  0  0  0  0  0  0  0  0  0  0  0  0  0  0\n",
            "  0  0  0  0  0  0  0  0  0  0  0  0  0  0  0  0  0  0  0  0  0  0  0  0\n",
            "  0  0  0  0  0  0  0  0  0  0  0  0  0  0  0  0  0  0  0  0  0  0  0  0\n",
            "  0  0  0  0  0  0  0  0  0  0  0  0  0  0  0  0  0  0  0  0  0  0  0  0\n",
            "  0  0  0  0  0  0  0  0  0  0  0  0  0  0  0  0  0  0  0  0  0  0  0  0\n",
            "  0  0  0  0  0  0  0  0  0  0  0  0  0  0  0  0  0  0  0  0  0  0  0  0\n",
            "  0  0  0  0  0  0  0  0  0  0  0  0  0  0  0  0  0  0  0  0  0  0  0  0\n",
            "  0  0  0  0  0  0  0  0  0  0  0  0  0  0  0  0  0  0  0  0  0  0  0  0\n",
            "  0  0]\n"
          ],
          "name": "stdout"
        }
      ]
    },
    {
      "cell_type": "markdown",
      "metadata": {
        "id": "8ebHvtf2a_Dc"
      },
      "source": [
        "##Plotagem da clusterização - DBSCAN"
      ]
    },
    {
      "cell_type": "code",
      "metadata": {
        "id": "-ULAOiWXZvNx",
        "colab": {
          "base_uri": "https://localhost:8080/"
        },
        "outputId": "878a9813-a194-43a2-f1a4-42b5826400c2"
      },
      "source": [
        "df_tempoMedio_dbscan['cluster'] = db.labels_ #inclusão do número do cluster no dataset"
      ],
      "execution_count": 18,
      "outputs": [
        {
          "output_type": "stream",
          "text": [
            "/usr/local/lib/python3.6/dist-packages/ipykernel_launcher.py:1: SettingWithCopyWarning: \n",
            "A value is trying to be set on a copy of a slice from a DataFrame.\n",
            "Try using .loc[row_indexer,col_indexer] = value instead\n",
            "\n",
            "See the caveats in the documentation: https://pandas.pydata.org/pandas-docs/stable/user_guide/indexing.html#returning-a-view-versus-a-copy\n",
            "  \"\"\"Entry point for launching an IPython kernel.\n"
          ],
          "name": "stderr"
        }
      ]
    },
    {
      "cell_type": "code",
      "metadata": {
        "id": "spPXyXggY5C9",
        "colab": {
          "base_uri": "https://localhost:8080/",
          "height": 312
        },
        "outputId": "ad2ac300-2827-4b5c-8adf-d1cfd9ecaa02"
      },
      "source": [
        "plt.scatter(df_tempoMedio_dbscan.TempoMedio,df_tempoMedio_dbscan.Quantidade, c=df_tempoMedio_dbscan.cluster, s=100)\n",
        "plt.title(\"DBSCAN - TempoMedio\")\n",
        "plt.xlabel('TempoMedio')\n",
        "plt.ylabel('Quantidades')"
      ],
      "execution_count": 19,
      "outputs": [
        {
          "output_type": "execute_result",
          "data": {
            "text/plain": [
              "Text(0, 0.5, 'Quantidades')"
            ]
          },
          "metadata": {
            "tags": []
          },
          "execution_count": 19
        },
        {
          "output_type": "display_data",
          "data": {
            "image/png": "[encoded data removed]",
            "text/plain": [
              "<Figure size 432x288 with 1 Axes>"
            ]
          },
          "metadata": {
            "tags": [],
            "needs_background": "light"
          }
        }
      ]
    },
    {
      "cell_type": "markdown",
      "metadata": {
        "id": "SaUdjm05byg-"
      },
      "source": [
        "O resultado do DBSCAN ficou um pouco confuso e difícil de interpretar."
      ]
    },
    {
      "cell_type": "markdown",
      "metadata": {
        "id": "fbKoDJwzdRgA"
      },
      "source": [
        "#Respostas\n",
        "\n",
        "\n",
        "\n",
        "1.   O que representam os clusters gerados?\n",
        "   \n",
        "    * Cluster 0 - Quantidade de interações e tempo médio baixo, refere-se a interações normais de usuários\n",
        "    * Cluster 1 - Baixa quantidade de interações e tempo médio alto, pode estar relacionado a ociosidade sistêmica (usuário utiliza a ferramenta e a resposta é lenta) ou a falta de encerramento de sessão (usuário esqueceu a ferramenta aberta)\n",
        "    * Cluster 2 - Grande quantidade de interações com baixo tempo médio, refere-se a equipe Dados Pesquisa, que pode ser uma consulta sistêmica aos dados via API, por exemplo.\n",
        "2.   Qual é a melhor quantidade de Clusters?\n",
        "    * 3\n",
        "\n",
        "3. Qual é a melhor técnica (k-means ou DBSCAN) a ser utilizada nessa clusterização?\n",
        "    * K-means. O DBSCAN exige ajuste fino dos parâmetros."
      ]
    }
  ]
}