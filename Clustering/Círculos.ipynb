{
  "nbformat": 4,
  "nbformat_minor": 0,
  "metadata": {
    "colab": {
      "name": "Círculos.ipynb",
      "provenance": [],
      "collapsed_sections": [],
      "toc_visible": true,
      "include_colab_link": true
    },
    "kernelspec": {
      "name": "python3",
      "display_name": "Python 3"
    }
  },
  "cells": [
    {
      "cell_type": "markdown",
      "metadata": {
        "id": "view-in-github",
        "colab_type": "text"
      },
      "source": [
        "<a href=\"https://colab.research.google.com/github/douglassesi/MachineLearning/blob/main/Clustering/C%C3%ADrculos.ipynb\" target=\"_parent\"><img src=\"https://colab.research.google.com/assets/colab-badge.svg\" alt=\"Open In Colab\"/></a>"
      ]
    },
    {
      "cell_type": "markdown",
      "metadata": {
        "id": "sV_uH72rWRvE"
      },
      "source": [
        "##Objetivo"
      ]
    },
    {
      "cell_type": "markdown",
      "metadata": {
        "id": "izSG9awCLSpB"
      },
      "source": [
        "Utilizando dataset do arquivo circulos.csv testaremos a clusterização utilizando k-means e DBSCAN.\n",
        "\n",
        "1. Qual é a melhor quantidade de Clusters?\n",
        "2. Qual é a melhor técnica (k-means ou DBSCAN) a ser utilizada nessa clusterização?\n"
      ]
    },
    {
      "cell_type": "markdown",
      "metadata": {
        "id": "7NqZrnHB9P_R"
      },
      "source": [
        "#Importando as bibliotecas"
      ]
    },
    {
      "cell_type": "code",
      "metadata": {
        "id": "dgPcFjoc9KKG"
      },
      "source": [
        "import pandas as pd\n",
        "import numpy as np\n",
        "import sklearn.metrics as sm\n",
        "import matplotlib.pyplot as plt\n",
        "from sklearn.cluster import KMeans\n",
        "from sklearn.cluster import DBSCAN\n",
        "from sklearn.preprocessing import StandardScaler\n",
        "import os"
      ],
      "execution_count": 1,
      "outputs": []
    },
    {
      "cell_type": "markdown",
      "metadata": {
        "id": "6iQDtSAQ_Q99"
      },
      "source": [
        "#Carregando o dataset"
      ]
    },
    {
      "cell_type": "code",
      "metadata": {
        "colab": {
          "base_uri": "https://localhost:8080/"
        },
        "id": "iTUQ2yLMs9Hg",
        "outputId": "4e2417cd-e541-4fe3-a872-d6839a49f214"
      },
      "source": [
        "!git clone https://github.com/douglassesi/MachineLearning"
      ],
      "execution_count": 2,
      "outputs": [
        {
          "output_type": "stream",
          "text": [
            "Cloning into 'MachineLearning'...\n",
            "remote: Enumerating objects: 123, done.\u001b[K\n",
            "remote: Counting objects: 100% (123/123), done.\u001b[K\n",
            "remote: Compressing objects: 100% (116/116), done.\u001b[K\n",
            "remote: Total 123 (delta 44), reused 0 (delta 0), pack-reused 0\u001b[K\n",
            "Receiving objects: 100% (123/123), 408.60 KiB | 2.21 MiB/s, done.\n",
            "Resolving deltas: 100% (44/44), done.\n"
          ],
          "name": "stdout"
        }
      ]
    },
    {
      "cell_type": "code",
      "metadata": {
        "id": "jRZYSPFbs9ru"
      },
      "source": [
        "os.chdir(\"/content/MachineLearning/Clustering/src\")"
      ],
      "execution_count": 3,
      "outputs": []
    },
    {
      "cell_type": "code",
      "metadata": {
        "id": "rzixwThA_W4R"
      },
      "source": [
        "df_circulos =  pd.read_csv('Circulos.csv',encoding=\"UTF-8\", sep=\",\")"
      ],
      "execution_count": 4,
      "outputs": []
    },
    {
      "cell_type": "code",
      "metadata": {
        "id": "WbPe2td-Bfys",
        "colab": {
          "base_uri": "https://localhost:8080/",
          "height": 297
        },
        "outputId": "8de27079-6590-4958-ae65-9a7b6eae5f57"
      },
      "source": [
        "df_circulos.describe()"
      ],
      "execution_count": 5,
      "outputs": [
        {
          "output_type": "execute_result",
          "data": {
            "text/html": [
              "<div>\n",
              "<style scoped>\n",
              "    .dataframe tbody tr th:only-of-type {\n",
              "        vertical-align: middle;\n",
              "    }\n",
              "\n",
              "    .dataframe tbody tr th {\n",
              "        vertical-align: top;\n",
              "    }\n",
              "\n",
              "    .dataframe thead th {\n",
              "        text-align: right;\n",
              "    }\n",
              "</style>\n",
              "<table border=\"1\" class=\"dataframe\">\n",
              "  <thead>\n",
              "    <tr style=\"text-align: right;\">\n",
              "      <th></th>\n",
              "      <th>Unnamed: 0</th>\n",
              "      <th>X</th>\n",
              "      <th>Y</th>\n",
              "    </tr>\n",
              "  </thead>\n",
              "  <tbody>\n",
              "    <tr>\n",
              "      <th>count</th>\n",
              "      <td>1500.000000</td>\n",
              "      <td>1500.000000</td>\n",
              "      <td>1500.000000</td>\n",
              "    </tr>\n",
              "    <tr>\n",
              "      <th>mean</th>\n",
              "      <td>749.500000</td>\n",
              "      <td>-0.000587</td>\n",
              "      <td>0.001474</td>\n",
              "    </tr>\n",
              "    <tr>\n",
              "      <th>std</th>\n",
              "      <td>433.157015</td>\n",
              "      <td>0.559950</td>\n",
              "      <td>0.560877</td>\n",
              "    </tr>\n",
              "    <tr>\n",
              "      <th>min</th>\n",
              "      <td>0.000000</td>\n",
              "      <td>-1.116100</td>\n",
              "      <td>-1.087399</td>\n",
              "    </tr>\n",
              "    <tr>\n",
              "      <th>25%</th>\n",
              "      <td>374.750000</td>\n",
              "      <td>-0.436690</td>\n",
              "      <td>-0.438517</td>\n",
              "    </tr>\n",
              "    <tr>\n",
              "      <th>50%</th>\n",
              "      <td>749.500000</td>\n",
              "      <td>-0.009070</td>\n",
              "      <td>-0.004835</td>\n",
              "    </tr>\n",
              "    <tr>\n",
              "      <th>75%</th>\n",
              "      <td>1124.250000</td>\n",
              "      <td>0.437952</td>\n",
              "      <td>0.444587</td>\n",
              "    </tr>\n",
              "    <tr>\n",
              "      <th>max</th>\n",
              "      <td>1499.000000</td>\n",
              "      <td>1.108098</td>\n",
              "      <td>1.080646</td>\n",
              "    </tr>\n",
              "  </tbody>\n",
              "</table>\n",
              "</div>"
            ],
            "text/plain": [
              "        Unnamed: 0            X            Y\n",
              "count  1500.000000  1500.000000  1500.000000\n",
              "mean    749.500000    -0.000587     0.001474\n",
              "std     433.157015     0.559950     0.560877\n",
              "min       0.000000    -1.116100    -1.087399\n",
              "25%     374.750000    -0.436690    -0.438517\n",
              "50%     749.500000    -0.009070    -0.004835\n",
              "75%    1124.250000     0.437952     0.444587\n",
              "max    1499.000000     1.108098     1.080646"
            ]
          },
          "metadata": {
            "tags": []
          },
          "execution_count": 5
        }
      ]
    },
    {
      "cell_type": "code",
      "metadata": {
        "id": "E2ZhAXw44c4B",
        "colab": {
          "base_uri": "https://localhost:8080/",
          "height": 204
        },
        "outputId": "8e512aee-ba50-4b68-e312-3257cc7fbd87"
      },
      "source": [
        "df_circulos.head()"
      ],
      "execution_count": 6,
      "outputs": [
        {
          "output_type": "execute_result",
          "data": {
            "text/html": [
              "<div>\n",
              "<style scoped>\n",
              "    .dataframe tbody tr th:only-of-type {\n",
              "        vertical-align: middle;\n",
              "    }\n",
              "\n",
              "    .dataframe tbody tr th {\n",
              "        vertical-align: top;\n",
              "    }\n",
              "\n",
              "    .dataframe thead th {\n",
              "        text-align: right;\n",
              "    }\n",
              "</style>\n",
              "<table border=\"1\" class=\"dataframe\">\n",
              "  <thead>\n",
              "    <tr style=\"text-align: right;\">\n",
              "      <th></th>\n",
              "      <th>Unnamed: 0</th>\n",
              "      <th>X</th>\n",
              "      <th>Y</th>\n",
              "    </tr>\n",
              "  </thead>\n",
              "  <tbody>\n",
              "    <tr>\n",
              "      <th>0</th>\n",
              "      <td>0</td>\n",
              "      <td>-0.262199</td>\n",
              "      <td>0.456958</td>\n",
              "    </tr>\n",
              "    <tr>\n",
              "      <th>1</th>\n",
              "      <td>1</td>\n",
              "      <td>-0.955271</td>\n",
              "      <td>-0.377646</td>\n",
              "    </tr>\n",
              "    <tr>\n",
              "      <th>2</th>\n",
              "      <td>2</td>\n",
              "      <td>0.119759</td>\n",
              "      <td>1.004204</td>\n",
              "    </tr>\n",
              "    <tr>\n",
              "      <th>3</th>\n",
              "      <td>3</td>\n",
              "      <td>-0.817525</td>\n",
              "      <td>-0.636813</td>\n",
              "    </tr>\n",
              "    <tr>\n",
              "      <th>4</th>\n",
              "      <td>4</td>\n",
              "      <td>0.341931</td>\n",
              "      <td>0.408966</td>\n",
              "    </tr>\n",
              "  </tbody>\n",
              "</table>\n",
              "</div>"
            ],
            "text/plain": [
              "   Unnamed: 0         X         Y\n",
              "0           0 -0.262199  0.456958\n",
              "1           1 -0.955271 -0.377646\n",
              "2           2  0.119759  1.004204\n",
              "3           3 -0.817525 -0.636813\n",
              "4           4  0.341931  0.408966"
            ]
          },
          "metadata": {
            "tags": []
          },
          "execution_count": 6
        }
      ]
    },
    {
      "cell_type": "code",
      "metadata": {
        "id": "GtqXw88G6Y_6"
      },
      "source": [
        "df_circulos_kmeans = df_circulos[[\"X\",\"Y\"]]"
      ],
      "execution_count": 7,
      "outputs": []
    },
    {
      "cell_type": "markdown",
      "metadata": {
        "id": "NqmpH8twKV6y"
      },
      "source": [
        "#Encontrando a melhor quantidade de clusters para o modelo"
      ]
    },
    {
      "cell_type": "code",
      "metadata": {
        "id": "kAZwVzCcH4ps"
      },
      "source": [
        "inertias =[]\n",
        "for i in range(1, 15):\n",
        "    kmeans = KMeans(n_clusters = i, max_iter=100).fit(df_circulos_kmeans)    \n",
        "    #somatório dos erros quadráticos das instâncias de cada cluster\n",
        "    inertias.append(kmeans.inertia_)"
      ],
      "execution_count": 8,
      "outputs": []
    },
    {
      "cell_type": "code",
      "metadata": {
        "id": "FZdaWq1KIATO",
        "colab": {
          "base_uri": "https://localhost:8080/",
          "height": 295
        },
        "outputId": "0e41c16f-8489-4296-f7e8-44f0e69fd0ab"
      },
      "source": [
        "plt.figure(1)\n",
        "plt.plot(range(1,15),inertias)\n",
        "plt.title('O Metodo Elbow')\n",
        "plt.xlabel('No de clusters')\n",
        "plt.ylabel('WSS - within cluster sum of squares')\n",
        "plt.show()"
      ],
      "execution_count": 9,
      "outputs": [
        {
          "output_type": "display_data",
          "data": {
            "image/png": "[encoded data removed]",
            "text/plain": [
              "<Figure size 432x288 with 1 Axes>"
            ]
          },
          "metadata": {
            "tags": [],
            "needs_background": "light"
          }
        }
      ]
    },
    {
      "cell_type": "markdown",
      "metadata": {
        "id": "uqavWf3CK_hr"
      },
      "source": [
        "Vamos tentar utilizar 4 clusters para esse caso."
      ]
    },
    {
      "cell_type": "markdown",
      "metadata": {
        "id": "U61zt5AtKGBs"
      },
      "source": [
        "#Trabalhando com K-Means\n"
      ]
    },
    {
      "cell_type": "markdown",
      "metadata": {
        "id": "qnPXKCZqXP4d"
      },
      "source": [
        "##Preparação"
      ]
    },
    {
      "cell_type": "code",
      "metadata": {
        "id": "m-3hffn3IUrB"
      },
      "source": [
        "kmeans4 = KMeans(n_clusters=4) #quantidade de clusters para simular"
      ],
      "execution_count": 10,
      "outputs": []
    },
    {
      "cell_type": "markdown",
      "metadata": {
        "id": "e2WAYfUpXUl6"
      },
      "source": [
        "##Aplicação"
      ]
    },
    {
      "cell_type": "code",
      "metadata": {
        "id": "s1uVcZFvLXa1",
        "colab": {
          "base_uri": "https://localhost:8080/"
        },
        "outputId": "f82ac26e-43cb-4251-c65c-b76dac8d8af0"
      },
      "source": [
        "kmeans4.fit(df_circulos_kmeans) #aplicação do kmeans no dataset"
      ],
      "execution_count": 11,
      "outputs": [
        {
          "output_type": "execute_result",
          "data": {
            "text/plain": [
              "KMeans(algorithm='auto', copy_x=True, init='k-means++', max_iter=300,\n",
              "       n_clusters=4, n_init=10, n_jobs=None, precompute_distances='auto',\n",
              "       random_state=None, tol=0.0001, verbose=0)"
            ]
          },
          "metadata": {
            "tags": []
          },
          "execution_count": 11
        }
      ]
    },
    {
      "cell_type": "code",
      "metadata": {
        "id": "yZFojRAdPkeN"
      },
      "source": [
        "df_circulos_kmeans[\"cluster\"] = kmeans4.labels_ #inclusão dos clusters determinados no dataset"
      ],
      "execution_count": 12,
      "outputs": []
    },
    {
      "cell_type": "markdown",
      "metadata": {
        "id": "9iEreIRqXGpV"
      },
      "source": [
        "##Plotagem da clusterização - Kmeans"
      ]
    },
    {
      "cell_type": "code",
      "metadata": {
        "id": "y-JvpvylLYNz",
        "colab": {
          "base_uri": "https://localhost:8080/",
          "height": 298
        },
        "outputId": "c003edba-668d-4846-e6c3-cc584a7fd982"
      },
      "source": [
        "plt.scatter(df_circulos_kmeans.X,df_circulos_kmeans.Y,c=df_circulos_kmeans.cluster, s=100)\n",
        "plt.scatter(kmeans4.cluster_centers_[:,0],kmeans4.cluster_centers_[:,1],s=100,c='black',label=\"Centroids\",marker='+')\n",
        "plt.title(\"K-Means - circulos\")\n"
      ],
      "execution_count": 13,
      "outputs": [
        {
          "output_type": "execute_result",
          "data": {
            "text/plain": [
              "Text(0.5, 1.0, 'K-Means - circulos')"
            ]
          },
          "metadata": {
            "tags": []
          },
          "execution_count": 13
        },
        {
          "output_type": "display_data",
          "data": {
            "image/png": "[encoded data removed]",
            "text/plain": [
              "<Figure size 432x288 with 1 Axes>"
            ]
          },
          "metadata": {
            "tags": [],
            "needs_background": "light"
          }
        }
      ]
    },
    {
      "cell_type": "markdown",
      "metadata": {
        "id": "OLNFw3TiVPVx"
      },
      "source": [
        "#Tralhando com DBSCAN"
      ]
    },
    {
      "cell_type": "markdown",
      "metadata": {
        "id": "0oLV0EHsaYq2"
      },
      "source": [
        "##Preparação"
      ]
    },
    {
      "cell_type": "code",
      "metadata": {
        "id": "6cNqzFzv-deD"
      },
      "source": [
        "df_circulos_dbscan = df_circulos[[\"X\",\"Y\"]]"
      ],
      "execution_count": 14,
      "outputs": []
    },
    {
      "cell_type": "markdown",
      "metadata": {
        "id": "hrGBjWkQaxry"
      },
      "source": [
        "##Normalização dos dados"
      ]
    },
    {
      "cell_type": "code",
      "metadata": {
        "id": "n2yA23SoWXcK"
      },
      "source": [
        "SS = StandardScaler().fit_transform(df_circulos_dbscan)"
      ],
      "execution_count": 15,
      "outputs": []
    },
    {
      "cell_type": "markdown",
      "metadata": {
        "id": "uDOOiY0ka3zG"
      },
      "source": [
        "##Aplicação DBSCAN"
      ]
    },
    {
      "cell_type": "code",
      "metadata": {
        "id": "_AF8K88zYSlh",
        "colab": {
          "base_uri": "https://localhost:8080/"
        },
        "outputId": "7dffac18-3822-402f-cc17-e8fb76d6bcd1"
      },
      "source": [
        "db = DBSCAN(eps=0.23,min_samples=5).fit(SS)\n",
        "print(db.labels_)"
      ],
      "execution_count": 16,
      "outputs": [
        {
          "output_type": "stream",
          "text": [
            "[0 1 1 ... 0 0 0]\n"
          ],
          "name": "stdout"
        }
      ]
    },
    {
      "cell_type": "markdown",
      "metadata": {
        "id": "8ebHvtf2a_Dc"
      },
      "source": [
        "##Plotagem da clusterização - DBSCAN"
      ]
    },
    {
      "cell_type": "code",
      "metadata": {
        "id": "-ULAOiWXZvNx"
      },
      "source": [
        "df_circulos_dbscan['cluster'] = db.labels_ #inclusão do número do cluster no dataset"
      ],
      "execution_count": 17,
      "outputs": []
    },
    {
      "cell_type": "code",
      "metadata": {
        "id": "spPXyXggY5C9",
        "colab": {
          "base_uri": "https://localhost:8080/",
          "height": 312
        },
        "outputId": "a65ccc54-ecb2-4a13-85e0-bfbb44c10a66"
      },
      "source": [
        "plt.scatter(df_circulos_dbscan.X,df_circulos_dbscan.Y, c=df_circulos_dbscan.cluster, s=100)\n",
        "plt.title(\"DBSCAN - circulos\")\n",
        "plt.xlabel('TempoMedio')\n",
        "plt.ylabel('Quantidades')"
      ],
      "execution_count": 19,
      "outputs": [
        {
          "output_type": "execute_result",
          "data": {
            "text/plain": [
              "Text(0, 0.5, 'Quantidades')"
            ]
          },
          "metadata": {
            "tags": []
          },
          "execution_count": 19
        },
        {
          "output_type": "display_data",
          "data": {
            "image/png": "[encoded data removed]",
            "text/plain": [
              "<Figure size 432x288 with 1 Axes>"
            ]
          },
          "metadata": {
            "tags": [],
            "needs_background": "light"
          }
        }
      ]
    },
    {
      "cell_type": "markdown",
      "metadata": {
        "id": "SaUdjm05byg-"
      },
      "source": [
        "Apesar da análise de cluster sugerir 4, quando comparamos os resultados de KMEANS e DBSCAN, vemos uma clusterização mais aderente ao problema no DBSCAN utilizando 2 clusters."
      ]
    },
    {
      "cell_type": "markdown",
      "metadata": {
        "id": "fbKoDJwzdRgA"
      },
      "source": [
        "#Respostas\n",
        "\n",
        "\n",
        "\n",
        "1. Qual é a melhor quantidade de Clusters?\n",
        "    **2**\n",
        "2. Qual é a melhor técnica (k-means ou DBSCAN) a ser utilizada nessa clusterização?\n",
        "    **DBSCAN**"
      ]
    }
  ]
}